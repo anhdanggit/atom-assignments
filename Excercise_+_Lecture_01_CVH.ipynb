{
  "nbformat": 4,
  "nbformat_minor": 0,
  "metadata": {
    "colab": {
      "name": "Excercise + Lecture #01_CVH.ipynb",
      "provenance": [],
      "include_colab_link": true
    },
    "kernelspec": {
      "name": "python3",
      "display_name": "Python 3"
    },
    "language_info": {
      "name": "python"
    }
  },
  "cells": [
    {
      "cell_type": "markdown",
      "metadata": {
        "id": "view-in-github",
        "colab_type": "text"
      },
      "source": [
        "<a href=\"https://colab.research.google.com/github/chuviethongfpt/atom-assignments/blob/main/Excercise_%2B_Lecture_01_CVH.ipynb\" target=\"_parent\"><img src=\"https://colab.research.google.com/assets/colab-badge.svg\" alt=\"Open In Colab\"/></a>"
      ]
    },
    {
      "cell_type": "markdown",
      "metadata": {
        "id": "Kne7GhcekDI9"
      },
      "source": [
        "# Exercise 01 - Syntax, Variables and Numbers\n"
      ]
    },
    {
      "cell_type": "code",
      "metadata": {
        "colab": {
          "base_uri": "https://localhost:8080/"
        },
        "id": "Adkgpr7xkHvI",
        "outputId": "81d65c55-d0cf-4c9f-a5d7-c3a933e43559"
      },
      "source": [
        "print(\"You've successfully run some Python code\")\n",
        "print(\"Congratulations!\")"
      ],
      "execution_count": null,
      "outputs": [
        {
          "output_type": "stream",
          "text": [
            "You've successfully run some Python code\n",
            "Congratulations!\n"
          ],
          "name": "stdout"
        }
      ]
    },
    {
      "cell_type": "markdown",
      "metadata": {
        "id": "WvtfrBldlsJQ"
      },
      "source": [
        "# 0.Creating a Variable\n",
        "\n",
        "\n"
      ]
    },
    {
      "cell_type": "code",
      "metadata": {
        "id": "WsDEXgbBl19G"
      },
      "source": [
        "# Create a variable called color with an appropriate value on the line below\n",
        "# (Remember, strings in Python must be enclosed in 'single' or \"double\" quotes)\n"
      ],
      "execution_count": null,
      "outputs": []
    },
    {
      "cell_type": "markdown",
      "metadata": {
        "id": "ooN0eL2xmDql"
      },
      "source": [
        "# 1.Simple Arithmetic Operation"
      ]
    },
    {
      "cell_type": "code",
      "metadata": {
        "colab": {
          "base_uri": "https://localhost:8080/"
        },
        "id": "fIqBK33Ql5Ud",
        "outputId": "0f41e5e2-75f5-462a-92fa-cc631d2eb560"
      },
      "source": [
        "pi = 3.14159 # approximate\n",
        "diameter = 3\n",
        "Area = pi*(diameter/2)**2\n",
        "print(\"Area= \",Area)"
      ],
      "execution_count": null,
      "outputs": [
        {
          "output_type": "stream",
          "text": [
            "Area=  7.0685775\n"
          ],
          "name": "stdout"
        }
      ]
    },
    {
      "cell_type": "markdown",
      "metadata": {
        "id": "I50RDQOunks6"
      },
      "source": [
        "# 2.Variable Reassignment"
      ]
    },
    {
      "cell_type": "code",
      "metadata": {
        "colab": {
          "base_uri": "https://localhost:8080/"
        },
        "id": "A64HNxuzmUg-",
        "outputId": "89847966-07a3-4b8d-b2e7-2142ec2092ad"
      },
      "source": [
        "# If you're curious, these are examples of lists. We'll talk about \n",
        "# them in depth a few lessons from now. For now, just know that they're\n",
        "# yet another type of Python object, like int or float.\n",
        "import numpy as np\n",
        "a = np.array([1, 2, 3])\n",
        "b = np.array([3, 2, 1])\n",
        "c = np.array([3, 1, 1/3])\n",
        "\n",
        "print(\"a = \")\n",
        "print(a*c)\n",
        "print(\"b = \")\n",
        "print(b/c)"
      ],
      "execution_count": null,
      "outputs": [
        {
          "output_type": "stream",
          "text": [
            "a = \n",
            "[3. 2. 1.]\n",
            "b = \n",
            "[1. 2. 3.]\n"
          ],
          "name": "stdout"
        }
      ]
    },
    {
      "cell_type": "markdown",
      "metadata": {
        "id": "-UOptPlPqf6z"
      },
      "source": [
        "# 3.Order of Operations"
      ]
    },
    {
      "cell_type": "code",
      "metadata": {
        "colab": {
          "base_uri": "https://localhost:8080/"
        },
        "id": "q8Ru-96Apt7Q",
        "outputId": "fdb50af1-5a07-4e65-f8bb-a250af5ba61c"
      },
      "source": [
        "h1 = (5-3)//2\n",
        "print(\"h1 = \",h1)"
      ],
      "execution_count": null,
      "outputs": [
        {
          "output_type": "stream",
          "text": [
            "h1 =  1\n"
          ],
          "name": "stdout"
        }
      ]
    },
    {
      "cell_type": "code",
      "metadata": {
        "colab": {
          "base_uri": "https://localhost:8080/"
        },
        "id": "7nTydGA1q1a3",
        "outputId": "d661691e-4a18-4f4f-dad5-b7309555906a"
      },
      "source": [
        "h2 = 8 - 3 * 2 - 1 + 1\n",
        "print(\"h2 = \",h2)"
      ],
      "execution_count": null,
      "outputs": [
        {
          "output_type": "stream",
          "text": [
            "h2 =  10\n"
          ],
          "name": "stdout"
        }
      ]
    },
    {
      "cell_type": "markdown",
      "metadata": {
        "id": "o4-8fQvyuIe5"
      },
      "source": [
        "# 4.Your Turn"
      ]
    },
    {
      "cell_type": "code",
      "metadata": {
        "colab": {
          "base_uri": "https://localhost:8080/"
        },
        "id": "87EW6h1VrIBX",
        "outputId": "39fdea99-44de-4618-ea23-232c3d8b357c"
      },
      "source": [
        "alice_candies = 121\n",
        "bob_candies = 77\n",
        "carol_candies = 109\n",
        "to_smash = ((alice_candies/2) - carol_candies + (bob_candies/2))/10\n",
        "print('to_smash = ',to_smash)"
      ],
      "execution_count": null,
      "outputs": [
        {
          "output_type": "stream",
          "text": [
            "to_smash =  -1.0\n"
          ],
          "name": "stdout"
        }
      ]
    },
    {
      "cell_type": "markdown",
      "metadata": {
        "id": "Vs_qdzu6x4Li"
      },
      "source": [
        "# Lecture 01 - Hello Python!"
      ]
    },
    {
      "cell_type": "code",
      "metadata": {
        "colab": {
          "base_uri": "https://localhost:8080/"
        },
        "id": "QHbPsaHZxgDi",
        "outputId": "37bb12f4-8995-4944-cff1-f0688e9d4aa5"
      },
      "source": [
        "course_amount = 0\n",
        "print(course_amount)\n",
        "\n",
        "course_amount = course_amount + 4\n",
        "\n",
        "if course_amount > 0:\n",
        "    print(\"I registered DataCracy program!\")"
      ],
      "execution_count": null,
      "outputs": [
        {
          "output_type": "stream",
          "text": [
            "0\n",
            "I registered DataCracy program!\n"
          ],
          "name": "stdout"
        }
      ]
    },
    {
      "cell_type": "code",
      "metadata": {
        "id": "E7rZNiK-x9xN"
      },
      "source": [
        "course_amount = 0"
      ],
      "execution_count": null,
      "outputs": []
    },
    {
      "cell_type": "code",
      "metadata": {
        "colab": {
          "base_uri": "https://localhost:8080/"
        },
        "id": "UWisNtiAyJKv",
        "outputId": "03d510f8-ed73-4722-fbac-79f41f8b4dc2"
      },
      "source": [
        "print(course_amount)"
      ],
      "execution_count": null,
      "outputs": [
        {
          "output_type": "stream",
          "text": [
            "0\n"
          ],
          "name": "stdout"
        }
      ]
    },
    {
      "cell_type": "code",
      "metadata": {
        "id": "Wye5ysY7yuiY"
      },
      "source": [
        "course_amount = course_amount + 4"
      ],
      "execution_count": null,
      "outputs": []
    },
    {
      "cell_type": "code",
      "metadata": {
        "colab": {
          "base_uri": "https://localhost:8080/"
        },
        "id": "DEQVpBmOyxnj",
        "outputId": "070e52c2-6f7c-4ab2-e37e-d44da04a25cb"
      },
      "source": [
        "if course_amount > 0:\n",
        "     print(\"I registered DataCracy program!\")\n",
        "        \n",
        "datacracy_origin = \"Data and Democracy!\"\n",
        "print(datacracy_origin)"
      ],
      "execution_count": null,
      "outputs": [
        {
          "output_type": "stream",
          "text": [
            "I registered DataCracy program!\n",
            "Data and Democracy!\n"
          ],
          "name": "stdout"
        }
      ]
    },
    {
      "cell_type": "code",
      "metadata": {
        "colab": {
          "base_uri": "https://localhost:8080/"
        },
        "id": "GwqQBnviy0dn",
        "outputId": "1c08d068-068f-4681-8077-58eed160b02c"
      },
      "source": [
        "course_amount = 0\n",
        "type(course_amount)"
      ],
      "execution_count": null,
      "outputs": [
        {
          "output_type": "execute_result",
          "data": {
            "text/plain": [
              "int"
            ]
          },
          "metadata": {
            "tags": []
          },
          "execution_count": 25
        }
      ]
    },
    {
      "cell_type": "code",
      "metadata": {
        "colab": {
          "base_uri": "https://localhost:8080/"
        },
        "id": "9p7HOd0wy3Gw",
        "outputId": "ea0b6260-b7ee-4a91-d846-4666599084eb"
      },
      "source": [
        "type(19.95)"
      ],
      "execution_count": null,
      "outputs": [
        {
          "output_type": "execute_result",
          "data": {
            "text/plain": [
              "float"
            ]
          },
          "metadata": {
            "tags": []
          },
          "execution_count": 26
        }
      ]
    },
    {
      "cell_type": "code",
      "metadata": {
        "colab": {
          "base_uri": "https://localhost:8080/"
        },
        "id": "7dWtWokozA08",
        "outputId": "dd5693a8-c8a1-40d4-b75d-a37f1deb4a7d"
      },
      "source": [
        "print(5 / 2)\n",
        "print(6 / 2)"
      ],
      "execution_count": null,
      "outputs": [
        {
          "output_type": "stream",
          "text": [
            "2.5\n",
            "3.0\n"
          ],
          "name": "stdout"
        }
      ]
    },
    {
      "cell_type": "code",
      "metadata": {
        "colab": {
          "base_uri": "https://localhost:8080/"
        },
        "id": "pjrqDII_zK5M",
        "outputId": "dd102359-14b0-4070-ee16-a36a1569ec6b"
      },
      "source": [
        "print(5 // 2)\n",
        "print(6 // 2)"
      ],
      "execution_count": null,
      "outputs": [
        {
          "output_type": "stream",
          "text": [
            "2\n",
            "3\n"
          ],
          "name": "stdout"
        }
      ]
    },
    {
      "cell_type": "markdown",
      "metadata": {
        "id": "41bfJc9r0VGG"
      },
      "source": [
        "# Order of Operations"
      ]
    },
    {
      "cell_type": "markdown",
      "metadata": {
        "id": "q-3nnjj00ZCX"
      },
      "source": [
        "The arithmetic we learned in primary school has conventions about the order in which operations are evaluated. Some remember these by a mnemonic such as\n",
        "\n",
        "*  PEMDAS - Parentheses, Exponents, Multiplication/Division, Addition/Subtraction.\n",
        "\n",
        "Python follows similar rules about which calculations to perform first. They're mostly pretty intuitive."
      ]
    },
    {
      "cell_type": "code",
      "metadata": {
        "colab": {
          "base_uri": "https://localhost:8080/"
        },
        "id": "T6C9RtT5zPke",
        "outputId": "f1755ba2-12b6-4527-addc-82a3ba91c22e"
      },
      "source": [
        "h3 = 8- 3 + 2\n",
        "print(\"h3 = \",h3)"
      ],
      "execution_count": null,
      "outputs": [
        {
          "output_type": "stream",
          "text": [
            "h3 =  7\n"
          ],
          "name": "stdout"
        }
      ]
    },
    {
      "cell_type": "code",
      "metadata": {
        "colab": {
          "base_uri": "https://localhost:8080/"
        },
        "id": "uaN0ffvKzSMI",
        "outputId": "0064b52c-b5df-4aab-e7ac-1be6d131d2e0"
      },
      "source": [
        "h4 = -3 + 4 * 2\n",
        "print(\"h4 = \",h4)"
      ],
      "execution_count": null,
      "outputs": [
        {
          "output_type": "stream",
          "text": [
            "h4 =  5\n"
          ],
          "name": "stdout"
        }
      ]
    },
    {
      "cell_type": "markdown",
      "metadata": {
        "id": "JS9StH6w0nGi"
      },
      "source": [
        "Sometimes the default order of operations isn't what we want:\n",
        "\n",
        "Parentheses () are your useful here. You can add them to force Python to evaluate sub-expressions in whatever order you want."
      ]
    },
    {
      "cell_type": "code",
      "metadata": {
        "colab": {
          "base_uri": "https://localhost:8080/"
        },
        "id": "QYmxNceEzeq8",
        "outputId": "3db87794-27d1-45ab-a2a8-bf33e5971712"
      },
      "source": [
        "hat_height_cm = 5\n",
        "my_height_cm = 160\n",
        "\n",
        "# How tall am I, in meters, when wearing my hat?\n",
        "total_height_meters = (hat_height_cm + my_height_cm) / 100\n",
        "print(\"Height in meters =\", total_height_meters)"
      ],
      "execution_count": null,
      "outputs": [
        {
          "output_type": "stream",
          "text": [
            "Height in meters = 1.65 ?\n"
          ],
          "name": "stdout"
        }
      ]
    },
    {
      "cell_type": "markdown",
      "metadata": {
        "id": "6WkPtk6a0vhP"
      },
      "source": [
        "# Built-in Functions for Working with Numbers"
      ]
    },
    {
      "cell_type": "code",
      "metadata": {
        "colab": {
          "base_uri": "https://localhost:8080/"
        },
        "id": "NStpk_qM0G6v",
        "outputId": "aae4c2e3-b7cd-40e5-8b6c-507366110212"
      },
      "source": [
        "print(min(1, 2, 3))\n",
        "print(max(1, 2, 3))"
      ],
      "execution_count": null,
      "outputs": [
        {
          "output_type": "stream",
          "text": [
            "1\n",
            "3\n"
          ],
          "name": "stdout"
        }
      ]
    },
    {
      "cell_type": "code",
      "metadata": {
        "colab": {
          "base_uri": "https://localhost:8080/"
        },
        "id": "I074Q1y9003w",
        "outputId": "cd6c90e4-b9c3-4d64-d9c6-63043357860f"
      },
      "source": [
        "print(abs(32))\n",
        "print(abs(-32))"
      ],
      "execution_count": null,
      "outputs": [
        {
          "output_type": "stream",
          "text": [
            "32\n",
            "32\n"
          ],
          "name": "stdout"
        }
      ]
    },
    {
      "cell_type": "code",
      "metadata": {
        "colab": {
          "base_uri": "https://localhost:8080/"
        },
        "id": "QcFjD0qE08eM",
        "outputId": "7a8d9202-5d0c-4e01-cd4a-8a942ff56e22"
      },
      "source": [
        "print(float(10))\n",
        "print(int(3.33))\n",
        "# They can even be called on strings!\n",
        "print(int('807') + 1)"
      ],
      "execution_count": null,
      "outputs": [
        {
          "output_type": "stream",
          "text": [
            "10.0\n",
            "3\n",
            "808\n"
          ],
          "name": "stdout"
        }
      ]
    }
  ]
}
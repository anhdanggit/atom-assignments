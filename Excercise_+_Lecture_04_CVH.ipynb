{
  "nbformat": 4,
  "nbformat_minor": 0,
  "metadata": {
    "colab": {
      "name": "Excercise + Lecture #04_CVH.ipynb",
      "provenance": [],
      "toc_visible": true,
      "authorship_tag": "ABX9TyM1CLM+C38/PMp/3qiA8UJf",
      "include_colab_link": true
    },
    "kernelspec": {
      "name": "python3",
      "display_name": "Python 3"
    },
    "language_info": {
      "name": "python"
    }
  },
  "cells": [
    {
      "cell_type": "markdown",
      "metadata": {
        "id": "view-in-github",
        "colab_type": "text"
      },
      "source": [
        "<a href=\"https://colab.research.google.com/github/chuviethongfpt/atom-assignments/blob/main/Excercise_%2B_Lecture_04_CVH.ipynb\" target=\"_parent\"><img src=\"https://colab.research.google.com/assets/colab-badge.svg\" alt=\"Open In Colab\"/></a>"
      ]
    },
    {
      "cell_type": "markdown",
      "metadata": {
        "id": "trgsnRAJx-9G"
      },
      "source": [
        "# Exercises 04 - Lists"
      ]
    },
    {
      "cell_type": "markdown",
      "metadata": {
        "id": "7sXLyy9byCh3"
      },
      "source": [
        "# 1.Second Element\n",
        "Complete the function below according to its docstring.\n",
        "\n",
        "HINT: Python starts counting at 0."
      ]
    },
    {
      "cell_type": "code",
      "metadata": {
        "id": "69Mfv6CCxdec"
      },
      "source": [
        "def select_second(L):\n",
        "    \"\"\"Return the second element of the given list. \n",
        "    If the list has no second element, return None.\n",
        "    \"\"\"\n",
        "    pass\n",
        "    if len(L) < 2:\n",
        "        return None\n",
        "    else:\n",
        "        return L[1]"
      ],
      "execution_count": null,
      "outputs": []
    },
    {
      "cell_type": "code",
      "metadata": {
        "id": "lfkB0VDn2CLg"
      },
      "source": [
        "def select_second(L):\n",
        "    if len(L) < 2:\n",
        "        return None\n",
        "    return L[1]"
      ],
      "execution_count": null,
      "outputs": []
    },
    {
      "cell_type": "code",
      "metadata": {
        "id": "iJV_8avNyUYc"
      },
      "source": [
        "L=[2]\n",
        "select_second(L)"
      ],
      "execution_count": null,
      "outputs": []
    },
    {
      "cell_type": "code",
      "metadata": {
        "colab": {
          "base_uri": "https://localhost:8080/"
        },
        "id": "4hJagHTa76Wn",
        "outputId": "4f9b19c9-9e84-4ba5-af6b-5035497f27a6"
      },
      "source": [
        "L=[2,(1,2,3)]\n",
        "select_second(L)"
      ],
      "execution_count": null,
      "outputs": [
        {
          "output_type": "execute_result",
          "data": {
            "text/plain": [
              "(1, 2, 3)"
            ]
          },
          "metadata": {
            "tags": []
          },
          "execution_count": 26
        }
      ]
    },
    {
      "cell_type": "markdown",
      "metadata": {
        "id": "usbkrgxp8DlA"
      },
      "source": [
        "# 2.Captain of the Worst Team\n",
        "You are analyzing sports teams. Members of each team are stored in a list. The Coach is the first name in the list, the Captain is the second name in the list, and other players are listed after that. These lists are stored in another list, which starts with the best team and proceeds through the list to the worst team last. Complete the function below to select the captain of the worst team."
      ]
    },
    {
      "cell_type": "code",
      "metadata": {
        "id": "GJfImolRyWSm"
      },
      "source": [
        "def losing_team_captain(teams):\n",
        "    \"\"\"Given a list of teams, where each team is a list of names, return the 2nd player (captain)\n",
        "    from the last listed team\n",
        "    \"\"\"\n",
        "    pass\n",
        "    return teams[-1][1]\n"
      ],
      "execution_count": null,
      "outputs": []
    },
    {
      "cell_type": "code",
      "metadata": {
        "colab": {
          "base_uri": "https://localhost:8080/",
          "height": 35
        },
        "id": "wJhDNO8B9Dlu",
        "outputId": "68a6388a-9a0c-4d12-a548-a77262ec4afb"
      },
      "source": [
        "teams=[(\"Jack\",\"Tom\",\"Jerry\",\"Nobita\"),\n",
        "       (\"Tommy\",\"Chaien\",\"Xeko\",\"Dekhi\"),\n",
        "       (\"Conan\",\"Hanna\",\"Holly\",\"Sakura\"),\n",
        "       (\"Doraemi\",\"Noel\",\"Yellow\",\"Purple\",\"Rosie\")]\n",
        "losing_team_captain(teams)"
      ],
      "execution_count": null,
      "outputs": [
        {
          "output_type": "execute_result",
          "data": {
            "application/vnd.google.colaboratory.intrinsic+json": {
              "type": "string"
            },
            "text/plain": [
              "'Noel'"
            ]
          },
          "metadata": {
            "tags": []
          },
          "execution_count": 42
        }
      ]
    },
    {
      "cell_type": "markdown",
      "metadata": {
        "id": "AaxORNv2BRp-"
      },
      "source": [
        "# 3.Purple Shell item\n",
        "The next iteration of Mario Kart will feature an extra-infuriating new item, the Purple Shell. When used, it warps the last place racer into first place and the first place racer into last place. Complete the function below to implement the Purple Shell's effect."
      ]
    },
    {
      "cell_type": "code",
      "metadata": {
        "id": "foepxLfSBM_2"
      },
      "source": [
        "def purple_shell(racers):\n",
        "    \"\"\"Given a list of racers, set the first place racer (at the front of the list) to last\n",
        "    place and vice versa.\n",
        "    \n",
        "    >>> r = [\"Mario\", \"Bowser\", \"Luigi\"]\n",
        "    >>> purple_shell(r)\n",
        "    >>> r\n",
        "    [\"Luigi\", \"Bowser\", \"Mario\"]\n",
        "    \"\"\"\n",
        "    temp = racers[0]\n",
        "    racers[0] = racers[-1]\n",
        "    racers[-1] = temp\n",
        "    pass"
      ],
      "execution_count": null,
      "outputs": []
    },
    {
      "cell_type": "code",
      "metadata": {
        "id": "9h_7PXBLBvf1"
      },
      "source": [
        "racers=[\"Jack\",\"Tom\",\"Jerry\",\"Nobita\"]\n",
        "purple_shell(racers)"
      ],
      "execution_count": null,
      "outputs": []
    },
    {
      "cell_type": "markdown",
      "metadata": {
        "id": "tmyqD3aJDxZY"
      },
      "source": [
        "# 4.Guess the Length!\n",
        "What are the lengths of the following lists? Fill in the variable lengths with your predictions. (Try to make a prediction for each list without just calling len() on it.)"
      ]
    },
    {
      "cell_type": "code",
      "metadata": {
        "id": "YwyLlFQdDvvI"
      },
      "source": [
        "a = [1, 2, 3]\n",
        "b = [1, [2, 3]]\n",
        "c = []\n",
        "d = [1, 2, 3][1:]\n",
        "\n",
        "# Put your predictions in the list below. Lengths should contain 4 numbers, the\n",
        "# first being the length of a, the second being the length of b and so on.\n",
        "lengths = [3,2,0,2]"
      ],
      "execution_count": null,
      "outputs": []
    },
    {
      "cell_type": "code",
      "metadata": {
        "colab": {
          "base_uri": "https://localhost:8080/"
        },
        "id": "odUrO8dID7mE",
        "outputId": "f05528c2-efe3-4e19-e346-24c630ee647f"
      },
      "source": [
        "a = [1, 2, 3]\n",
        "len(a)"
      ],
      "execution_count": null,
      "outputs": [
        {
          "output_type": "execute_result",
          "data": {
            "text/plain": [
              "3"
            ]
          },
          "metadata": {
            "tags": []
          },
          "execution_count": 59
        }
      ]
    },
    {
      "cell_type": "code",
      "metadata": {
        "colab": {
          "base_uri": "https://localhost:8080/"
        },
        "id": "EKqCUIpXEqpL",
        "outputId": "05f49313-9315-4f7f-a398-8add1c7aa7f0"
      },
      "source": [
        "b = [1, [2, 3]]\n",
        "len(b)"
      ],
      "execution_count": null,
      "outputs": [
        {
          "output_type": "execute_result",
          "data": {
            "text/plain": [
              "2"
            ]
          },
          "metadata": {
            "tags": []
          },
          "execution_count": 60
        }
      ]
    },
    {
      "cell_type": "code",
      "metadata": {
        "colab": {
          "base_uri": "https://localhost:8080/"
        },
        "id": "CYD29utTEvD3",
        "outputId": "b9c1fb77-6c22-4bb7-b026-364853c34048"
      },
      "source": [
        "c = []\n",
        "len(c)"
      ],
      "execution_count": null,
      "outputs": [
        {
          "output_type": "execute_result",
          "data": {
            "text/plain": [
              "0"
            ]
          },
          "metadata": {
            "tags": []
          },
          "execution_count": 62
        }
      ]
    },
    {
      "cell_type": "code",
      "metadata": {
        "colab": {
          "base_uri": "https://localhost:8080/"
        },
        "id": "qVvlBbFBH9Mx",
        "outputId": "ea894d57-c9f5-43ce-abee-da78d3db7855"
      },
      "source": [
        "d = [1, 2, 3][1:]\n",
        "len(d)"
      ],
      "execution_count": null,
      "outputs": [
        {
          "output_type": "execute_result",
          "data": {
            "text/plain": [
              "2"
            ]
          },
          "metadata": {
            "tags": []
          },
          "execution_count": 63
        }
      ]
    },
    {
      "cell_type": "markdown",
      "metadata": {
        "id": "qH4jG9C6IM12"
      },
      "source": [
        "# 5.Fashionably Late 🌶️\n",
        "We're using lists to record people who attended our party and what order they arrived in. For example, the following list represents a party with 7 guests, in which Adela showed up first and Ford was the last to arrive:\n",
        "\n",
        "party_attendees = ['Adela', 'Fleda', 'Owen', 'May', 'Mona', 'Gilbert', 'Ford']\n",
        "A guest is considered 'fashionably late' if they arrived after at least half of the party's guests. However, they must not be the very last guest (that's taking it too far). In the above example, Mona and Gilbert are the only guests who were fashionably late.\n",
        "\n",
        "Complete the function below which takes a list of party attendees as well as a person, and tells us whether that person is fashionably late."
      ]
    },
    {
      "cell_type": "code",
      "metadata": {
        "id": "XIHpUBBjIEpK"
      },
      "source": [
        "def fashionably_late(arrivals, name):\n",
        "    \"\"\"Given an ordered list of arrivals to the party and a name, return whether the guest with that\n",
        "    name was fashionably late.\n",
        "    \"\"\"\n",
        "    return ((arrivals.index(name) >= len(arrivals)/2)) and (arrivals.index(name) != arrivals.index(arrivals[-1]))\n",
        "    pass"
      ],
      "execution_count": null,
      "outputs": []
    },
    {
      "cell_type": "code",
      "metadata": {
        "colab": {
          "base_uri": "https://localhost:8080/"
        },
        "id": "-popeu_bJD4j",
        "outputId": "c8310831-a905-4000-c148-508a2dd083b8"
      },
      "source": [
        "party_attendees = ['Adela', 'Fleda', 'Owen', 'May', 'Mona', 'Gilbert', 'Ford'] \n",
        "fashionably_late(party_attendees, 'Fleda')"
      ],
      "execution_count": null,
      "outputs": [
        {
          "output_type": "execute_result",
          "data": {
            "text/plain": [
              "False"
            ]
          },
          "metadata": {
            "tags": []
          },
          "execution_count": 67
        }
      ]
    },
    {
      "cell_type": "code",
      "metadata": {
        "colab": {
          "base_uri": "https://localhost:8080/"
        },
        "id": "cXc-KVJ3JVu5",
        "outputId": "23bce8ee-48f8-4d18-aada-42462ee01f2f"
      },
      "source": [
        "party_attendees = ['Adela', 'Fleda', 'Owen', 'May', 'Mona', 'Gilbert', 'Ford'] \n",
        "fashionably_late(party_attendees, 'Gilbert')"
      ],
      "execution_count": null,
      "outputs": [
        {
          "output_type": "execute_result",
          "data": {
            "text/plain": [
              "True"
            ]
          },
          "metadata": {
            "tags": []
          },
          "execution_count": 68
        }
      ]
    },
    {
      "cell_type": "code",
      "metadata": {
        "colab": {
          "base_uri": "https://localhost:8080/"
        },
        "id": "k8C7_-zwJZHQ",
        "outputId": "5307fa6e-d7a1-42ac-9834-c078d45a6926"
      },
      "source": [
        "party_attendees = ['Adela', 'Fleda', 'Owen', 'May', 'Mona', 'Gilbert', 'Ford'] \n",
        "fashionably_late(party_attendees, 'Ford')"
      ],
      "execution_count": null,
      "outputs": [
        {
          "output_type": "execute_result",
          "data": {
            "text/plain": [
              "False"
            ]
          },
          "metadata": {
            "tags": []
          },
          "execution_count": 69
        }
      ]
    }
  ]
}
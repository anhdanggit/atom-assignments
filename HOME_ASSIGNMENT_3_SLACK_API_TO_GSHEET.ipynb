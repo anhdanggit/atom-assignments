{
  "nbformat": 4,
  "nbformat_minor": 0,
  "metadata": {
    "colab": {
      "name": "HOME ASSIGNMENT #3: SLACK API - TO GSHEET.ipynb",
      "provenance": [],
      "authorship_tag": "ABX9TyMn6IofLiFzFEJ5jAumQ4cg",
      "include_colab_link": true
    },
    "kernelspec": {
      "name": "python3",
      "display_name": "Python 3"
    },
    "language_info": {
      "name": "python"
    }
  },
  "cells": [
    {
      "cell_type": "markdown",
      "metadata": {
        "id": "view-in-github",
        "colab_type": "text"
      },
      "source": [
        "<a href=\"https://colab.research.google.com/github/chuviethongfpt/atom-assignments/blob/main/HOME_ASSIGNMENT_3_SLACK_API_TO_GSHEET.ipynb\" target=\"_parent\"><img src=\"https://colab.research.google.com/assets/colab-badge.svg\" alt=\"Open In Colab\"/></a>"
      ]
    },
    {
      "cell_type": "markdown",
      "metadata": {
        "id": "hwJFePq_LG1O"
      },
      "source": [
        "**Mục đích của bài Assignment**\n",
        "\n",
        "\n",
        "*   Lấy thông tin các Users từ Slack của DataCracy (BTC, Mentors và Learners)\n",
        "*   **[Optional 1]** Đưa danh sách Users lên Google Spreadsheet, để theo dõi\n",
        "*   **[Optional 2]** Lấy thông tin Assignment Submission và số Reviews trên #atom-assignmentnt2 và cập nhật lên Spreadsheet, để theo dõi các học viên đã nộp bài và được review\n",
        "\n",
        "**Các kiến thức sẽ áp dụng** \n",
        "\n",
        "*   Ôn lại và luyện tập thêm về concept API (cụ thể sử dụng API Slack)\n",
        "*   Trích xuất thông tin từ JSON\n",
        "*   Dùng module gspread để đưa thông tin lên Google Spreadsheet"
      ]
    },
    {
      "cell_type": "markdown",
      "metadata": {
        "id": "2ppO4IBQLswC"
      },
      "source": [
        "# 0.Load Modules"
      ]
    },
    {
      "cell_type": "code",
      "metadata": {
        "id": "Wscmy5u9LA9t"
      },
      "source": [
        "import requests #-> Để gọi API\n",
        "import re #-> Để xử lý data dạng string\n",
        "from datetime import datetime as dt #-> Để xử lý data dạng datetime\n",
        "import gspread #-> Để update data lên Google Spreadsheet\n",
        "from gspread_dataframe import set_with_dataframe #-> Để update data lên Google Spreadsheet\n",
        "import pandas as pd #-> Để update data dạng bản\n",
        "import json \n",
        "from oauth2client.service_account import ServiceAccountCredentials #-> Để nhập Google Spreadsheet Credentials\n",
        "import os"
      ],
      "execution_count": 39,
      "outputs": []
    },
    {
      "cell_type": "markdown",
      "metadata": {
        "id": "EjdtB_8NL5Mc"
      },
      "source": [
        "# 1.Slack API: User List¶\n",
        "\n",
        "\n"
      ]
    },
    {
      "cell_type": "code",
      "metadata": {
        "colab": {
          "base_uri": "https://localhost:8080/"
        },
        "id": "s-cd-IPXL4cV",
        "outputId": "7e11c216-88a8-48f7-8311-d3dd920eef75"
      },
      "source": [
        "!ls"
      ],
      "execution_count": 40,
      "outputs": [
        {
          "output_type": "stream",
          "text": [
            " cobalt-catalyst-314307-a05268a9c5f2.json   sample_data\n",
            " env_variable.json\t\t\t   'Token generate.json'\n"
          ],
          "name": "stdout"
        }
      ]
    },
    {
      "cell_type": "code",
      "metadata": {
        "id": "k3KSoMMBMSI6"
      },
      "source": [
        "with open('env_variable.json', 'r') as j:\n",
        "    json_data = json.load(j)\n",
        "    # print(json_data)"
      ],
      "execution_count": 41,
      "outputs": []
    },
    {
      "cell_type": "code",
      "metadata": {
        "id": "TTjbEFzBMVNY"
      },
      "source": [
        "## Load SLACK_BEARER_TOKEN\n",
        "os.environ['SLACK_BEARER_TOKEN'] = json_data['SLACK_BEARER_TOKEN']"
      ],
      "execution_count": 42,
      "outputs": []
    },
    {
      "cell_type": "code",
      "metadata": {
        "id": "5ByDBvu1MWtc"
      },
      "source": [
        "## Gọi API từ Endpoints (Input - Token được đưa vào Headers)\n",
        "## Challenge: Thử gọi API này bằng Postman\n",
        "endpoint = \"https://slack.com/api/users.list\"\n",
        "headers = {\"Authorization\": \"Bearer {}\".format(os.environ['SLACK_BEARER_TOKEN'])}\n",
        "response_json = requests.post(endpoint, headers=headers).json() \n",
        "user_dat = response_json['members']"
      ],
      "execution_count": 43,
      "outputs": []
    },
    {
      "cell_type": "markdown",
      "metadata": {
        "id": "F6D5xWr9OFp9"
      },
      "source": [
        "# TODO #1"
      ]
    },
    {
      "cell_type": "code",
      "metadata": {
        "id": "Qj4Xzs6POEQe"
      },
      "source": [
        "## Loop qua JSON file và extract các thông tin quan trọng (id, name, display_name, real_name_normalized, title, phone, is_bot)\n",
        "## Hint: Bạn có thể dùng Postman hoặc in user_dat JSON để xem cấu trúc (schema), dùng Ctrl+F để tìm các keys (id, name, display_name, real_name_normalized, title, phone, is_bot)\n",
        "user_dict = {'user_id':[], 'name':[], 'display_name':[],'real_name':[],'title':[],'phone':[],'is_bot':[]}\n",
        "for i in range(len(user_dat)):\n",
        "  user_dict['user_id'].append(user_dat[i]['id'])\n",
        "  user_dict['name'].append(user_dat[i]['name'])\n",
        "  user_dict['display_name'].append(user_dat[i]['profile']['display_name'])\n",
        "  user_dict['real_name'].append(user_dat[i]['profile']['real_name_normalized'])\n",
        "  user_dict['title'].append(user_dat[i]['profile']['title'])\n",
        "  user_dict['phone'].append(user_dat[i]['profile']['phone'])\n",
        "  user_dict['is_bot'].append(user_dat[i]['is_bot'])"
      ],
      "execution_count": 44,
      "outputs": []
    },
    {
      "cell_type": "code",
      "metadata": {
        "id": "c6A--pmpOLPS",
        "colab": {
          "base_uri": "https://localhost:8080/",
          "height": 197
        },
        "outputId": "3f7d3d94-9f3f-4fce-8101-3629a62235e3"
      },
      "source": [
        "user_df = pd.DataFrame(user_dict) ## Dùng pandas để convert dictionaries thành bảng\n",
        "user_df.head(5) ## Chỉ in 5 dòng đầu (chủ yếu để xem cấu trúc)"
      ],
      "execution_count": 45,
      "outputs": [
        {
          "output_type": "execute_result",
          "data": {
            "text/html": [
              "<div>\n",
              "<style scoped>\n",
              "    .dataframe tbody tr th:only-of-type {\n",
              "        vertical-align: middle;\n",
              "    }\n",
              "\n",
              "    .dataframe tbody tr th {\n",
              "        vertical-align: top;\n",
              "    }\n",
              "\n",
              "    .dataframe thead th {\n",
              "        text-align: right;\n",
              "    }\n",
              "</style>\n",
              "<table border=\"1\" class=\"dataframe\">\n",
              "  <thead>\n",
              "    <tr style=\"text-align: right;\">\n",
              "      <th></th>\n",
              "      <th>user_id</th>\n",
              "      <th>name</th>\n",
              "      <th>display_name</th>\n",
              "      <th>real_name</th>\n",
              "      <th>title</th>\n",
              "      <th>phone</th>\n",
              "      <th>is_bot</th>\n",
              "    </tr>\n",
              "  </thead>\n",
              "  <tbody>\n",
              "    <tr>\n",
              "      <th>0</th>\n",
              "      <td>USLACKBOT</td>\n",
              "      <td>slackbot</td>\n",
              "      <td>Slackbot</td>\n",
              "      <td>Slackbot</td>\n",
              "      <td></td>\n",
              "      <td></td>\n",
              "      <td>False</td>\n",
              "    </tr>\n",
              "    <tr>\n",
              "      <th>1</th>\n",
              "      <td>U01AT4T75JB</td>\n",
              "      <td>loclexuan26392</td>\n",
              "      <td>Loc Le Xuan</td>\n",
              "      <td>Loc Le Xuan</td>\n",
              "      <td></td>\n",
              "      <td></td>\n",
              "      <td>False</td>\n",
              "    </tr>\n",
              "    <tr>\n",
              "      <th>2</th>\n",
              "      <td>U01AVDY7JET</td>\n",
              "      <td>locle.ds</td>\n",
              "      <td>Loc Le Xuan</td>\n",
              "      <td>Loc Le Xuan</td>\n",
              "      <td></td>\n",
              "      <td></td>\n",
              "      <td>False</td>\n",
              "    </tr>\n",
              "    <tr>\n",
              "      <th>3</th>\n",
              "      <td>U01BE2PR6LU</td>\n",
              "      <td>maianhdang.ftu</td>\n",
              "      <td>MAD</td>\n",
              "      <td>Dặng Huỳnh Mai Anh</td>\n",
              "      <td>Technical Contents</td>\n",
              "      <td></td>\n",
              "      <td>False</td>\n",
              "    </tr>\n",
              "    <tr>\n",
              "      <th>4</th>\n",
              "      <td>U01C48T7S1J</td>\n",
              "      <td>huyenhoang.design</td>\n",
              "      <td>Thanh Huyen Hoang</td>\n",
              "      <td>Thanh Huyen Hoang</td>\n",
              "      <td></td>\n",
              "      <td></td>\n",
              "      <td>False</td>\n",
              "    </tr>\n",
              "  </tbody>\n",
              "</table>\n",
              "</div>"
            ],
            "text/plain": [
              "       user_id               name  ... phone is_bot\n",
              "0    USLACKBOT           slackbot  ...        False\n",
              "1  U01AT4T75JB     loclexuan26392  ...        False\n",
              "2  U01AVDY7JET           locle.ds  ...        False\n",
              "3  U01BE2PR6LU     maianhdang.ftu  ...        False\n",
              "4  U01C48T7S1J  huyenhoang.design  ...        False\n",
              "\n",
              "[5 rows x 7 columns]"
            ]
          },
          "metadata": {
            "tags": []
          },
          "execution_count": 45
        }
      ]
    },
    {
      "cell_type": "code",
      "metadata": {
        "colab": {
          "base_uri": "https://localhost:8080/",
          "height": 77
        },
        "id": "DKKWiXDxbMcf",
        "outputId": "8940631d-cba0-43a1-9449-f1d6760af09e"
      },
      "source": [
        "user_df[user_df.display_name == 'Việt Hồng Chu'] ## Lọc thông tin của MAD, trên DataFrame (bạn có thể Google thêm)"
      ],
      "execution_count": 46,
      "outputs": [
        {
          "output_type": "execute_result",
          "data": {
            "text/html": [
              "<div>\n",
              "<style scoped>\n",
              "    .dataframe tbody tr th:only-of-type {\n",
              "        vertical-align: middle;\n",
              "    }\n",
              "\n",
              "    .dataframe tbody tr th {\n",
              "        vertical-align: top;\n",
              "    }\n",
              "\n",
              "    .dataframe thead th {\n",
              "        text-align: right;\n",
              "    }\n",
              "</style>\n",
              "<table border=\"1\" class=\"dataframe\">\n",
              "  <thead>\n",
              "    <tr style=\"text-align: right;\">\n",
              "      <th></th>\n",
              "      <th>user_id</th>\n",
              "      <th>name</th>\n",
              "      <th>display_name</th>\n",
              "      <th>real_name</th>\n",
              "      <th>title</th>\n",
              "      <th>phone</th>\n",
              "      <th>is_bot</th>\n",
              "    </tr>\n",
              "  </thead>\n",
              "  <tbody>\n",
              "    <tr>\n",
              "      <th>34</th>\n",
              "      <td>U01UMC0N5U2</td>\n",
              "      <td>chuviethong.vn</td>\n",
              "      <td>Việt Hồng Chu</td>\n",
              "      <td>Việt Hồng Chu</td>\n",
              "      <td>Business Analyst</td>\n",
              "      <td>0899306779</td>\n",
              "      <td>False</td>\n",
              "    </tr>\n",
              "  </tbody>\n",
              "</table>\n",
              "</div>"
            ],
            "text/plain": [
              "        user_id            name  ...       phone is_bot\n",
              "34  U01UMC0N5U2  chuviethong.vn  ...  0899306779  False\n",
              "\n",
              "[1 rows x 7 columns]"
            ]
          },
          "metadata": {
            "tags": []
          },
          "execution_count": 46
        }
      ]
    },
    {
      "cell_type": "markdown",
      "metadata": {
        "id": "WRed3m6kblu1"
      },
      "source": [
        "# Optional 1: Update data => Google Spreadsheet"
      ]
    },
    {
      "cell_type": "markdown",
      "metadata": {
        "id": "ny8AlJp5br9J"
      },
      "source": [
        "# TODO#2"
      ]
    },
    {
      "cell_type": "code",
      "metadata": {
        "colab": {
          "base_uri": "https://localhost:8080/"
        },
        "id": "lAmbK6Njbv1V",
        "outputId": "4708e0e3-f06b-4c07-8f3b-be815b94b28a"
      },
      "source": [
        "!ls"
      ],
      "execution_count": 47,
      "outputs": [
        {
          "output_type": "stream",
          "text": [
            " cobalt-catalyst-314307-a05268a9c5f2.json   sample_data\n",
            " env_variable.json\t\t\t   'Token generate.json'\n"
          ],
          "name": "stdout"
        }
      ]
    },
    {
      "cell_type": "code",
      "metadata": {
        "colab": {
          "base_uri": "https://localhost:8080/"
        },
        "id": "jmamQLWojcYo",
        "outputId": "a127ac2b-988c-45eb-f8a6-05dcfcb6eba5"
      },
      "source": [
        "## Authorize bằng JSON\n",
        "scope = ['https://spreadsheets.google.com/feeds',\n",
        "         'https://www.googleapis.com/auth/drive']\n",
        "credentials = ServiceAccountCredentials.from_json_keyfile_name(\n",
        "    'cobalt-catalyst-314307-a05268a9c5f2.json', scope)\n",
        "gc = gspread.authorize(credentials)\n",
        "print(\"DONE!\")"
      ],
      "execution_count": 48,
      "outputs": [
        {
          "output_type": "stream",
          "text": [
            "DONE!\n"
          ],
          "name": "stdout"
        }
      ]
    },
    {
      "cell_type": "code",
      "metadata": {
        "id": "jQ9bzkuAlDFl"
      },
      "source": [
        "sheet_index_no = 0\n",
        "spreadsheet_key = '1XFv2QcX0u8VpxdR-0OeMeWHQmxwF3vzgrOem67AgASE' # input SPREADSHEET_KEY HERE\n",
        "sh = gc.open_by_key(spreadsheet_key)\n",
        "worksheet = sh.get_worksheet(sheet_index_no) #-> 0 - first sheet, 1 - second sheet etc. \n",
        "\n",
        "# APPEND DATA TO SHEET\n",
        "set_with_dataframe(worksheet, user_df) #-> Upload user_df vào Sheet đầu tiên trong Spreadsheet\n",
        "\n",
        "# DONE: Bây giờ bạn có thể mở spreadsheet và kiểm tra nội dung đã update chứ"
      ],
      "execution_count": 49,
      "outputs": []
    },
    {
      "cell_type": "markdown",
      "metadata": {
        "id": "1NgHjFpP_HUy"
      },
      "source": [
        "# Option 2: Ai đã nộp bài?\n",
        "Slack API: Channel List"
      ]
    },
    {
      "cell_type": "code",
      "metadata": {
        "id": "NeE_IxPY_LWy"
      },
      "source": [
        "## Gọi SLACK API để list tất cả các channel\n",
        "endpoint = \"https://slack.com/api/conversations.list\"\n",
        "headers = {\"Authorization\": \"Bearer {}\".format(os.environ['SLACK_BEARER_TOKEN'])}\n",
        "response = requests.post(endpoint, headers=headers).json() \n",
        "channel_ls = response['channels']"
      ],
      "execution_count": 50,
      "outputs": []
    },
    {
      "cell_type": "code",
      "metadata": {
        "colab": {
          "base_uri": "https://localhost:8080/"
        },
        "id": "exiqJE83_Nzi",
        "outputId": "0594601f-5263-4cb3-f905-8f89090e3b51"
      },
      "source": [
        "channel_ls[0] ## Thử extract record đầu tiên để xem schema  => name: general, id: C01B4PVGLVB"
      ],
      "execution_count": 51,
      "outputs": [
        {
          "output_type": "execute_result",
          "data": {
            "text/plain": [
              "{'created': 1600856703,\n",
              " 'creator': 'U01BE2PR6LU',\n",
              " 'id': 'C01B4PVGLVB',\n",
              " 'is_archived': False,\n",
              " 'is_channel': True,\n",
              " 'is_ext_shared': False,\n",
              " 'is_general': True,\n",
              " 'is_group': False,\n",
              " 'is_im': False,\n",
              " 'is_member': False,\n",
              " 'is_mpim': False,\n",
              " 'is_org_shared': False,\n",
              " 'is_pending_ext_shared': False,\n",
              " 'is_private': False,\n",
              " 'is_shared': False,\n",
              " 'name': 'general',\n",
              " 'name_normalized': 'general',\n",
              " 'num_members': 63,\n",
              " 'parent_conversation': None,\n",
              " 'pending_connected_team_ids': [],\n",
              " 'pending_shared': [],\n",
              " 'previous_names': [],\n",
              " 'purpose': {'creator': 'U01BE2PR6LU',\n",
              "  'last_set': 1600856703,\n",
              "  'value': 'This is the one channel that will always include everyone. It’s a great spot for announcements and team-wide conversations.'},\n",
              " 'shared_team_ids': ['T01B7SGGMLJ'],\n",
              " 'topic': {'creator': '', 'last_set': 0, 'value': ''},\n",
              " 'unlinked': 0}"
            ]
          },
          "metadata": {
            "tags": []
          },
          "execution_count": 51
        }
      ]
    },
    {
      "cell_type": "markdown",
      "metadata": {
        "id": "oQiQvf4J_SDB"
      },
      "source": [
        "# TODO#3\n",
        "Tìm id của channel #atom-assignment2"
      ]
    },
    {
      "cell_type": "markdown",
      "metadata": {
        "id": "H15hGsdz_UaL"
      },
      "source": [
        "# Slack API: List messages trong 1 channel"
      ]
    },
    {
      "cell_type": "code",
      "metadata": {
        "id": "AnZ00jgG_QLD"
      },
      "source": [
        "endpoint = \"https://slack.com/api/conversations.history\"\n",
        "data = {\"channel\": \"C01U6P7LZ8F\"} ## This is ID of assignment#1 channel\n",
        "headers = {\"Authorization\": \"Bearer {}\".format(os.environ['SLACK_BEARER_TOKEN'])}"
      ],
      "execution_count": 52,
      "outputs": []
    },
    {
      "cell_type": "code",
      "metadata": {
        "id": "yQm-oeZs_Yyb"
      },
      "source": [
        "response_json = requests.post(endpoint, data=data, headers=headers).json()\n",
        "msg_ls = response_json['messages']"
      ],
      "execution_count": 53,
      "outputs": []
    },
    {
      "cell_type": "code",
      "metadata": {
        "colab": {
          "base_uri": "https://localhost:8080/"
        },
        "id": "hL6OD7cH_acY",
        "outputId": "2a8fd0c7-d99b-4080-b3bc-4e0831d4581b"
      },
      "source": [
        "msg_ls[21]"
      ],
      "execution_count": 54,
      "outputs": [
        {
          "output_type": "execute_result",
          "data": {
            "text/plain": [
              "{'attachments': [{'fallback': \"Vy's Notion on Notion: Lê Thảo Vy - Assignment 1\",\n",
              "   'from_url': 'https://www.notion.so/L-Th-o-Vy-Assignment-1-f2df526a7fb74d8a9d305061f6772cc2',\n",
              "   'id': 1,\n",
              "   'original_url': 'https://www.notion.so/L-Th-o-Vy-Assignment-1-f2df526a7fb74d8a9d305061f6772cc2',\n",
              "   'service_name': \"Vy's Notion on Notion\",\n",
              "   'text': 'Task 1: link',\n",
              "   'title': 'Lê Thảo Vy - Assignment 1',\n",
              "   'title_link': 'https://www.notion.so/L-Th-o-Vy-Assignment-1-f2df526a7fb74d8a9d305061f6772cc2'}],\n",
              " 'blocks': [{'block_id': 'E8w3f',\n",
              "   'elements': [{'elements': [{'text': 'Chào mọi người, mình gửi assignment 1 nhaa:\\n',\n",
              "       'type': 'text'},\n",
              "      {'type': 'link',\n",
              "       'url': 'https://www.notion.so/L-Th-o-Vy-Assignment-1-f2df526a7fb74d8a9d305061f6772cc2'},\n",
              "      {'text': '\\nChúc mọi người một đầu tuần vui vẻ ^^', 'type': 'text'}],\n",
              "     'type': 'rich_text_section'}],\n",
              "   'type': 'rich_text'}],\n",
              " 'client_msg_id': 'a206160a-3b59-44d0-a800-091897d7fcc7',\n",
              " 'is_locked': False,\n",
              " 'latest_reply': '1621014755.025100',\n",
              " 'reactions': [{'count': 1,\n",
              "   'name': 'white_check_mark',\n",
              "   'users': ['U01UMJ451V1']}],\n",
              " 'reply_count': 2,\n",
              " 'reply_users': ['U01UMJ451V1', 'U01UMBZHU2W'],\n",
              " 'reply_users_count': 2,\n",
              " 'subscribed': False,\n",
              " 'team': 'T01B7SGGMLJ',\n",
              " 'text': 'Chào mọi người, mình gửi assignment 1 nhaa:\\n<https://www.notion.so/L-Th-o-Vy-Assignment-1-f2df526a7fb74d8a9d305061f6772cc2>\\nChúc mọi người một đầu tuần vui vẻ ^^',\n",
              " 'thread_ts': '1619420036.000800',\n",
              " 'ts': '1619420036.000800',\n",
              " 'type': 'message',\n",
              " 'user': 'U01UMBZHU2W'}"
            ]
          },
          "metadata": {
            "tags": []
          },
          "execution_count": 54
        }
      ]
    },
    {
      "cell_type": "code",
      "metadata": {
        "id": "vBVbRI9b_deF"
      },
      "source": [
        "not_learners_id = ['U01BE2PR6LU']"
      ],
      "execution_count": 55,
      "outputs": []
    },
    {
      "cell_type": "code",
      "metadata": {
        "colab": {
          "base_uri": "https://localhost:8080/"
        },
        "id": "diqa_h3v_gLG",
        "outputId": "2e29c182-ca12-4824-cedd-4a9d8b40d610"
      },
      "source": [
        "## Summarize all submitted assignments + reviews cnt\n",
        "not_learners_id = ['U01BE2PR6LU'] # -> Remove MA from the user_id\n",
        "github, reply_count, reply_users_count, reply_users, latest_reply = '','','','',''\n",
        "for i in range(20):\n",
        "  ts = dt.fromtimestamp(float(msg_ls[i]['ts'])) # -> Convert timestamp Epoch thành dàng dễ đọc\n",
        "  user = msg_ls[i]['user'] # -> Lấy thông tin người post messages\n",
        "  if msg_ls[i]['user'] not in not_learners_id:\n",
        "    if 'attachments' in msg_ls[i].keys():\n",
        "      #print(msg_ls[i].keys())\n",
        "      text = msg_ls[i]['text']\n",
        "      github_link = re.findall('(?:https?://)?(?:www[.])?github[.]com/[\\w-]+/?', text) #-> Submission là các message có link github\n",
        "      #print(msg_ls[i])\n",
        "      if len(github_link) > 0: github = github_link[0]\n",
        "      if 'reply_count' in msg_ls[i].keys(): reply_count = msg_ls[i]['reply_count'] #-> Extract số review\n",
        "      if 'reply_users_count' in msg_ls[i].keys(): reply_users_count = msg_ls[i]['reply_users_count']\n",
        "      if 'reply_users' in msg_ls[i].keys(): reply_users = msg_ls[i]['reply_users']\n",
        "      if 'latest_reply' in msg_ls[i].keys(): latest_reply = dt.fromtimestamp(float(msg_ls[i]['latest_reply']))\n",
        "      print(ts, user, reply_users_count, reply_users, latest_reply, github)"
      ],
      "execution_count": 56,
      "outputs": [
        {
          "output_type": "stream",
          "text": [
            "2021-05-10 04:51:46.004700 U01UJ9LG5U5 2 ['U01USGKQ771', 'U01V00KHHHP'] 2021-05-15 09:14:31.003600 https://github.com/danhpcv/\n",
            "2021-05-10 04:35:39.003800 U01UMC08KL2 2 ['U01UTGS5ZNY', 'U01UMC08KL2'] 2021-05-18 08:09:59.000800 https://github.com/auslynnguyen/\n",
            "2021-05-08 06:31:59.005200 U01UMJ36QD9 1 ['U01UMBX2X18'] 2021-05-08 06:36:43.006000 https://github.com/auslynnguyen/\n",
            "2021-05-04 13:55:46.001800 U01UTGVPE7N 1 ['U01UMBX2X18'] 2021-05-08 06:36:43.006000 https://github.com/hoaintp/\n",
            "2021-05-03 17:41:18.002400 U01U6JQB695 2 ['U01UMC0N5U2', 'U01U6JQB695'] 2021-05-11 03:10:06.001300 https://github.com/Tenderriver/\n"
          ],
          "name": "stdout"
        }
      ]
    },
    {
      "cell_type": "markdown",
      "metadata": {
        "id": "eAjkM9Y3_kqY"
      },
      "source": [
        "# TODO#4\n",
        "Tạo thành 1 bảng chứa các thông tin trên và update lên Spreadsheet (Sheet: Assignment#2 Submission)"
      ]
    },
    {
      "cell_type": "code",
      "metadata": {
        "colab": {
          "base_uri": "https://localhost:8080/"
        },
        "id": "RLSjUzJF_mFB",
        "outputId": "8c2fedc6-f458-413a-fb2f-08012eefbd79"
      },
      "source": [
        "assignment_dict = {'time': [], 'user': [], 'reply_count': [], 'reply_users_count': [], 'reply_user': [], 'latest_reply': [], 'github': []}\n",
        "not_learners_id = ['U01BE2PR6LU']\n",
        "for i in range(40):\n",
        "  ts = dt.fromtimestamp(float(msg_ls[i]['ts'])) # -> Convert timestamp Epoch thành dàng dễ đọc\n",
        "  assignment_dict['time'].append(ts)\n",
        "  assignment_dict['user'].append(msg_ls[i]['user']) # -> Lấy thông tin người post messages\n",
        "  if msg_ls[i]['user'] not in not_learners_id:\n",
        "    if 'attachments' in msg_ls[i].keys():\n",
        "      #print(msg_ls[i].keys())\n",
        "      text = msg_ls[i]['text']\n",
        "      github_link = re.findall('(?:https?://)?(?:www[.])?github[.]com/[\\w-]+/?', text) #-> Submission là các message có link github\n",
        "      #print(msg_ls[i])\n",
        "      if len(github_link) > 0: assignment_dict['github'].append(github_link[0])\n",
        "      if 'reply_count' in msg_ls[i].keys(): assignment_dict['reply_count'].append(msg_ls[i]['reply_count']) #-> Extract số review\n",
        "      if 'reply_users_count' in msg_ls[i].keys(): assignment_dict['reply_users_count'].append(msg_ls[i]['reply_users_count'])\n",
        "      if 'reply_users' in msg_ls[i].keys(): assignment_dict['reply_user'].append(msg_ls[i]['reply_users'])\n",
        "      if 'latest_reply' in msg_ls[i].keys(): assignment_dict['latest_reply'].append(dt.fromtimestamp(float(msg_ls[i]['latest_reply'])))\n",
        "assignment_dict"
      ],
      "execution_count": 57,
      "outputs": [
        {
          "output_type": "execute_result",
          "data": {
            "text/plain": [
              "{'github': ['https://github.com/danhpcv/',\n",
              "  'https://github.com/auslynnguyen/',\n",
              "  'https://github.com/hoaintp/',\n",
              "  'https://github.com/Tenderriver/',\n",
              "  'https://github.com/saturn1101/',\n",
              "  'https://github.com/AnhThuNguyenHuynh/',\n",
              "  'https://github.com/vietqh/',\n",
              "  'https://github.com/vuthanhdatt/',\n",
              "  'https://github.com/TranPham-96/',\n",
              "  'https://github.com/annaho124/',\n",
              "  'https://github.com/minhnguyentk95/',\n",
              "  'https://github.com/lienanh264/',\n",
              "  'https://github.com/Lulichlam/',\n",
              "  'https://github.com/tamle1012/',\n",
              "  'https://github.com/danhpcv/'],\n",
              " 'latest_reply': [datetime.datetime(2021, 5, 15, 9, 14, 31, 3600),\n",
              "  datetime.datetime(2021, 5, 18, 8, 9, 59, 800),\n",
              "  datetime.datetime(2021, 5, 8, 6, 36, 43, 6000),\n",
              "  datetime.datetime(2021, 5, 11, 3, 10, 6, 1300),\n",
              "  datetime.datetime(2021, 5, 14, 17, 51, 26, 24600),\n",
              "  datetime.datetime(2021, 5, 14, 17, 52, 35, 25100),\n",
              "  datetime.datetime(2021, 5, 11, 12, 37, 14, 3100),\n",
              "  datetime.datetime(2021, 5, 14, 11, 22, 6, 23600),\n",
              "  datetime.datetime(2021, 5, 11, 12, 39, 13, 3700),\n",
              "  datetime.datetime(2021, 5, 10, 12, 45, 15, 5800),\n",
              "  datetime.datetime(2021, 5, 15, 1, 58, 19, 1900),\n",
              "  datetime.datetime(2021, 5, 11, 14, 46, 48, 5500),\n",
              "  datetime.datetime(2021, 5, 11, 15, 58, 18, 6600),\n",
              "  datetime.datetime(2021, 5, 13, 3, 53, 49, 600)],\n",
              " 'reply_count': [2, 2, 1, 2, 1, 2, 1, 1, 2, 1, 1, 1, 1, 1],\n",
              " 'reply_user': [['U01USGKQ771', 'U01V00KHHHP'],\n",
              "  ['U01UTGS5ZNY', 'U01UMC08KL2'],\n",
              "  ['U01UMBX2X18'],\n",
              "  ['U01UMC0N5U2', 'U01U6JQB695'],\n",
              "  ['U01UMBZHU2W'],\n",
              "  ['U01UMJ451V1', 'U01UMBZHU2W'],\n",
              "  ['U01UMJ451V1'],\n",
              "  ['U01V00P4S2V'],\n",
              "  ['U01UMBW8G8J', 'U01UMJ451V1'],\n",
              "  ['U01UJ9MUADT'],\n",
              "  ['U01UTGVPE7N'],\n",
              "  ['U01UTGRMGEQ'],\n",
              "  ['U01UJ9PA0MB'],\n",
              "  ['U01UJ9PA0MB']],\n",
              " 'reply_users_count': [2, 2, 1, 2, 1, 2, 1, 1, 2, 1, 1, 1, 1, 1],\n",
              " 'time': [datetime.datetime(2021, 5, 20, 16, 43, 26, 600),\n",
              "  datetime.datetime(2021, 5, 20, 1, 58, 2, 300),\n",
              "  datetime.datetime(2021, 5, 18, 16, 45, 9, 1300),\n",
              "  datetime.datetime(2021, 5, 17, 17, 11, 11, 2600),\n",
              "  datetime.datetime(2021, 5, 15, 10, 28, 4, 5600),\n",
              "  datetime.datetime(2021, 5, 15, 10, 27, 40, 5500),\n",
              "  datetime.datetime(2021, 5, 15, 10, 27, 20, 5400),\n",
              "  datetime.datetime(2021, 5, 15, 10, 26, 41, 5300),\n",
              "  datetime.datetime(2021, 5, 15, 9, 58, 42, 5000),\n",
              "  datetime.datetime(2021, 5, 13, 14, 9, 48, 11000),\n",
              "  datetime.datetime(2021, 5, 10, 4, 51, 46, 4700),\n",
              "  datetime.datetime(2021, 5, 10, 4, 35, 39, 3800),\n",
              "  datetime.datetime(2021, 5, 10, 3, 7, 35, 1200),\n",
              "  datetime.datetime(2021, 5, 8, 6, 43, 25, 6900),\n",
              "  datetime.datetime(2021, 5, 8, 6, 36, 43, 6000),\n",
              "  datetime.datetime(2021, 5, 8, 6, 31, 59, 5200),\n",
              "  datetime.datetime(2021, 5, 8, 2, 56, 13, 1700),\n",
              "  datetime.datetime(2021, 5, 7, 16, 29, 48, 700),\n",
              "  datetime.datetime(2021, 5, 4, 13, 55, 46, 1800),\n",
              "  datetime.datetime(2021, 5, 3, 17, 41, 18, 2400),\n",
              "  datetime.datetime(2021, 5, 3, 8, 51, 19, 1200),\n",
              "  datetime.datetime(2021, 4, 26, 6, 53, 56, 800),\n",
              "  datetime.datetime(2021, 4, 24, 2, 1, 27, 43200),\n",
              "  datetime.datetime(2021, 4, 24, 1, 44, 32, 42500),\n",
              "  datetime.datetime(2021, 4, 24, 1, 8, 57, 41400),\n",
              "  datetime.datetime(2021, 4, 23, 22, 16, 41, 38200),\n",
              "  datetime.datetime(2021, 4, 23, 19, 47, 27, 36100),\n",
              "  datetime.datetime(2021, 4, 23, 18, 56, 58, 34700),\n",
              "  datetime.datetime(2021, 4, 23, 18, 55, 40, 33300),\n",
              "  datetime.datetime(2021, 4, 23, 16, 49, 42, 30500),\n",
              "  datetime.datetime(2021, 4, 23, 16, 45, 14, 29300),\n",
              "  datetime.datetime(2021, 4, 23, 16, 41, 53, 26200),\n",
              "  datetime.datetime(2021, 4, 23, 15, 48, 6, 23900),\n",
              "  datetime.datetime(2021, 4, 23, 15, 3, 37, 23200),\n",
              "  datetime.datetime(2021, 4, 23, 14, 49, 19, 22500),\n",
              "  datetime.datetime(2021, 4, 23, 14, 18, 48, 21900),\n",
              "  datetime.datetime(2021, 4, 23, 13, 3, 6, 17800),\n",
              "  datetime.datetime(2021, 4, 23, 12, 59, 45, 16300),\n",
              "  datetime.datetime(2021, 4, 23, 12, 55, 27, 14000),\n",
              "  datetime.datetime(2021, 4, 23, 11, 44, 48, 11300)],\n",
              " 'user': ['U0226MQ73MJ',\n",
              "  'U0226MQ73MJ',\n",
              "  'U0226MQ73MJ',\n",
              "  'U0226MQ73MJ',\n",
              "  'U01BE2PR6LU',\n",
              "  'U01BE2PR6LU',\n",
              "  'U01BE2PR6LU',\n",
              "  'U01BE2PR6LU',\n",
              "  'U0226MQ73MJ',\n",
              "  'U01UTGRMGEQ',\n",
              "  'U01UJ9LG5U5',\n",
              "  'U01UMC08KL2',\n",
              "  'U01UTGRQS9J',\n",
              "  'U01BE2PR6LU',\n",
              "  'U01UMBX2X18',\n",
              "  'U01UMJ36QD9',\n",
              "  'U01UMC0N5U2',\n",
              "  'U01USGKQ771',\n",
              "  'U01UTGVPE7N',\n",
              "  'U01U6JQB695',\n",
              "  'U01V00KHHHP',\n",
              "  'U01UMBZHU2W',\n",
              "  'U01VB63LRNC',\n",
              "  'U01UTGS5ZNY',\n",
              "  'U01U6JM6LEB',\n",
              "  'U01V00P4S2V',\n",
              "  'U01UMBX2X18',\n",
              "  'U01UTGRP0HJ',\n",
              "  'U01UEJFMUSJ',\n",
              "  'U01UJ9P1S3X',\n",
              "  'U01UMJ451V1',\n",
              "  'U01UJ9M5TU5',\n",
              "  'U01UJ9NKX8D',\n",
              "  'U01UJ9MUADT',\n",
              "  'U01VB6AT4G0',\n",
              "  'U01UJ9PRT5K',\n",
              "  'U01VB632FPS',\n",
              "  'U01UTGRMGEQ',\n",
              "  'U01VB632FPS',\n",
              "  'U01UJ9LG5U5']}"
            ]
          },
          "metadata": {
            "tags": []
          },
          "execution_count": 57
        }
      ]
    },
    {
      "cell_type": "code",
      "metadata": {
        "colab": {
          "base_uri": "https://localhost:8080/",
          "height": 281
        },
        "id": "kcIhhPwK_ux8",
        "outputId": "af1c6931-4c0a-4fd9-8458-43b56904586f"
      },
      "source": [
        "assignment_df = pd.DataFrame(dict([ (k,pd.Series(v)) for k,v in assignment_dict.items() ]))\n",
        "assignment_df.head()"
      ],
      "execution_count": 58,
      "outputs": [
        {
          "output_type": "execute_result",
          "data": {
            "text/html": [
              "<div>\n",
              "<style scoped>\n",
              "    .dataframe tbody tr th:only-of-type {\n",
              "        vertical-align: middle;\n",
              "    }\n",
              "\n",
              "    .dataframe tbody tr th {\n",
              "        vertical-align: top;\n",
              "    }\n",
              "\n",
              "    .dataframe thead th {\n",
              "        text-align: right;\n",
              "    }\n",
              "</style>\n",
              "<table border=\"1\" class=\"dataframe\">\n",
              "  <thead>\n",
              "    <tr style=\"text-align: right;\">\n",
              "      <th></th>\n",
              "      <th>time</th>\n",
              "      <th>user</th>\n",
              "      <th>reply_count</th>\n",
              "      <th>reply_users_count</th>\n",
              "      <th>reply_user</th>\n",
              "      <th>latest_reply</th>\n",
              "      <th>github</th>\n",
              "    </tr>\n",
              "  </thead>\n",
              "  <tbody>\n",
              "    <tr>\n",
              "      <th>0</th>\n",
              "      <td>2021-05-20 16:43:26.000600</td>\n",
              "      <td>U0226MQ73MJ</td>\n",
              "      <td>2.0</td>\n",
              "      <td>2.0</td>\n",
              "      <td>[U01USGKQ771, U01V00KHHHP]</td>\n",
              "      <td>2021-05-15 09:14:31.003600</td>\n",
              "      <td>https://github.com/danhpcv/</td>\n",
              "    </tr>\n",
              "    <tr>\n",
              "      <th>1</th>\n",
              "      <td>2021-05-20 01:58:02.000300</td>\n",
              "      <td>U0226MQ73MJ</td>\n",
              "      <td>2.0</td>\n",
              "      <td>2.0</td>\n",
              "      <td>[U01UTGS5ZNY, U01UMC08KL2]</td>\n",
              "      <td>2021-05-18 08:09:59.000800</td>\n",
              "      <td>https://github.com/auslynnguyen/</td>\n",
              "    </tr>\n",
              "    <tr>\n",
              "      <th>2</th>\n",
              "      <td>2021-05-18 16:45:09.001300</td>\n",
              "      <td>U0226MQ73MJ</td>\n",
              "      <td>1.0</td>\n",
              "      <td>1.0</td>\n",
              "      <td>[U01UMBX2X18]</td>\n",
              "      <td>2021-05-08 06:36:43.006000</td>\n",
              "      <td>https://github.com/hoaintp/</td>\n",
              "    </tr>\n",
              "    <tr>\n",
              "      <th>3</th>\n",
              "      <td>2021-05-17 17:11:11.002600</td>\n",
              "      <td>U0226MQ73MJ</td>\n",
              "      <td>2.0</td>\n",
              "      <td>2.0</td>\n",
              "      <td>[U01UMC0N5U2, U01U6JQB695]</td>\n",
              "      <td>2021-05-11 03:10:06.001300</td>\n",
              "      <td>https://github.com/Tenderriver/</td>\n",
              "    </tr>\n",
              "    <tr>\n",
              "      <th>4</th>\n",
              "      <td>2021-05-15 10:28:04.005600</td>\n",
              "      <td>U01BE2PR6LU</td>\n",
              "      <td>1.0</td>\n",
              "      <td>1.0</td>\n",
              "      <td>[U01UMBZHU2W]</td>\n",
              "      <td>2021-05-14 17:51:26.024600</td>\n",
              "      <td>https://github.com/saturn1101/</td>\n",
              "    </tr>\n",
              "  </tbody>\n",
              "</table>\n",
              "</div>"
            ],
            "text/plain": [
              "                        time  ...                            github\n",
              "0 2021-05-20 16:43:26.000600  ...       https://github.com/danhpcv/\n",
              "1 2021-05-20 01:58:02.000300  ...  https://github.com/auslynnguyen/\n",
              "2 2021-05-18 16:45:09.001300  ...       https://github.com/hoaintp/\n",
              "3 2021-05-17 17:11:11.002600  ...   https://github.com/Tenderriver/\n",
              "4 2021-05-15 10:28:04.005600  ...    https://github.com/saturn1101/\n",
              "\n",
              "[5 rows x 7 columns]"
            ]
          },
          "metadata": {
            "tags": []
          },
          "execution_count": 58
        }
      ]
    },
    {
      "cell_type": "code",
      "metadata": {
        "colab": {
          "base_uri": "https://localhost:8080/"
        },
        "id": "p645XVPy_xxP",
        "outputId": "0f900ae8-2197-4603-eb11-a52d357f2596"
      },
      "source": [
        "scope = ['https://spreadsheets.google.com/feeds',\n",
        "         'https://www.googleapis.com/auth/drive']\n",
        "credentials = ServiceAccountCredentials.from_json_keyfile_name(\n",
        "    'cobalt-catalyst-314307-a05268a9c5f2.json', scope)\n",
        "gc = gspread.authorize(credentials)\n",
        "print(\"DONE!\")"
      ],
      "execution_count": 60,
      "outputs": [
        {
          "output_type": "stream",
          "text": [
            "DONE!\n"
          ],
          "name": "stdout"
        }
      ]
    },
    {
      "cell_type": "code",
      "metadata": {
        "colab": {
          "base_uri": "https://localhost:8080/"
        },
        "id": "VlDe4YCs_7RR",
        "outputId": "f3c8fd0d-b222-4f14-b477-ad3697a58c89"
      },
      "source": [
        "# ACCESS GOOGLE SHEET\n",
        "sheet_index_no = 1\n",
        "spreadsheet_key = '1XFv2QcX0u8VpxdR-0OeMeWHQmxwF3vzgrOem67AgASE' # input SPREADSHEET_KEY HERE\n",
        "sh = gc.open_by_key(spreadsheet_key)\n",
        "worksheet = sh.add_worksheet(title= 'TODO 4', rows= \"100\", cols= \"20\") #-> 0 - first sheet, 1 - second sheet etc. \n",
        "\n",
        "# APPEND DATA TO SHEET\n",
        "set_with_dataframe(worksheet, assignment_df) #-> Upload assignment_df vào Sheet 2 trong Spreadsheet\n",
        "print('Done!')"
      ],
      "execution_count": 62,
      "outputs": [
        {
          "output_type": "stream",
          "text": [
            "Done!\n"
          ],
          "name": "stdout"
        }
      ]
    }
  ]
}
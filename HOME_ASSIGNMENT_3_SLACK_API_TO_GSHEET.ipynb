{
  "nbformat": 4,
  "nbformat_minor": 0,
  "metadata": {
    "colab": {
      "name": "HOME ASSIGNMENT #3: SLACK API - TO GSHEET.ipynb",
      "provenance": [],
      "authorship_tag": "ABX9TyP2HUbQs1RyQhiENoTW59SN",
      "include_colab_link": true
    },
    "kernelspec": {
      "name": "python3",
      "display_name": "Python 3"
    },
    "language_info": {
      "name": "python"
    }
  },
  "cells": [
    {
      "cell_type": "markdown",
      "metadata": {
        "id": "view-in-github",
        "colab_type": "text"
      },
      "source": [
        "<a href=\"https://colab.research.google.com/github/chuviethongfpt/atom-assignments/blob/main/HOME_ASSIGNMENT_3_SLACK_API_TO_GSHEET.ipynb\" target=\"_parent\"><img src=\"https://colab.research.google.com/assets/colab-badge.svg\" alt=\"Open In Colab\"/></a>"
      ]
    },
    {
      "cell_type": "markdown",
      "metadata": {
        "id": "hwJFePq_LG1O"
      },
      "source": [
        "**Mục đích của bài Assignment**\n",
        "\n",
        "\n",
        "*   Lấy thông tin các Users từ Slack của DataCracy (BTC, Mentors và Learners)\n",
        "*   **[Optional 1]** Đưa danh sách Users lên Google Spreadsheet, để theo dõi\n",
        "*   **[Optional 2]** Lấy thông tin Assignment Submission và số Reviews trên #atom-assignmentnt2 và cập nhật lên Spreadsheet, để theo dõi các học viên đã nộp bài và được review\n",
        "\n",
        "**Các kiến thức sẽ áp dụng** \n",
        "\n",
        "*   Ôn lại và luyện tập thêm về concept API (cụ thể sử dụng API Slack)\n",
        "*   Trích xuất thông tin từ JSON\n",
        "*   Dùng module gspread để đưa thông tin lên Google Spreadsheet"
      ]
    },
    {
      "cell_type": "markdown",
      "metadata": {
        "id": "2ppO4IBQLswC"
      },
      "source": [
        "# 0.Load Modules"
      ]
    },
    {
      "cell_type": "code",
      "metadata": {
        "id": "Wscmy5u9LA9t"
      },
      "source": [
        "import requests #-> Để gọi API\n",
        "import re #-> Để xử lý data dạng string\n",
        "from datetime import datetime as dt #-> Để xử lý data dạng datetime\n",
        "import gspread #-> Để update data lên Google Spreadsheet\n",
        "from gspread_dataframe import set_with_dataframe #-> Để update data lên Google Spreadsheet\n",
        "import pandas as pd #-> Để update data dạng bản\n",
        "import json \n",
        "from oauth2client.service_account import ServiceAccountCredentials #-> Để nhập Google Spreadsheet Credentials\n",
        "import os"
      ],
      "execution_count": 10,
      "outputs": []
    },
    {
      "cell_type": "markdown",
      "metadata": {
        "id": "EjdtB_8NL5Mc"
      },
      "source": [
        "# 1.Slack API: User List¶\n",
        "\n",
        "\n"
      ]
    },
    {
      "cell_type": "code",
      "metadata": {
        "colab": {
          "base_uri": "https://localhost:8080/"
        },
        "id": "s-cd-IPXL4cV",
        "outputId": "925ea3fb-2f16-4b5e-bc6d-a239cdc9998a"
      },
      "source": [
        "!ls"
      ],
      "execution_count": 15,
      "outputs": [
        {
          "output_type": "stream",
          "text": [
            " env_variable.json   sample_data  'Token generate.json'\n"
          ],
          "name": "stdout"
        }
      ]
    },
    {
      "cell_type": "code",
      "metadata": {
        "id": "k3KSoMMBMSI6"
      },
      "source": [
        "with open('env_variable.json', 'r') as j:\n",
        "    json_data = json.load(j)\n",
        "    # print(json_data)"
      ],
      "execution_count": 16,
      "outputs": []
    },
    {
      "cell_type": "code",
      "metadata": {
        "id": "TTjbEFzBMVNY"
      },
      "source": [
        "## Load SLACK_BEARER_TOKEN\n",
        "os.environ['SLACK_BEARER_TOKEN'] = json_data['SLACK_BEARER_TOKEN']"
      ],
      "execution_count": 17,
      "outputs": []
    },
    {
      "cell_type": "code",
      "metadata": {
        "id": "5ByDBvu1MWtc"
      },
      "source": [
        "## Gọi API từ Endpoints (Input - Token được đưa vào Headers)\n",
        "## Challenge: Thử gọi API này bằng Postman\n",
        "endpoint = \"https://slack.com/api/users.list\"\n",
        "headers = {\"Authorization\": \"Bearer {}\".format(os.environ['SLACK_BEARER_TOKEN'])}\n",
        "response_json = requests.post(endpoint, headers=headers).json() \n",
        "user_dat = response_json['members']"
      ],
      "execution_count": 18,
      "outputs": []
    },
    {
      "cell_type": "markdown",
      "metadata": {
        "id": "F6D5xWr9OFp9"
      },
      "source": [
        "# TODO #1"
      ]
    },
    {
      "cell_type": "code",
      "metadata": {
        "id": "Qj4Xzs6POEQe"
      },
      "source": [
        "## Loop qua JSON file và extract các thông tin quan trọng (id, name, display_name, real_name_normalized, title, phone, is_bot)\n",
        "## Hint: Bạn có thể dùng Postman hoặc in user_dat JSON để xem cấu trúc (schema), dùng Ctrl+F để tìm các keys (id, name, display_name, real_name_normalized, title, phone, is_bot)\n",
        "user_dict = {'user_id':[], 'name':[], 'display_name':[],'real_name':[],'title':[],'phone':[],'is_bot':[]}\n",
        "for i in range(len(user_dat)):\n",
        "  user_dict['user_id'].append(user_dat[i]['id'])\n",
        "  user_dict['name'].append(user_dat[i]['name'])\n",
        "  user_dict['display_name'].append(user_dat[i]['profile']['display_name'])\n",
        "  user_dict['real_name'].append(user_dat[i]['profile']['real_name_normalized'])\n",
        "  user_dict['title'].append(user_dat[i]['profile']['title'])\n",
        "  user_dict['phone'].append(user_dat[i]['profile']['phone'])\n",
        "  user_dict['is_bot'].append(user_dat[i]['is_bot'])"
      ],
      "execution_count": 36,
      "outputs": []
    },
    {
      "cell_type": "code",
      "metadata": {
        "id": "c6A--pmpOLPS",
        "colab": {
          "base_uri": "https://localhost:8080/",
          "height": 197
        },
        "outputId": "cc5e9803-5f54-4f50-a7be-c331c8378de0"
      },
      "source": [
        "user_df = pd.DataFrame(user_dict) ## Dùng pandas để convert dictionaries thành bảng\n",
        "user_df.head(5) ## Chỉ in 5 dòng đầu (chủ yếu để xem cấu trúc)"
      ],
      "execution_count": 37,
      "outputs": [
        {
          "output_type": "execute_result",
          "data": {
            "text/html": [
              "<div>\n",
              "<style scoped>\n",
              "    .dataframe tbody tr th:only-of-type {\n",
              "        vertical-align: middle;\n",
              "    }\n",
              "\n",
              "    .dataframe tbody tr th {\n",
              "        vertical-align: top;\n",
              "    }\n",
              "\n",
              "    .dataframe thead th {\n",
              "        text-align: right;\n",
              "    }\n",
              "</style>\n",
              "<table border=\"1\" class=\"dataframe\">\n",
              "  <thead>\n",
              "    <tr style=\"text-align: right;\">\n",
              "      <th></th>\n",
              "      <th>user_id</th>\n",
              "      <th>name</th>\n",
              "      <th>display_name</th>\n",
              "      <th>real_name</th>\n",
              "      <th>title</th>\n",
              "      <th>phone</th>\n",
              "      <th>is_bot</th>\n",
              "    </tr>\n",
              "  </thead>\n",
              "  <tbody>\n",
              "    <tr>\n",
              "      <th>0</th>\n",
              "      <td>USLACKBOT</td>\n",
              "      <td>slackbot</td>\n",
              "      <td>Slackbot</td>\n",
              "      <td>Slackbot</td>\n",
              "      <td></td>\n",
              "      <td></td>\n",
              "      <td>False</td>\n",
              "    </tr>\n",
              "    <tr>\n",
              "      <th>1</th>\n",
              "      <td>U01AT4T75JB</td>\n",
              "      <td>loclexuan26392</td>\n",
              "      <td>Loc Le Xuan</td>\n",
              "      <td>Loc Le Xuan</td>\n",
              "      <td></td>\n",
              "      <td></td>\n",
              "      <td>False</td>\n",
              "    </tr>\n",
              "    <tr>\n",
              "      <th>2</th>\n",
              "      <td>U01AVDY7JET</td>\n",
              "      <td>locle.ds</td>\n",
              "      <td>Loc Le Xuan</td>\n",
              "      <td>Loc Le Xuan</td>\n",
              "      <td></td>\n",
              "      <td></td>\n",
              "      <td>False</td>\n",
              "    </tr>\n",
              "    <tr>\n",
              "      <th>3</th>\n",
              "      <td>U01BE2PR6LU</td>\n",
              "      <td>maianhdang.ftu</td>\n",
              "      <td>MAD</td>\n",
              "      <td>Dặng Huỳnh Mai Anh</td>\n",
              "      <td>Technical Contents</td>\n",
              "      <td></td>\n",
              "      <td>False</td>\n",
              "    </tr>\n",
              "    <tr>\n",
              "      <th>4</th>\n",
              "      <td>U01C48T7S1J</td>\n",
              "      <td>huyenhoang.design</td>\n",
              "      <td>Thanh Huyen Hoang</td>\n",
              "      <td>Thanh Huyen Hoang</td>\n",
              "      <td></td>\n",
              "      <td></td>\n",
              "      <td>False</td>\n",
              "    </tr>\n",
              "  </tbody>\n",
              "</table>\n",
              "</div>"
            ],
            "text/plain": [
              "       user_id               name  ... phone is_bot\n",
              "0    USLACKBOT           slackbot  ...        False\n",
              "1  U01AT4T75JB     loclexuan26392  ...        False\n",
              "2  U01AVDY7JET           locle.ds  ...        False\n",
              "3  U01BE2PR6LU     maianhdang.ftu  ...        False\n",
              "4  U01C48T7S1J  huyenhoang.design  ...        False\n",
              "\n",
              "[5 rows x 7 columns]"
            ]
          },
          "metadata": {
            "tags": []
          },
          "execution_count": 37
        }
      ]
    },
    {
      "cell_type": "code",
      "metadata": {
        "colab": {
          "base_uri": "https://localhost:8080/",
          "height": 77
        },
        "id": "DKKWiXDxbMcf",
        "outputId": "758fec0b-0fc0-4e5e-dc0f-ce34488a556c"
      },
      "source": [
        "user_df[user_df.display_name == 'Việt Hồng Chu'] ## Lọc thông tin của MAD, trên DataFrame (bạn có thể Google thêm)"
      ],
      "execution_count": 38,
      "outputs": [
        {
          "output_type": "execute_result",
          "data": {
            "text/html": [
              "<div>\n",
              "<style scoped>\n",
              "    .dataframe tbody tr th:only-of-type {\n",
              "        vertical-align: middle;\n",
              "    }\n",
              "\n",
              "    .dataframe tbody tr th {\n",
              "        vertical-align: top;\n",
              "    }\n",
              "\n",
              "    .dataframe thead th {\n",
              "        text-align: right;\n",
              "    }\n",
              "</style>\n",
              "<table border=\"1\" class=\"dataframe\">\n",
              "  <thead>\n",
              "    <tr style=\"text-align: right;\">\n",
              "      <th></th>\n",
              "      <th>user_id</th>\n",
              "      <th>name</th>\n",
              "      <th>display_name</th>\n",
              "      <th>real_name</th>\n",
              "      <th>title</th>\n",
              "      <th>phone</th>\n",
              "      <th>is_bot</th>\n",
              "    </tr>\n",
              "  </thead>\n",
              "  <tbody>\n",
              "    <tr>\n",
              "      <th>34</th>\n",
              "      <td>U01UMC0N5U2</td>\n",
              "      <td>chuviethong.vn</td>\n",
              "      <td>Việt Hồng Chu</td>\n",
              "      <td>Việt Hồng Chu</td>\n",
              "      <td>Business Analyst</td>\n",
              "      <td>0899306779</td>\n",
              "      <td>False</td>\n",
              "    </tr>\n",
              "  </tbody>\n",
              "</table>\n",
              "</div>"
            ],
            "text/plain": [
              "        user_id            name  ...       phone is_bot\n",
              "34  U01UMC0N5U2  chuviethong.vn  ...  0899306779  False\n",
              "\n",
              "[1 rows x 7 columns]"
            ]
          },
          "metadata": {
            "tags": []
          },
          "execution_count": 38
        }
      ]
    },
    {
      "cell_type": "markdown",
      "metadata": {
        "id": "WRed3m6kblu1"
      },
      "source": [
        "# Optional 1: Update data => Google Spreadsheet"
      ]
    },
    {
      "cell_type": "markdown",
      "metadata": {
        "id": "ny8AlJp5br9J"
      },
      "source": [
        "# TODO#2"
      ]
    },
    {
      "cell_type": "code",
      "metadata": {
        "colab": {
          "base_uri": "https://localhost:8080/"
        },
        "id": "lAmbK6Njbv1V",
        "outputId": "17330321-2c4d-4ffb-82af-19c86120c529"
      },
      "source": [
        "!ls"
      ],
      "execution_count": 47,
      "outputs": [
        {
          "output_type": "stream",
          "text": [
            " env_variable.json\t\t\t    sample_data\n",
            " fresh-geography-314306-c804644208a6.json  'Token generate.json'\n"
          ],
          "name": "stdout"
        }
      ]
    },
    {
      "cell_type": "code",
      "metadata": {
        "colab": {
          "base_uri": "https://localhost:8080/"
        },
        "id": "jmamQLWojcYo",
        "outputId": "69837d4f-45a0-468b-83f9-abf2429a7a99"
      },
      "source": [
        "## Authorize bằng JSON\n",
        "scope = ['https://spreadsheets.google.com/feeds',\n",
        "         'https://www.googleapis.com/auth/drive']\n",
        "credentials = ServiceAccountCredentials.from_json_keyfile_name(\n",
        "    'fresh-geography-314306-c804644208a6.json', scope)\n",
        "gc = gspread.authorize(credentials)\n",
        "print(\"DONE!\")"
      ],
      "execution_count": 48,
      "outputs": [
        {
          "output_type": "stream",
          "text": [
            "DONE!\n"
          ],
          "name": "stdout"
        }
      ]
    },
    {
      "cell_type": "code",
      "metadata": {
        "colab": {
          "base_uri": "https://localhost:8080/",
          "height": 836
        },
        "id": "jQ9bzkuAlDFl",
        "outputId": "2b440c7d-6b98-45d5-a884-d9d2a5c621aa"
      },
      "source": [
        "# ACCES GOOGLE SHEET\n",
        "sheet_index_no = 0\n",
        "spreadsheet_key = '1XFv2QcX0u8VpxdR-0OeMeWHQmxwF3vzgrOem67AgASE' # input SPREADSHEET_KEY HERE\n",
        "sh = gc.open_by_key(spreadsheet_key)\n",
        "worksheet = sh.get_worksheet(sheet_index_no) #-> 0 - first sheet, 1 - second sheet etc. \n",
        "\n",
        "# APPEND DATA TO SHEET\n",
        "set_with_dataframe(worksheet, user_df) #-> Upload user_df vào Sheet đầu tiên trong Spreadsheet\n",
        "\n",
        "# DONE: Bây giờ bạn có thể mở spreadsheet và kiểm tra nội dung đã update chứ"
      ],
      "execution_count": 51,
      "outputs": [
        {
          "output_type": "error",
          "ename": "APIError",
          "evalue": "ignored",
          "traceback": [
            "\u001b[0;31m---------------------------------------------------------------------------\u001b[0m",
            "\u001b[0;31mAPIError\u001b[0m                                  Traceback (most recent call last)",
            "\u001b[0;32m<ipython-input-51-5855b60c2077>\u001b[0m in \u001b[0;36m<module>\u001b[0;34m()\u001b[0m\n\u001b[1;32m      3\u001b[0m \u001b[0mspreadsheet_key\u001b[0m \u001b[0;34m=\u001b[0m \u001b[0;34m'1XFv2QcX0u8VpxdR-0OeMeWHQmxwF3vzgrOem67AgASE'\u001b[0m \u001b[0;31m# input SPREADSHEET_KEY HERE\u001b[0m\u001b[0;34m\u001b[0m\u001b[0;34m\u001b[0m\u001b[0m\n\u001b[1;32m      4\u001b[0m \u001b[0msh\u001b[0m \u001b[0;34m=\u001b[0m \u001b[0mgc\u001b[0m\u001b[0;34m.\u001b[0m\u001b[0mopen_by_key\u001b[0m\u001b[0;34m(\u001b[0m\u001b[0mspreadsheet_key\u001b[0m\u001b[0;34m)\u001b[0m\u001b[0;34m\u001b[0m\u001b[0;34m\u001b[0m\u001b[0m\n\u001b[0;32m----> 5\u001b[0;31m \u001b[0mworksheet\u001b[0m \u001b[0;34m=\u001b[0m \u001b[0msh\u001b[0m\u001b[0;34m.\u001b[0m\u001b[0mget_worksheet\u001b[0m\u001b[0;34m(\u001b[0m\u001b[0msheet_index_no\u001b[0m\u001b[0;34m)\u001b[0m \u001b[0;31m#-> 0 - first sheet, 1 - second sheet etc.\u001b[0m\u001b[0;34m\u001b[0m\u001b[0;34m\u001b[0m\u001b[0m\n\u001b[0m\u001b[1;32m      6\u001b[0m \u001b[0;34m\u001b[0m\u001b[0m\n\u001b[1;32m      7\u001b[0m \u001b[0;31m# APPEND DATA TO SHEET\u001b[0m\u001b[0;34m\u001b[0m\u001b[0;34m\u001b[0m\u001b[0;34m\u001b[0m\u001b[0m\n",
            "\u001b[0;32m/usr/local/lib/python3.7/dist-packages/gspread/models.py\u001b[0m in \u001b[0;36mget_worksheet\u001b[0;34m(self, index)\u001b[0m\n\u001b[1;32m    139\u001b[0m \u001b[0;34m\u001b[0m\u001b[0m\n\u001b[1;32m    140\u001b[0m         \"\"\"\n\u001b[0;32m--> 141\u001b[0;31m         \u001b[0msheet_data\u001b[0m \u001b[0;34m=\u001b[0m \u001b[0mself\u001b[0m\u001b[0;34m.\u001b[0m\u001b[0mfetch_sheet_metadata\u001b[0m\u001b[0;34m(\u001b[0m\u001b[0;34m)\u001b[0m\u001b[0;34m\u001b[0m\u001b[0;34m\u001b[0m\u001b[0m\n\u001b[0m\u001b[1;32m    142\u001b[0m \u001b[0;34m\u001b[0m\u001b[0m\n\u001b[1;32m    143\u001b[0m         \u001b[0;32mtry\u001b[0m\u001b[0;34m:\u001b[0m\u001b[0;34m\u001b[0m\u001b[0;34m\u001b[0m\u001b[0m\n",
            "\u001b[0;32m/usr/local/lib/python3.7/dist-packages/gspread/models.py\u001b[0m in \u001b[0;36mfetch_sheet_metadata\u001b[0;34m(self)\u001b[0m\n\u001b[1;32m    121\u001b[0m         \u001b[0murl\u001b[0m \u001b[0;34m=\u001b[0m \u001b[0mSPREADSHEET_URL\u001b[0m \u001b[0;34m%\u001b[0m \u001b[0mself\u001b[0m\u001b[0;34m.\u001b[0m\u001b[0mid\u001b[0m\u001b[0;34m\u001b[0m\u001b[0;34m\u001b[0m\u001b[0m\n\u001b[1;32m    122\u001b[0m \u001b[0;34m\u001b[0m\u001b[0m\n\u001b[0;32m--> 123\u001b[0;31m         \u001b[0mr\u001b[0m \u001b[0;34m=\u001b[0m \u001b[0mself\u001b[0m\u001b[0;34m.\u001b[0m\u001b[0mclient\u001b[0m\u001b[0;34m.\u001b[0m\u001b[0mrequest\u001b[0m\u001b[0;34m(\u001b[0m\u001b[0;34m'get'\u001b[0m\u001b[0;34m,\u001b[0m \u001b[0murl\u001b[0m\u001b[0;34m,\u001b[0m \u001b[0mparams\u001b[0m\u001b[0;34m=\u001b[0m\u001b[0mparams\u001b[0m\u001b[0;34m)\u001b[0m\u001b[0;34m\u001b[0m\u001b[0;34m\u001b[0m\u001b[0m\n\u001b[0m\u001b[1;32m    124\u001b[0m \u001b[0;34m\u001b[0m\u001b[0m\n\u001b[1;32m    125\u001b[0m         \u001b[0;32mreturn\u001b[0m \u001b[0mr\u001b[0m\u001b[0;34m.\u001b[0m\u001b[0mjson\u001b[0m\u001b[0;34m(\u001b[0m\u001b[0;34m)\u001b[0m\u001b[0;34m\u001b[0m\u001b[0;34m\u001b[0m\u001b[0m\n",
            "\u001b[0;32m/usr/local/lib/python3.7/dist-packages/gspread/client.py\u001b[0m in \u001b[0;36mrequest\u001b[0;34m(self, method, endpoint, params, data, json, files, headers)\u001b[0m\n\u001b[1;32m     77\u001b[0m             \u001b[0;32mreturn\u001b[0m \u001b[0mresponse\u001b[0m\u001b[0;34m\u001b[0m\u001b[0;34m\u001b[0m\u001b[0m\n\u001b[1;32m     78\u001b[0m         \u001b[0;32melse\u001b[0m\u001b[0;34m:\u001b[0m\u001b[0;34m\u001b[0m\u001b[0;34m\u001b[0m\u001b[0m\n\u001b[0;32m---> 79\u001b[0;31m             \u001b[0;32mraise\u001b[0m \u001b[0mAPIError\u001b[0m\u001b[0;34m(\u001b[0m\u001b[0mresponse\u001b[0m\u001b[0;34m)\u001b[0m\u001b[0;34m\u001b[0m\u001b[0;34m\u001b[0m\u001b[0m\n\u001b[0m\u001b[1;32m     80\u001b[0m \u001b[0;34m\u001b[0m\u001b[0m\n\u001b[1;32m     81\u001b[0m     \u001b[0;32mdef\u001b[0m \u001b[0mlist_spreadsheet_files\u001b[0m\u001b[0;34m(\u001b[0m\u001b[0mself\u001b[0m\u001b[0;34m)\u001b[0m\u001b[0;34m:\u001b[0m\u001b[0;34m\u001b[0m\u001b[0;34m\u001b[0m\u001b[0m\n",
            "\u001b[0;31mAPIError\u001b[0m: {\n  \"error\": {\n    \"code\": 403,\n    \"message\": \"Google Sheets API has not been used in project 1034778543571 before or it is disabled. Enable it by visiting https://console.developers.google.com/apis/api/sheets.googleapis.com/overview?project=1034778543571 then retry. If you enabled this API recently, wait a few minutes for the action to propagate to our systems and retry.\",\n    \"status\": \"PERMISSION_DENIED\",\n    \"details\": [\n      {\n        \"@type\": \"type.googleapis.com/google.rpc.Help\",\n        \"links\": [\n          {\n            \"description\": \"Google developers console API activation\",\n            \"url\": \"https://console.developers.google.com/apis/api/sheets.googleapis.com/overview?project=1034778543571\"\n          }\n        ]\n      },\n      {\n        \"@type\": \"type.googleapis.com/google.rpc.ErrorInfo\",\n        \"reason\": \"SERVICE_DISABLED\",\n        \"domain\": \"googleapis.com\",\n        \"metadata\": {\n          \"consumer\": \"projects/1034778543571\",\n          \"service\": \"sheets.googleapis.com\"\n        }\n      }\n    ]\n  }\n}\n"
          ]
        }
      ]
    }
  ]
}
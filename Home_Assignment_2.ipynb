{
  "nbformat": 4,
  "nbformat_minor": 0,
  "metadata": {
    "colab": {
      "name": "Home Assignment #2.ipynb",
      "provenance": [],
      "authorship_tag": "ABX9TyO69RSOQ6nEaIGVXHeA23Ka",
      "include_colab_link": true
    },
    "kernelspec": {
      "name": "python3",
      "display_name": "Python 3"
    },
    "language_info": {
      "name": "python"
    }
  },
  "cells": [
    {
      "cell_type": "markdown",
      "metadata": {
        "id": "view-in-github",
        "colab_type": "text"
      },
      "source": [
        "<a href=\"https://colab.research.google.com/github/chuviethongfpt/atom-assignments/blob/main/Home_Assignment_2.ipynb\" target=\"_parent\"><img src=\"https://colab.research.google.com/assets/colab-badge.svg\" alt=\"Open In Colab\"/></a>"
      ]
    },
    {
      "cell_type": "code",
      "metadata": {
        "id": "VO84S7pat5So"
      },
      "source": [
        "import json"
      ],
      "execution_count": 1,
      "outputs": []
    },
    {
      "cell_type": "code",
      "metadata": {
        "colab": {
          "base_uri": "https://localhost:8080/"
        },
        "id": "HiO2Pdd2uAb9",
        "outputId": "62574e27-350c-4738-93c9-69f9df42390d"
      },
      "source": [
        "email_data= '{\"email\": {\"SENDER_EMAIL\":\"chuviethong.vn@gmail.com\",\"PWD_EMAIL\":\"sachhbgmhpzhbbzh\",\"WEATHER_API_KEY\":\"7344e7a3019d9e968f588eb950eba78c\"}}'\n",
        "dict_obj = json.loads(email_data)\n",
        "print(dict_obj)\n",
        "print(\"Type of dict_obj\", type(dict_obj))\n",
        "print(\"EMAIL......\",  dict_obj.get('email'))"
      ],
      "execution_count": 2,
      "outputs": [
        {
          "output_type": "stream",
          "text": [
            "{'email': {'SENDER_EMAIL': 'chuviethong.vn@gmail.com', 'PWD_EMAIL': 'sachhbgmhpzhbbzh', 'WEATHER_API_KEY': '7344e7a3019d9e968f588eb950eba78c'}}\n",
            "Type of dict_obj <class 'dict'>\n",
            "EMAIL...... {'SENDER_EMAIL': 'chuviethong.vn@gmail.com', 'PWD_EMAIL': 'sachhbgmhpzhbbzh', 'WEATHER_API_KEY': '7344e7a3019d9e968f588eb950eba78c'}\n"
          ],
          "name": "stdout"
        }
      ]
    }
  ]
}
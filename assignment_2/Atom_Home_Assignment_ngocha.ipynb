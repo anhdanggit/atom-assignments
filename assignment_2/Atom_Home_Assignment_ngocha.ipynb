{
 "metadata": {
  "language_info": {
   "codemirror_mode": {
    "name": "ipython",
    "version": 3
   },
   "file_extension": ".py",
   "mimetype": "text/x-python",
   "name": "python",
   "nbconvert_exporter": "python",
   "pygments_lexer": "ipython3",
   "version": "3.9.1"
  },
  "orig_nbformat": 2,
  "kernelspec": {
   "name": "python391jvsc74a57bd05271bdc391cb7228ab6e6395e7c6cdc955f1980bb74892059d6755de2b4edae4",
   "display_name": "Python 3.9.1 64-bit"
  },
  "metadata": {
   "interpreter": {
    "hash": "5271bdc391cb7228ab6e6395e7c6cdc955f1980bb74892059d6755de2b4edae4"
   }
  }
 },
 "nbformat": 4,
 "nbformat_minor": 2,
 "cells": [
  {
   "source": [
    "### Concept: JSON File"
   ],
   "cell_type": "markdown",
   "metadata": {}
  },
  {
   "cell_type": "code",
   "execution_count": 1,
   "metadata": {},
   "outputs": [],
   "source": [
    "import json\n",
    "with open('env_variable.json', 'r') as j:\n",
    "    json_data = json.load(j)\n",
    "    #print(json_data)"
   ]
  },
  {
   "source": [
    "## Todo#1\n",
    "1. Thử un-comment bằng cách để dấu nháy chuột ở dòng print(json_data) và nhấn Ctrl+/. Sau đó, chạy lại.\n",
    "2. Cấu trúc của json_data tương tự dictionary: thử gọi biến SENDER_EMAIL trong file json và print => Task này sẽ giúp bạn tìm hiểu thêm về cấu trúc của 1 file JSON."
   ],
   "cell_type": "markdown",
   "metadata": {}
  },
  {
   "cell_type": "code",
   "execution_count": 2,
   "metadata": {},
   "outputs": [
    {
     "output_type": "stream",
     "name": "stdout",
     "text": [
      "ha.ngoc1476@gmail.com\n"
     ]
    }
   ],
   "source": [
    "sender=json_data['SENDER_EMAIL']\n",
    "print(sender)"
   ]
  },
  {
   "source": [
    "### Concept: Environment Variables"
   ],
   "cell_type": "markdown",
   "metadata": {}
  },
  {
   "cell_type": "code",
   "execution_count": 3,
   "metadata": {},
   "outputs": [
    {
     "output_type": "stream",
     "name": "stdout",
     "text": [
      "DONE! Get Env. Variable\n"
     ]
    }
   ],
   "source": [
    "import os\n",
    "os.environ['SENDER_EMAIL'] = json_data['SENDER_EMAIL'] ## INPUT: Your Email\n",
    "os.environ['PWD_EMAIL'] = json_data['PWD_EMAIL'] ## INPUT: Your App Password\n",
    "os.environ['WEATHER_API_KEY'] = json_data['WEATHER_API_KEY'] ## INPUT: OpenWeather API Key\n",
    "print('DONE! Get Env. Variable')"
   ]
  },
  {
   "cell_type": "code",
   "execution_count": 4,
   "metadata": {},
   "outputs": [
    {
     "output_type": "stream",
     "name": "stdout",
     "text": [
      "ha.ngoc1476@gmail.com\n"
     ]
    }
   ],
   "source": [
    "print(os.environ['SENDER_EMAIL'])"
   ]
  },
  {
   "source": [
    " ### Import Modules"
   ],
   "cell_type": "markdown",
   "metadata": {}
  },
  {
   "cell_type": "code",
   "execution_count": 5,
   "metadata": {},
   "outputs": [],
   "source": [
    "import email, smtplib, ssl # to automate email\n",
    "import email as mail\n",
    "from email import encoders\n",
    "from email.mime.base import MIMEBase\n",
    "from email.mime.multipart import MIMEMultipart\n",
    "from email.mime.text import MIMEText\n",
    "\n",
    "import requests, json # to pull API, and work with json\n",
    "import datetime as dt # to work with date, time\n",
    "from bs4 import BeautifulSoup # to work with web scrapping (HTML)\n",
    "import pandas as pd # to work with tables (DataFrames) data\n",
    "from IPython.core.display import HTML # to display HTML in the notebook"
   ]
  },
  {
   "source": [
    "### Email Bot"
   ],
   "cell_type": "markdown",
   "metadata": {}
  },
  {
   "cell_type": "code",
   "execution_count": 7,
   "metadata": {},
   "outputs": [
    {
     "output_type": "stream",
     "name": "stdout",
     "text": [
      "DONE! Mail Sent to ha.ngoc1476@gmail.com\n"
     ]
    }
   ],
   "source": [
    "subject = 'Test Email' #INPUT1: Subject of the Email\n",
    "receiver_email = 'ha.ngoc1476@gmail.com'\n",
    "sender_email = os.environ['SENDER_EMAIL']\n",
    "password = os.environ['PWD_EMAIL'] \n",
    "\n",
    "# (1) Create the email head (sender, receiver, and subject)\n",
    "email = MIMEMultipart()\n",
    "email[\"From\"] = sender_email\n",
    "email[\"To\"] = receiver_email \n",
    "email[\"Subject\"] = subject\n",
    "\n",
    "# (2) Create Body part\n",
    "# We use html, you can convert word to html: https://wordtohtml.net/\n",
    "html1 = \"\"\"\n",
    "    <html>\n",
    "    <body>\n",
    "    <p>Hello,</p>\n",
    "    <p>How are you?</p>\n",
    "    <p>Click <a href=\"https://www.google.com/\">here</a> to download.</p>\n",
    "    </body>\n",
    "    </html>\n",
    "    \"\"\"\n",
    "html2 = \"\"\"\n",
    "<html>\n",
    "Email sent at <b>{}</b><br>\n",
    "</html>\n",
    "\"\"\".format(dt.datetime.now().isoformat())\n",
    "\n",
    "text3 = '--- End ----'\n",
    "\n",
    "# Combine parts\n",
    "part1 = MIMEText(html1, 'html')\n",
    "part2 = MIMEText(html2, 'html')\n",
    "part3 = MIMEText(text3, 'plain')\n",
    "\n",
    "email.attach(part1)\n",
    "email.attach(part2)\n",
    "email.attach(part3)\n",
    "\n",
    "# (3) Create SMTP session for sending the mail\n",
    "session = smtplib.SMTP('smtp.gmail.com', 587) #use gmail with port\n",
    "session.starttls() #enable security\n",
    "session.login(sender_email, password) #login with mail_id and password\n",
    "text = email.as_string()\n",
    "session.sendmail(sender_email, receiver_email, text)\n",
    "session.quit()\n",
    "\n",
    "print(f'DONE! Mail Sent to {receiver_email}')"
   ]
  },
  {
   "source": [
    "## TODO#2\n",
    "1. Từ Email Bot Code viết function send_email:\n",
    "inputs: subject, receiver_email, part1, part2, part3\n",
    "output: thực hiện việc gửi email và in ra kết quả\n",
    "2. Kết hợp Loops (For ... in) với function để gửi cùng nội dung email đến 1 list user: email_list = ['abc@gmail.com', 'xyz@gmail.com'] (thay đổi email bằng các email thật của bạn để test)"
   ],
   "cell_type": "markdown",
   "metadata": {}
  },
  {
   "cell_type": "code",
   "execution_count": 20,
   "metadata": {},
   "outputs": [
    {
     "output_type": "stream",
     "name": "stdout",
     "text": [
      "Done!. Mail Sent to ha.ngoc1476@gmail.com\n"
     ]
    }
   ],
   "source": [
    "# Write function to send the email\n",
    "def send_email(receiver_email, subject, part1, part2, part3):\n",
    "    # (1) Create the email head\n",
    "    sender_email = os.environ['SENDER_EMAIL']\n",
    "    password = os.environ['PWD_EMAIL']\n",
    "    \n",
    "    email = MIMEMultipart()\n",
    "    email['From'] = sender_email\n",
    "    email['To'] = receiver_email\n",
    "    email['Subject'] = subject\n",
    "    #(2) Attach mail\n",
    "    email.attach(part1)\n",
    "    email.attach(part2)\n",
    "    email.attach(part3)\n",
    "    # (3) Create SMTP session for sending the mail\n",
    "    try:\n",
    "        session = smtplib.SMTP('smtp.gmail.com', 587) #use gmail with port\n",
    "        session.starttls() #enable security\n",
    "        session.login(sender_email, password) #login with mail_id and password\n",
    "        text = email.as_string()\n",
    "        session.sendmail(sender_email, receiver_email, text)\n",
    "        print('Done!. Mail Sent to {}'.format(receiver_email))\n",
    "    except:\n",
    "        print('Email delivery failure')\n",
    "send_email(receiver_email, subject, part1, part2, part3)"
   ]
  },
  {
   "cell_type": "code",
   "execution_count": 22,
   "metadata": {},
   "outputs": [
    {
     "output_type": "stream",
     "name": "stdout",
     "text": [
      "Done!. Mail Sent to ngocha.nt1476@gmail.com\n",
      "Done!. Mail Sent to ha.ngoc1476@gmail.com\n"
     ]
    }
   ],
   "source": [
    "#use function above to send the email\n",
    "email_list = ['ngocha.nt1476@gmail.com', 'ha.ngoc1476@gmail.com']\n",
    "for receiver_email in email_list:\n",
    "    send_email(receiver_email, subject, part1, part2, part3)"
   ]
  },
  {
   "source": [
    "### Call API\n",
    ". API (Application Programming Interface): Là cách thức và phương tiện để 2 applications nói chuyện với nhau. Ở đây là giữa Python program trên Colab của bạn và các Web application khác.\n",
    "\n",
    ". Đây là concept nền tảng trong việc Automation\n",
    "API nhận input là JSON file (có khi không nhận) và trả lại output là JSON file => Request/Call API\n",
    "\n",
    ". Đây là một cách phổ biến đế gửi và nhận data\n",
    "\n",
    "Đoạn code bên dưới:\n",
    "\n",
    ". Lấy input là API_KEY, country, ta request API của Open Weather\n",
    "\n",
    ". Được trả lại file kết quả dưới dạng JSON\n",
    "\n",
    ". Trích xuất 1 vài thông tin, và lưu ra file text"
   ],
   "cell_type": "markdown",
   "metadata": {}
  },
  {
   "cell_type": "code",
   "execution_count": 23,
   "metadata": {},
   "outputs": [
    {
     "output_type": "stream",
     "name": "stdout",
     "text": [
      "DONE! Output in weather.txt file\n"
     ]
    }
   ],
   "source": [
    "# base URL\n",
    "BASE_URL = \"https://api.openweathermap.org/data/2.5/weather?\"\n",
    "# City Name \n",
    "CITY = \"London\"\n",
    "# API key \n",
    "API_KEY = os.environ['WEATHER_API_KEY']\n",
    "# upadting the URL\n",
    "URL = BASE_URL + \"q=\" + CITY + \"&appid=\" + API_KEY\n",
    "# HTTP request\n",
    "response = requests.get(URL)\n",
    "# checking the status code of the request\n",
    "if response.status_code == 200:\n",
    "   # getting data in the json format\n",
    "   data = response.json()\n",
    "   # getting the main dict block\n",
    "   main = data['main']\n",
    "   # getting temperature\n",
    "   temperature = main['temp']\n",
    "   # getting the humidity\n",
    "   humidity = main['humidity']\n",
    "   # getting the pressure\n",
    "   pressure = main['pressure']\n",
    "   # weather report\n",
    "   report = data['weather']\n",
    "   f = open('weather.txt','w') ## write to text file\n",
    "   print(f'{CITY:-^30}', file=f)\n",
    "   print(f'Temperature: {temperature}', file=f)\n",
    "   print(f'Humidity: {humidity}', file=f)\n",
    "   print(f'Pressure: {pressure}', file=f)\n",
    "   print(f\"Weather Report: {report[0]['description']}\", file=f)\n",
    "   f.close()\n",
    "   print('DONE! Output in weather.txt file')\n",
    "else:\n",
    "   # showing the error message\n",
    "   print('Error in the HTTP request')\n",
    "   print(response)"
   ]
  },
  {
   "cell_type": "code",
   "execution_count": 24,
   "metadata": {},
   "outputs": [
    {
     "output_type": "stream",
     "name": "stdout",
     "text": [
      "------------London------------\nTemperature: 281.65\nHumidity: 81\nPressure: 1005\nWeather Report: overcast clouds\n\n"
     ]
    }
   ],
   "source": [
    "print(open(\"weather.txt\", \"r\").read())"
   ]
  },
  {
   "source": [
    "# Khám phá file JSON\n",
    "data"
   ],
   "cell_type": "code",
   "metadata": {},
   "execution_count": 25,
   "outputs": [
    {
     "output_type": "execute_result",
     "data": {
      "text/plain": [
       "{'coord': {'lon': -0.1257, 'lat': 51.5085},\n",
       " 'weather': [{'id': 804,\n",
       "   'main': 'Clouds',\n",
       "   'description': 'overcast clouds',\n",
       "   'icon': '04n'}],\n",
       " 'base': 'stations',\n",
       " 'main': {'temp': 281.65,\n",
       "  'feels_like': 280.54,\n",
       "  'temp_min': 280.93,\n",
       "  'temp_max': 282.59,\n",
       "  'pressure': 1005,\n",
       "  'humidity': 81},\n",
       " 'visibility': 10000,\n",
       " 'wind': {'speed': 2.06, 'deg': 150},\n",
       " 'clouds': {'all': 100},\n",
       " 'dt': 1621046042,\n",
       " 'sys': {'type': 1,\n",
       "  'id': 1414,\n",
       "  'country': 'GB',\n",
       "  'sunrise': 1621051712,\n",
       "  'sunset': 1621107921},\n",
       " 'timezone': 3600,\n",
       " 'id': 2643743,\n",
       " 'name': 'London',\n",
       " 'cod': 200}"
      ]
     },
     "metadata": {},
     "execution_count": 25
    }
   ]
  },
  {
   "cell_type": "code",
   "execution_count": 26,
   "metadata": {},
   "outputs": [
    {
     "output_type": "execute_result",
     "data": {
      "text/plain": [
       "'London'"
      ]
     },
     "metadata": {},
     "execution_count": 26
    }
   ],
   "source": [
    "data['name']"
   ]
  },
  {
   "cell_type": "code",
   "execution_count": 27,
   "metadata": {},
   "outputs": [
    {
     "output_type": "execute_result",
     "data": {
      "text/plain": [
       "51.5085"
      ]
     },
     "metadata": {},
     "execution_count": 27
    }
   ],
   "source": [
    "data['coord']['lat']"
   ]
  },
  {
   "source": [
    "## TODO#3"
   ],
   "cell_type": "markdown",
   "metadata": {}
  },
  {
   "source": [
    "#### 1. Trên file json kết quả:\n",
    ". Lấy thông tin trạng thái thời tiết (weather) chính (main) ở London\n",
    "\n",
    ". Lấy lat & lon (kinh độ và vĩ độ của London)"
   ],
   "cell_type": "markdown",
   "metadata": {}
  },
  {
   "cell_type": "code",
   "execution_count": 28,
   "metadata": {},
   "outputs": [
    {
     "output_type": "stream",
     "name": "stdout",
     "text": [
      "The main weather of London is Clouds\nLongtitude is -0.1257 and Latitude is 51.5085\n"
     ]
    }
   ],
   "source": [
    "#getting main weather\n",
    "main_weather=data['weather'][0]['main']\n",
    "#getting lat\n",
    "lat = data['coord']['lat']\n",
    "#getting lat\n",
    "lon = data['coord']['lon']\n",
    "city=data['name']\n",
    "#print the main weather, lat, lon\n",
    "print(f'The main weather of {city} is {main_weather}\\nLongtitude is {lon} and Latitude is {lat}')"
   ]
  },
  {
   "source": [
    "#### 2. Viết function get_weather_data\n",
    ". inputs: city\n",
    "\n",
    ". outputs: đoạn text thông tin thời tiết"
   ],
   "cell_type": "markdown",
   "metadata": {}
  },
  {
   "cell_type": "code",
   "execution_count": 61,
   "metadata": {},
   "outputs": [
    {
     "output_type": "stream",
     "name": "stdout",
     "text": [
      "The main weather of Hanoi is broken clouds.\nThe temperature is 304.15, humidity is 74 and pressure is 1007.\n"
     ]
    }
   ],
   "source": [
    "def get_weather_data(city):\n",
    "    # base URL\n",
    "    BASE_URL = \"https://api.openweathermap.org/data/2.5/weather?\"\n",
    "    # API key \n",
    "    API_KEY = os.environ['WEATHER_API_KEY']\n",
    "    # upadting the URL\n",
    "    URL = BASE_URL + \"q=\" + city + \"&appid=\" + API_KEY\n",
    "    # HTTP request\n",
    "    response = requests.get(URL)\n",
    "    # checking the status code of the request\n",
    "    if response.status_code == 200:\n",
    "        # getting data in the json format\n",
    "        data = response.json()\n",
    "        # getting the main dict block\n",
    "        main = data['main']\n",
    "        # getting temperature\n",
    "        temperature = main['temp']\n",
    "        # getting the humidity\n",
    "        humidity = main['humidity']\n",
    "        # getting the pressure\n",
    "        pressure = main['pressure']\n",
    "        # weather report\n",
    "        report = data['weather']\n",
    "        main_report = report[0]['description']\n",
    "        \n",
    "        # test the weather text\n",
    "        output = f'The main weather of {city} is {main_report}.\\nThe temperature is {temperature}, humidity is {humidity} and pressure is {pressure}.'\n",
    "    else:\n",
    "        # showing the error message\n",
    "        output = 'Error in the HTTP request'\n",
    "    return(output)\n",
    "text=get_weather_data('Hanoi')\n",
    "print(text)"
   ]
  },
  {
   "source": [
    "#### 3. Dùng function send_email in TODO #1, thay phần 3 trong nội dùng email bằng thông tin thời tiết của London gửi cho 1 địa chỉ email của bạn"
   ],
   "cell_type": "markdown",
   "metadata": {}
  },
  {
   "cell_type": "code",
   "execution_count": 63,
   "metadata": {},
   "outputs": [
    {
     "output_type": "stream",
     "name": "stdout",
     "text": [
      "Done!. Mail Sent to ha.ngoc1476@gmail.com\n"
     ]
    }
   ],
   "source": [
    "#send mail to \n",
    "receiver_email ='ha.ngoc1476@gmail.com'\n",
    "subject = 'Hanoi Weather'\n",
    "city='Hanoi'\n",
    "# get weather data\n",
    "text3 = get_weather_data(city)\n",
    "part3 = MIMEText(text3, 'plain')\n",
    "#use function send_mail\n",
    "send_email(receiver_email, subject, part1, part2, part3)"
   ]
  },
  {
   "source": [
    "### Concept: Web Scrapping"
   ],
   "cell_type": "markdown",
   "metadata": {}
  },
  {
   "cell_type": "code",
   "execution_count": 47,
   "metadata": {},
   "outputs": [
    {
     "output_type": "stream",
     "name": "stdout",
     "text": [
      "API Status Code: 200\n",
      "COVID-19\n"
     ]
    }
   ],
   "source": [
    "response = requests.get(\n",
    "\turl=\"https://en.wikipedia.org/wiki/COVID-19\",\n",
    "  )\n",
    "print(\"API Status Code: \"+ str(response.status_code))\n",
    "soup = BeautifulSoup(response.content, 'html.parser')\n",
    "\n",
    "title = soup.find(id=\"firstHeading\")\n",
    "print(title.string)"
   ]
  },
  {
   "cell_type": "code",
   "execution_count": 50,
   "metadata": {},
   "outputs": [],
   "source": [
    "# Get all the links\n",
    "p = soup.find(id=\"bodyContent\").find_all(\"p\")"
   ]
  },
  {
   "cell_type": "code",
   "execution_count": 53,
   "metadata": {},
   "outputs": [
    {
     "output_type": "execute_result",
     "data": {
      "text/plain": [
       "<IPython.core.display.HTML object>"
      ],
      "text/html": "<p><b>2021</b>\n</p>"
     },
     "metadata": {},
     "execution_count": 53
    }
   ],
   "source": [
    "from IPython.core.display import HTML\n",
    "HTML(str(p[3]))"
   ]
  },
  {
   "source": [
    "## TODO#4\n",
    "1. Dùng function send_email in Excercise 1.1, thay phần 3 trong nội dùng email bằng thông tin COVID-19 từ Wikipedia gửi cho 1 địa chỉ email của bạn"
   ],
   "cell_type": "markdown",
   "metadata": {}
  },
  {
   "source": [
    "text3 = str(p[3])  #change part3 into the content of Covid-19\n",
    "part3 = MIMEText(text3, 'html')\n",
    "# send mail\n",
    "subject = 'Covid information' #INPUT1: Subject of the Email\n",
    "receiver_email = 'ha.ngoc1476@gmail.com' #INPUT2: email address to receive the email\n",
    "\n",
    "send_email(receiver_email, subject, part1, part2, part3)"
   ],
   "cell_type": "code",
   "metadata": {},
   "execution_count": 44,
   "outputs": [
    {
     "output_type": "stream",
     "name": "stdout",
     "text": [
      "Done!. Mail Sent to ha.ngoc1476@gmail.com\n"
     ]
    }
   ]
  },
  {
   "source": [
    "### Concept CSV\n",
    ". CSV là dạng data có các cột được ngăn cách bằng dấu phẩy(Comma-separated value)\n",
    "\n",
    ". Đây là dạng data (bảng) cực kỳ phổ biến trong Data Analytics & Data Science\n",
    "\n",
    ". Có thể đọc, ghi, và xử lý bằng pandas"
   ],
   "cell_type": "markdown",
   "metadata": {}
  },
  {
   "cell_type": "code",
   "execution_count": 229,
   "metadata": {},
   "outputs": [],
   "source": [
    "csv = \"\"\"email,contents,city\n",
    "abc@gmail.com,News,Hanoi\n",
    "xyz@gmail.com,Weather,London\n",
    "\"\"\"\n",
    "f = open('email_list.csv','w') ## write to text file\n",
    "f.write(csv)\n",
    "f.close()"
   ]
  },
  {
   "cell_type": "code",
   "execution_count": 230,
   "metadata": {},
   "outputs": [],
   "source": [
    "import pandas as pd\n",
    "email_list = pd.read_csv('email_list.csv')"
   ]
  },
  {
   "cell_type": "code",
   "execution_count": 231,
   "metadata": {},
   "outputs": [
    {
     "output_type": "execute_result",
     "data": {
      "text/plain": [
       "           email contents    city\n",
       "0  abc@gmail.com     News   Hanoi\n",
       "1  xyz@gmail.com  Weather  London"
      ],
      "text/html": "<div>\n<style scoped>\n    .dataframe tbody tr th:only-of-type {\n        vertical-align: middle;\n    }\n\n    .dataframe tbody tr th {\n        vertical-align: top;\n    }\n\n    .dataframe thead th {\n        text-align: right;\n    }\n</style>\n<table border=\"1\" class=\"dataframe\">\n  <thead>\n    <tr style=\"text-align: right;\">\n      <th></th>\n      <th>email</th>\n      <th>contents</th>\n      <th>city</th>\n    </tr>\n  </thead>\n  <tbody>\n    <tr>\n      <th>0</th>\n      <td>abc@gmail.com</td>\n      <td>News</td>\n      <td>Hanoi</td>\n    </tr>\n    <tr>\n      <th>1</th>\n      <td>xyz@gmail.com</td>\n      <td>Weather</td>\n      <td>London</td>\n    </tr>\n  </tbody>\n</table>\n</div>"
     },
     "metadata": {},
     "execution_count": 231
    }
   ],
   "source": [
    "email_list"
   ]
  },
  {
   "source": [
    "## TODO#5\n",
    "1. Add các địa chỉ email có ý nghĩa, và thêm dòng vào file csv (lưu ý không có dấu cách)\n",
    "2. Dùng code để gửi email cho một list từ csv:\n",
    ". Nếu email có contents = 'News' => Gửi thông tin COVID19\n",
    ". Nếu email có contents = 'Weather' => Gửi thông tin thời tiết theo thành phố trong cột city (lưu ý check các city được hỗ trợ trong API)"
   ],
   "cell_type": "markdown",
   "metadata": {}
  },
  {
   "cell_type": "code",
   "execution_count": 227,
   "metadata": {},
   "outputs": [],
   "source": [
    "def email_list_csv(email_list):\n",
    "    csv = \"\"\"email,contents,city\n",
    "    ha.ngoc1476@gmail.com,News,London\n",
    "    ngocha.nt1476@gmail.com,Weather,Hanoi\n",
    "    \"\"\"\n",
    "    f = open('email_list.csv','w') ## write to text file\n",
    "    f.write(csv)\n",
    "    f.close()"
   ]
  },
  {
   "cell_type": "code",
   "execution_count": 244,
   "metadata": {},
   "outputs": [
    {
     "output_type": "stream",
     "name": "stdout",
     "text": [
      "Email #0\n",
      "COVID To:     ha.ngoc1476@gmail.com\n",
      "Email #1\n",
      "Weather To:     ngocha.nt1476@gmail.com\n",
      "Done!. Mail Sent to ha.ngoc1476@gmail.com\n",
      "DONE!\n"
     ]
    }
   ],
   "source": [
    "email_list = pd.read_csv('email_list.csv')\n",
    "for i in range(len(email_list)):\n",
    "    print('Email #{}'.format(i))\n",
    "    receiver = email_list['email'][i]\n",
    "    content = email_list['contents'][i]\n",
    "    city = email_list['city'][i]\n",
    "\n",
    "    if content == 'News':\n",
    "        print('COVID To: {}'.format(receiver))\n",
    "        subject = 'Covid information'\n",
    "        part3 = MIMEText(str(p[3]), 'html')\n",
    "    elif content == 'Weather':\n",
    "        print(\"Weather To: {}\".format(receiver))\n",
    "        subject = 'Hanoi Weather'\n",
    "        part3 = MIMEText(text3, 'plain')\n",
    "    else:\n",
    "        print('Invalid Contents')\n",
    "send_email(receiver_email, subject, part1, part2, part3)\n",
    "print('DONE!')"
   ]
  }
 ]
}
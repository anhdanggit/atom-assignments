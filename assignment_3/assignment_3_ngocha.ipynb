{
 "metadata": {
  "language_info": {
   "codemirror_mode": {
    "name": "ipython",
    "version": 3
   },
   "file_extension": ".py",
   "mimetype": "text/x-python",
   "name": "python",
   "nbconvert_exporter": "python",
   "pygments_lexer": "ipython3",
   "version": "3.9.1"
  },
  "orig_nbformat": 2,
  "kernelspec": {
   "name": "python391jvsc74a57bd05271bdc391cb7228ab6e6395e7c6cdc955f1980bb74892059d6755de2b4edae4",
   "display_name": "Python 3.9.1 64-bit"
  },
  "metadata": {
   "interpreter": {
    "hash": "5271bdc391cb7228ab6e6395e7c6cdc955f1980bb74892059d6755de2b4edae4"
   }
  }
 },
 "nbformat": 4,
 "nbformat_minor": 2,
 "cells": [
  {
   "cell_type": "code",
   "execution_count": 2,
   "metadata": {},
   "outputs": [],
   "source": [
    "import requests #-> Để gọi API\n",
    "import re #-> Để xử lý data dạng string\n",
    "from datetime import datetime as dt #-> Để xử lý data dạng datetime\n",
    "import gspread #-> Để update data lên Google Spreadsheet\n",
    "from gspread_dataframe import set_with_dataframe #-> Để update data lên Google Spreadsheet\n",
    "import pandas as pd #-> Để update data dạng bản\n",
    "import json \n",
    "from oauth2client.service_account import ServiceAccountCredentials #-> Để nhập Google Spreadsheet Credentials\n",
    "import os"
   ]
  },
  {
   "cell_type": "code",
   "execution_count": 3,
   "metadata": {},
   "outputs": [],
   "source": [
    "with open('env_variable.json', 'r') as j:\n",
    "    json_data = json.load(j)\n",
    "    #print(json_data)"
   ]
  },
  {
   "cell_type": "code",
   "execution_count": 4,
   "metadata": {},
   "outputs": [],
   "source": [
    "## Load SLACK_BEARER_TOKEN\n",
    "os.environ['SLACK_BEARER_TOKEN'] = json_data['SLACK_BEARER_TOKEN']"
   ]
  },
  {
   "cell_type": "code",
   "execution_count": 5,
   "metadata": {
    "tags": []
   },
   "outputs": [],
   "source": [
    "## Gọi API từ Endpoints (Input - Token được đưa vào Headers)\n",
    "## Challenge: Thử gọi API này bằng Postman\n",
    "endpoint = \"https://slack.com/api/users.list\"\n",
    "headers = {\"Authorization\": \"Bearer {}\".format(os.environ['SLACK_BEARER_TOKEN'])}\n",
    "response_json = requests.post(endpoint, headers=headers).json()\n",
    "user_dat = response_json['members']"
   ]
  },
  {
   "cell_type": "code",
   "execution_count": 6,
   "metadata": {},
   "outputs": [],
   "source": [
    "\n",
    "## Loop qua JSON file và extract các thông tin quan trọng (id, name, display_name, real_name_normalized, title, phone, is_bot)\n",
    "## Hint: Bạn có thể dùng Postman hoặc in user_dat JSON để xem cấu trúc (schema), dùng Ctrl+F để tìm các keys (id, name, display_name, real_name_normalized, title, phone, is_bot)\n",
    "user_dict = {'user_id':[], 'name':[], 'display_name':[],'real_name':[],'title':[],'phone':[],'is_bot':[]}\n",
    "for i in range(len(user_dat)):\n",
    "  user_dict['user_id'].append(user_dat[i]['id'])\n",
    "  user_dict['name'].append(user_dat[i]['name'])\n",
    "  user_dict['display_name'].append(user_dat[i]['profile']['display_name'])\n",
    "  user_dict['real_name'].append(user_dat[i]['profile']['real_name_normalized'])\n",
    "  user_dict['title'].append(user_dat[i]['profile']['title'])\n",
    "  user_dict['phone'].append(user_dat[i]['profile']['phone'])\n",
    "  user_dict['is_bot'].append(user_dat[i]['is_bot'])"
   ]
  },
  {
   "cell_type": "code",
   "execution_count": 8,
   "metadata": {},
   "outputs": [
    {
     "output_type": "execute_result",
     "data": {
      "text/plain": [
       "       user_id               name       display_name           real_name  \\\n",
       "0    USLACKBOT           slackbot           Slackbot            Slackbot   \n",
       "1  U01AT4T75JB     loclexuan26392        Loc Le Xuan         Loc Le Xuan   \n",
       "2  U01AVDY7JET           locle.ds        Loc Le Xuan         Loc Le Xuan   \n",
       "3  U01BE2PR6LU     maianhdang.ftu                MAD  Dặng Huỳnh Mai Anh   \n",
       "4  U01C48T7S1J  huyenhoang.design  Thanh Huyen Hoang   Thanh Huyen Hoang   \n",
       "\n",
       "                title phone  is_bot  \n",
       "0                             False  \n",
       "1                             False  \n",
       "2                             False  \n",
       "3  Technical Contents         False  \n",
       "4                             False  "
      ],
      "text/html": "<div>\n<style scoped>\n    .dataframe tbody tr th:only-of-type {\n        vertical-align: middle;\n    }\n\n    .dataframe tbody tr th {\n        vertical-align: top;\n    }\n\n    .dataframe thead th {\n        text-align: right;\n    }\n</style>\n<table border=\"1\" class=\"dataframe\">\n  <thead>\n    <tr style=\"text-align: right;\">\n      <th></th>\n      <th>user_id</th>\n      <th>name</th>\n      <th>display_name</th>\n      <th>real_name</th>\n      <th>title</th>\n      <th>phone</th>\n      <th>is_bot</th>\n    </tr>\n  </thead>\n  <tbody>\n    <tr>\n      <th>0</th>\n      <td>USLACKBOT</td>\n      <td>slackbot</td>\n      <td>Slackbot</td>\n      <td>Slackbot</td>\n      <td></td>\n      <td></td>\n      <td>False</td>\n    </tr>\n    <tr>\n      <th>1</th>\n      <td>U01AT4T75JB</td>\n      <td>loclexuan26392</td>\n      <td>Loc Le Xuan</td>\n      <td>Loc Le Xuan</td>\n      <td></td>\n      <td></td>\n      <td>False</td>\n    </tr>\n    <tr>\n      <th>2</th>\n      <td>U01AVDY7JET</td>\n      <td>locle.ds</td>\n      <td>Loc Le Xuan</td>\n      <td>Loc Le Xuan</td>\n      <td></td>\n      <td></td>\n      <td>False</td>\n    </tr>\n    <tr>\n      <th>3</th>\n      <td>U01BE2PR6LU</td>\n      <td>maianhdang.ftu</td>\n      <td>MAD</td>\n      <td>Dặng Huỳnh Mai Anh</td>\n      <td>Technical Contents</td>\n      <td></td>\n      <td>False</td>\n    </tr>\n    <tr>\n      <th>4</th>\n      <td>U01C48T7S1J</td>\n      <td>huyenhoang.design</td>\n      <td>Thanh Huyen Hoang</td>\n      <td>Thanh Huyen Hoang</td>\n      <td></td>\n      <td></td>\n      <td>False</td>\n    </tr>\n  </tbody>\n</table>\n</div>"
     },
     "metadata": {},
     "execution_count": 8
    }
   ],
   "source": [
    "user_df = pd.DataFrame(user_dict) ## Dùng pandas để convert dictionaries thành bảng\n",
    "user_df.head(5) ## Chỉ in 5 dòng đầu (chủ yếu để xem cấu trúc)"
   ]
  },
  {
   "cell_type": "code",
   "execution_count": 9,
   "metadata": {},
   "outputs": [
    {
     "output_type": "execute_result",
     "data": {
      "text/plain": [
       "       user_id            name display_name           real_name  \\\n",
       "3  U01BE2PR6LU  maianhdang.ftu          MAD  Dặng Huỳnh Mai Anh   \n",
       "\n",
       "                title phone  is_bot  \n",
       "3  Technical Contents         False  "
      ],
      "text/html": "<div>\n<style scoped>\n    .dataframe tbody tr th:only-of-type {\n        vertical-align: middle;\n    }\n\n    .dataframe tbody tr th {\n        vertical-align: top;\n    }\n\n    .dataframe thead th {\n        text-align: right;\n    }\n</style>\n<table border=\"1\" class=\"dataframe\">\n  <thead>\n    <tr style=\"text-align: right;\">\n      <th></th>\n      <th>user_id</th>\n      <th>name</th>\n      <th>display_name</th>\n      <th>real_name</th>\n      <th>title</th>\n      <th>phone</th>\n      <th>is_bot</th>\n    </tr>\n  </thead>\n  <tbody>\n    <tr>\n      <th>3</th>\n      <td>U01BE2PR6LU</td>\n      <td>maianhdang.ftu</td>\n      <td>MAD</td>\n      <td>Dặng Huỳnh Mai Anh</td>\n      <td>Technical Contents</td>\n      <td></td>\n      <td>False</td>\n    </tr>\n  </tbody>\n</table>\n</div>"
     },
     "metadata": {},
     "execution_count": 9
    }
   ],
   "source": [
    "user_df[user_df.display_name == 'MAD'] ## Lọc thông tin của MAD"
   ]
  },
  {
   "cell_type": "code",
   "execution_count": 10,
   "metadata": {},
   "outputs": [
    {
     "output_type": "stream",
     "name": "stdout",
     "text": [
      "DONE!\n"
     ]
    }
   ],
   "source": [
    "## Authorize bằng JSON\n",
    "scope = ['https://spreadsheets.google.com/feeds',\n",
    "         'https://www.googleapis.com/auth/drive']\n",
    "credentials = ServiceAccountCredentials.from_json_keyfile_name(\n",
    "    'GG API.json', scope)\n",
    "gc = gspread.authorize(credentials)\n",
    "print(\"DONE!\")"
   ]
  },
  {
   "cell_type": "code",
   "execution_count": 77,
   "metadata": {},
   "outputs": [],
   "source": [
    "# ACCES GOOGLE SHEET\n",
    "sheet_index_no = 0\n",
    "spreadsheet_key = '1jmy1jSgzq4gO-P5bKNRdlrVGXcCkdhkhM68aWAKJ9EQ' # input SPREADSHEET_KEY HERE\n",
    "sh = gc.open_by_key(spreadsheet_key)\n",
    "worksheet = sh.get_worksheet(sheet_index_no) #-> 0 - first sheet, 1 - second sheet etc. \n",
    "# APPEND DATA TO SHEET\n",
    "set_with_dataframe(worksheet, user_df) #-> Upload user_df vào Sheet đầu tiên trong Spreadsheet"
   ]
  },
  {
   "cell_type": "code",
   "execution_count": 13,
   "metadata": {},
   "outputs": [],
   "source": [
    "## Gọi SLACK API để list tất cả các channel\n",
    "endpoint = \"https://slack.com/api/conversations.list\"\n",
    "headers = {\"Authorization\": \"Bearer {}\".format(os.environ['SLACK_BEARER_TOKEN'])}\n",
    "response = requests.post(endpoint, headers=headers).json()\n",
    "channel_ls = response['channels']"
   ]
  },
  {
   "cell_type": "code",
   "execution_count": 14,
   "metadata": {},
   "outputs": [
    {
     "output_type": "execute_result",
     "data": {
      "text/plain": [
       "{'id': 'C01B4PVGLVB',\n",
       " 'name': 'general',\n",
       " 'is_channel': True,\n",
       " 'is_group': False,\n",
       " 'is_im': False,\n",
       " 'created': 1600856703,\n",
       " 'is_archived': False,\n",
       " 'is_general': True,\n",
       " 'unlinked': 0,\n",
       " 'name_normalized': 'general',\n",
       " 'is_shared': False,\n",
       " 'parent_conversation': None,\n",
       " 'creator': 'U01BE2PR6LU',\n",
       " 'is_ext_shared': False,\n",
       " 'is_org_shared': False,\n",
       " 'shared_team_ids': ['T01B7SGGMLJ'],\n",
       " 'pending_shared': [],\n",
       " 'pending_connected_team_ids': [],\n",
       " 'is_pending_ext_shared': False,\n",
       " 'is_member': False,\n",
       " 'is_private': False,\n",
       " 'is_mpim': False,\n",
       " 'topic': {'value': '', 'creator': '', 'last_set': 0},\n",
       " 'purpose': {'value': 'This is the one channel that will always include everyone. It’s a great spot for announcements and team-wide conversations.',\n",
       "  'creator': 'U01BE2PR6LU',\n",
       "  'last_set': 1600856703},\n",
       " 'previous_names': [],\n",
       " 'num_members': 63}"
      ]
     },
     "metadata": {},
     "execution_count": 14
    }
   ],
   "source": [
    "\n",
    "channel_ls[0] ## Thử extract record đầu tiên để xem schema  => name: general, id: C01B4PVGLVB"
   ]
  },
  {
   "cell_type": "code",
   "execution_count": 15,
   "metadata": {},
   "outputs": [
    {
     "output_type": "stream",
     "name": "stdout",
     "text": [
      "C021FSDN7LJ\n"
     ]
    }
   ],
   "source": [
    "#Tìm id của channel #atom-assignment2\n",
    "for i in channel_ls:\n",
    "    if i['name'] == 'atom-assignment2':\n",
    "        atom_assignment2_id = i['id']\n",
    "\n",
    "print(atom_assignment2_id)"
   ]
  },
  {
   "cell_type": "code",
   "execution_count": 17,
   "metadata": {},
   "outputs": [],
   "source": [
    "endpoint = \"https://slack.com/api/conversations.history\"\n",
    "data = {\"channel\": \"C01U6P7LZ8F\"} ## This is ID of assignment#1 channel\n",
    "headers = {\"Authorization\": \"Bearer {}\".format(os.environ['SLACK_BEARER_TOKEN'])}"
   ]
  },
  {
   "cell_type": "code",
   "execution_count": 19,
   "metadata": {},
   "outputs": [],
   "source": [
    "response_json = requests.post(endpoint, data=data, headers=headers).json()\n",
    "msg_ls = response_json['messages']"
   ]
  },
  {
   "cell_type": "code",
   "execution_count": 97,
   "metadata": {},
   "outputs": [
    {
     "output_type": "execute_result",
     "data": {
      "text/plain": [
       "{'client_msg_id': 'f37184b6-5b1d-4e2e-a0ef-72106846683c',\n",
       " 'type': 'message',\n",
       " 'text': '<https://github.com/duongphannamhung/datacracy-atom-duongphannamhung> : Em gửi link assignment 1 của mình. Chúc mọi người nghỉ lễ vui vẻ nha :smiling_face_with_3_hearts:',\n",
       " 'user': 'U01UMJ5AQ0K',\n",
       " 'ts': '1618984834.000800',\n",
       " 'team': 'T01B7SGGMLJ',\n",
       " 'attachments': [{'service_name': 'GitHub',\n",
       "   'title': 'duongphannamhung/datacracy-atom-duongphannamhung',\n",
       "   'title_link': 'https://github.com/duongphannamhung/datacracy-atom-duongphannamhung',\n",
       "   'text': 'Hôm nay, mình học DATAcracy. Contribute to duongphannamhung/datacracy-atom-duongphannamhung development by creating an account on GitHub.',\n",
       "   'fallback': 'GitHub: duongphannamhung/datacracy-atom-duongphannamhung',\n",
       "   'image_url': 'https://opengraph.githubassets.com/42dc9d8f2daadd198aa1736e0a5b85b878bebc00aaf8fd5131f1d4174876aefc/duongphannamhung/datacracy-atom-duongphannamhung',\n",
       "   'from_url': 'https://github.com/duongphannamhung/datacracy-atom-duongphannamhung',\n",
       "   'image_width': 500,\n",
       "   'image_height': 250,\n",
       "   'image_bytes': 116968,\n",
       "   'service_icon': 'https://a.slack-edge.com/80588/img/unfurl_icons/github.png',\n",
       "   'id': 1,\n",
       "   'original_url': 'https://github.com/duongphannamhung/datacracy-atom-duongphannamhung'}],\n",
       " 'blocks': [{'type': 'rich_text',\n",
       "   'block_id': '2vN',\n",
       "   'elements': [{'type': 'rich_text_section',\n",
       "     'elements': [{'type': 'link',\n",
       "       'url': 'https://github.com/duongphannamhung/datacracy-atom-duongphannamhung'},\n",
       "      {'type': 'text',\n",
       "       'text': ' : Em gửi link assignment 1 của mình. Chúc mọi người nghỉ lễ vui vẻ nha '},\n",
       "      {'type': 'emoji', 'name': 'smiling_face_with_3_hearts'}]}]}],\n",
       " 'thread_ts': '1618984834.000800',\n",
       " 'reply_count': 2,\n",
       " 'reply_users_count': 2,\n",
       " 'latest_reply': '1621129563.000800',\n",
       " 'reply_users': ['U01V00JK9LH', 'U01UJ9PRT5K'],\n",
       " 'is_locked': False,\n",
       " 'subscribed': False,\n",
       " 'reactions': [{'name': '+1',\n",
       "   'users': ['U01V00LQ7EV',\n",
       "    'U01U6JQB695',\n",
       "    'U01UJ9MUADT',\n",
       "    'U01UEJFMUSJ',\n",
       "    'U01UJ9P1S3X',\n",
       "    'U01BE2PR6LU',\n",
       "    'U01UJ9PRT5K'],\n",
       "   'count': 7},\n",
       "  {'name': 'wave',\n",
       "   'users': ['U01UJ9M5TU5', 'U01UEJFMUSJ', 'U01BE2PR6LU', 'U01VB632FPS'],\n",
       "   'count': 4},\n",
       "  {'name': 'construction', 'users': ['U01UJ9PRT5K'], 'count': 1},\n",
       "  {'name': 'white_check_mark',\n",
       "   'users': ['U01V00JK9LH', 'U01UJ9PRT5K'],\n",
       "   'count': 2}]}"
      ]
     },
     "metadata": {},
     "execution_count": 97
    }
   ],
   "source": [
    "msg_ls[50]"
   ]
  },
  {
   "cell_type": "code",
   "execution_count": 99,
   "metadata": {},
   "outputs": [
    {
     "output_type": "execute_result",
     "data": {
      "text/plain": [
       "range(0, 69)"
      ]
     },
     "metadata": {},
     "execution_count": 99
    }
   ],
   "source": [
    "range(len(msg_ls))"
   ]
  },
  {
   "cell_type": "code",
   "execution_count": 92,
   "metadata": {
    "tags": []
   },
   "outputs": [
    {
     "output_type": "stream",
     "name": "stdout",
     "text": [
      "                 latest_reply  reply_count  reply_users_count  \\\n0  2021-05-15 16:14:31.003600            2                  2   \n1  2021-05-18 15:09:59.000800            2                  2   \n2  2021-05-08 13:36:43.006000            1                  1   \n3  2021-05-11 10:10:06.001300            2                  2   \n4  2021-05-15 00:51:26.024600            1                  1   \n5  2021-05-15 00:52:35.025100            2                  2   \n6  2021-05-11 19:37:14.003100            1                  1   \n7  2021-05-14 18:22:06.023600            1                  1   \n8  2021-05-11 19:39:13.003700            2                  2   \n9  2021-05-10 19:45:15.005800            1                  1   \n10 2021-05-15 08:58:19.001900            1                  1   \n11 2021-05-11 21:46:48.005500            1                  1   \n12 2021-05-11 22:58:18.006600            1                  1   \n13 2021-05-13 10:53:49.000600            1                  1   \n14 2021-05-14 22:25:02.023900            2                  2   \n15 2021-05-10 20:58:47.006300            1                  1   \n16 2021-05-13 12:16:10.001100            2                  2   \n17 2021-05-14 11:37:23.022200            1                  1   \n18 2021-05-16 08:46:03.000800            2                  2   \n\n                   reply_users                                 github  \n0   [U01USGKQ771, U01V00KHHHP]            https://github.com/danhpcv/  \n1   [U01UTGS5ZNY, U01UMC08KL2]       https://github.com/auslynnguyen/  \n2                [U01UMBX2X18]            https://github.com/hoaintp/  \n3   [U01UMC0N5U2, U01U6JQB695]        https://github.com/Tenderriver/  \n4                [U01UMBZHU2W]         https://github.com/saturn1101/  \n5   [U01UMJ451V1, U01UMBZHU2W]  https://github.com/AnhThuNguyenHuynh/  \n6                [U01UMJ451V1]             https://github.com/vietqh/  \n7                [U01V00P4S2V]        https://github.com/vuthanhdatt/  \n8   [U01UMBW8G8J, U01UMJ451V1]        https://github.com/TranPham-96/  \n9                [U01UJ9MUADT]          https://github.com/annaho124/  \n10               [U01UTGVPE7N]     https://github.com/minhnguyentk95/  \n11               [U01UTGRMGEQ]         https://github.com/lienanh264/  \n12               [U01UJ9PA0MB]          https://github.com/Lulichlam/  \n13               [U01UJ9PA0MB]          https://github.com/tamle1012/  \n14  [U01UMBW8G8J, U01UTGT8CVA]            https://github.com/danhpcv/  \n15               [U01UJ9MUADT]         https://github.com/ngttnguyen/  \n16  [U01VB632FPS, U01UJ9PA0MB]        https://github.com/cnhhoang850/  \n17               [U01V00JK9LH]         https://github.com/interphuoc/  \n18  [U01V00JK9LH, U01UJ9PRT5K]   https://github.com/duongphannamhung/  \n"
     ]
    }
   ],
   "source": [
    "\n",
    "## Summarize all submitted assignments + reviews cnt\n",
    "not_learners_id = ['U01BE2PR6LU'] # -> Remove MA from the user_id\n",
    "msg_dict = {'latest_reply':[], 'reply_count': [], 'reply_users_count': [], 'reply_users': [], 'github': []  } \n",
    "\n",
    "for i in range(len(msg_ls)):\n",
    "  user = msg_ls[i]['user'] # -> Lấy thông tin người post messages\n",
    "  if user not in not_learners_id:\n",
    "    if 'attachments' in msg_ls[i].keys():\n",
    "      #print(msg_ls[i].keys())\n",
    "      text = msg_ls[i]['text']\n",
    "      github_link = re.findall('(?:https?://)?(?:www[.])?github[.]com/[\\w-]+/?', text) #-> Submission là các message có link github\n",
    "      #print(msg_ls[i])\n",
    "      if len(github_link) > 0: msg_dict['github'].append(github_link[0])\n",
    "      if 'reply_count' in msg_ls[i].keys(): msg_dict['reply_count'].append(msg_ls[i]['reply_count']) #-> Extract số review\n",
    "      if 'reply_users_count' in msg_ls[i].keys(): msg_dict['reply_users_count'].append(msg_ls[i]['reply_users_count'])\n",
    "      if 'reply_users' in msg_ls[i].keys(): msg_dict['reply_users'].append(msg_ls[i]['reply_users'])\n",
    "      if 'latest_reply' in msg_ls[i].keys(): msg_dict['latest_reply'].append(dt.fromtimestamp(float(msg_ls[i]['latest_reply'])))\n",
    "msg_df = pd.DataFrame(msg_dict)\n",
    "print(msg_df)"
   ]
  },
  {
   "cell_type": "code",
   "execution_count": 91,
   "metadata": {},
   "outputs": [],
   "source": [
    "# ACCES GOOGLE SHEET\n",
    "sheet_index_no1 = 1\n",
    "spreadsheet_key = '1jmy1jSgzq4gO-P5bKNRdlrVGXcCkdhkhM68aWAKJ9EQ'\n",
    "sh1 = gc.open_by_key(spreadsheet_key)\n",
    "worksheet1 = sh1.get_worksheet(sheet_index_no1) #-> 0 - first sheet, 1 - second sheet\n",
    "# APPEND DATA TO SHEET\n",
    "set_with_dataframe(worksheet1,msg_df)"
   ]
  },
  {
   "cell_type": "code",
   "execution_count": null,
   "metadata": {},
   "outputs": [],
   "source": []
  }
 ]
}
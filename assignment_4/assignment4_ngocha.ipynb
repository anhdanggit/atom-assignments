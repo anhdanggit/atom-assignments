{
 "metadata": {
  "language_info": {
   "codemirror_mode": {
    "name": "ipython",
    "version": 3
   },
   "file_extension": ".py",
   "mimetype": "text/x-python",
   "name": "python",
   "nbconvert_exporter": "python",
   "pygments_lexer": "ipython3",
   "version": "3.9.1"
  },
  "orig_nbformat": 2,
  "kernelspec": {
   "name": "python391jvsc74a57bd05271bdc391cb7228ab6e6395e7c6cdc955f1980bb74892059d6755de2b4edae4",
   "display_name": "Python 3.9.1 64-bit"
  },
  "metadata": {
   "interpreter": {
    "hash": "5271bdc391cb7228ab6e6395e7c6cdc955f1980bb74892059d6755de2b4edae4"
   }
  }
 },
 "nbformat": 4,
 "nbformat_minor": 2,
 "cells": [
  {
   "cell_type": "code",
   "execution_count": 11,
   "metadata": {},
   "outputs": [],
   "source": [
    "#!pip install duckdb"
   ]
  },
  {
   "cell_type": "code",
   "execution_count": 5,
   "metadata": {},
   "outputs": [],
   "source": [
    "import requests # -> Để call API\n",
    "import json # -> Xử lý file JSON\n",
    "import pandas as pd # -> Thư viện xử lý dữ liệu dạng bảng\n",
    "import re # -> Thư viện xử lý text: regular expressions\n",
    "from datetime import datetime as dt # -> Thư viện xử lý dữ liệu thời gian\n",
    "import duckdb # -> Thư viện \"giả lập\" xử lý dữ liệu bằng SQL "
   ]
  },
  {
   "source": [
    "### STEP 0: XEM LẠI DATA ĐÃ CÓ (SLACK API)\n",
    "Ở bước đầu tiên, ta xem lại tất cả các data của DATACracy Atom mà ra đã biết:\n",
    "\n",
    "Data từ Slack API:\n",
    "\n",
    "- Danh sách thành viên\n",
    "- Danh sách các channels\n",
    "\n",
    "Lịch sử tin nhắn trên các channels\n",
    "\n",
    "- Data do dự án tự collect - File CSV (trích xuất từ Google Spreadsheet):\n",
    "- Danh sách thành viên được phân theo vị trí (mentors, learners, BTC)\n",
    "\n",
    "===> Các dữ liệu này lần lượt được lấy bằng code bên dưới."
   ],
   "cell_type": "markdown",
   "metadata": {}
  },
  {
   "cell_type": "code",
   "execution_count": 6,
   "metadata": {},
   "outputs": [],
   "source": [
    "## Load Token file \n",
    "with open('../env_variable.json', 'r') as j:\n",
    "    json_data = json.load(j)"
   ]
  },
  {
   "source": [
    "### 0.1. Pull List of Members"
   ],
   "cell_type": "markdown",
   "metadata": {}
  },
  {
   "cell_type": "code",
   "execution_count": 11,
   "metadata": {},
   "outputs": [],
   "source": [
    "import numpy as np"
   ]
  },
  {
   "cell_type": "code",
   "execution_count": 12,
   "metadata": {},
   "outputs": [
    {
     "output_type": "execute_result",
     "data": {
      "text/plain": [
       "       user_id               name       display_name           real_name  \\\n",
       "0    USLACKBOT           slackbot           Slackbot            Slackbot   \n",
       "1  U01AT4T75JB     loclexuan26392        Loc Le Xuan         Loc Le Xuan   \n",
       "2  U01AVDY7JET           locle.ds        Loc Le Xuan         Loc Le Xuan   \n",
       "3  U01BE2PR6LU     maianhdang.ftu                MAD  Dặng Huỳnh Mai Anh   \n",
       "4  U01C48T7S1J  huyenhoang.design  Thanh Huyen Hoang   Thanh Huyen Hoang   \n",
       "\n",
       "                title  is_bot  \n",
       "0                 NaN   False  \n",
       "1                 NaN   False  \n",
       "2                 NaN   False  \n",
       "3  Technical Contents   False  \n",
       "4                 NaN   False  "
      ],
      "text/html": "<div>\n<style scoped>\n    .dataframe tbody tr th:only-of-type {\n        vertical-align: middle;\n    }\n\n    .dataframe tbody tr th {\n        vertical-align: top;\n    }\n\n    .dataframe thead th {\n        text-align: right;\n    }\n</style>\n<table border=\"1\" class=\"dataframe\">\n  <thead>\n    <tr style=\"text-align: right;\">\n      <th></th>\n      <th>user_id</th>\n      <th>name</th>\n      <th>display_name</th>\n      <th>real_name</th>\n      <th>title</th>\n      <th>is_bot</th>\n    </tr>\n  </thead>\n  <tbody>\n    <tr>\n      <th>0</th>\n      <td>USLACKBOT</td>\n      <td>slackbot</td>\n      <td>Slackbot</td>\n      <td>Slackbot</td>\n      <td>NaN</td>\n      <td>False</td>\n    </tr>\n    <tr>\n      <th>1</th>\n      <td>U01AT4T75JB</td>\n      <td>loclexuan26392</td>\n      <td>Loc Le Xuan</td>\n      <td>Loc Le Xuan</td>\n      <td>NaN</td>\n      <td>False</td>\n    </tr>\n    <tr>\n      <th>2</th>\n      <td>U01AVDY7JET</td>\n      <td>locle.ds</td>\n      <td>Loc Le Xuan</td>\n      <td>Loc Le Xuan</td>\n      <td>NaN</td>\n      <td>False</td>\n    </tr>\n    <tr>\n      <th>3</th>\n      <td>U01BE2PR6LU</td>\n      <td>maianhdang.ftu</td>\n      <td>MAD</td>\n      <td>Dặng Huỳnh Mai Anh</td>\n      <td>Technical Contents</td>\n      <td>False</td>\n    </tr>\n    <tr>\n      <th>4</th>\n      <td>U01C48T7S1J</td>\n      <td>huyenhoang.design</td>\n      <td>Thanh Huyen Hoang</td>\n      <td>Thanh Huyen Hoang</td>\n      <td>NaN</td>\n      <td>False</td>\n    </tr>\n  </tbody>\n</table>\n</div>"
     },
     "metadata": {},
     "execution_count": 12
    }
   ],
   "source": [
    "# 1. LIST OF SLACK MEMBERS \n",
    "\n",
    "## Pull list of member as JSON\n",
    "## Gọi API từ Endpoints (Input - Token được đưa vào Headers)\n",
    "## Challenge: Thử gọi API này bằng Postman\n",
    "endpoint = \"https://slack.com/api/users.list\"\n",
    "headers = {\"Authorization\": \"Bearer {}\".format(json_data['SLACK_BEARER_TOKEN'])}\n",
    "response_json = requests.post(endpoint, headers=headers).json() \n",
    "user_dat = response_json['members']\n",
    "\n",
    "## Convert to CSV\n",
    "user_dict = {'user_id':[],'name':[],'display_name':[],'real_name':[],'title':[],'is_bot':[]}\n",
    "for i in range(len(user_dat)):\n",
    "  user_dict['user_id'].append(user_dat[i]['id'])\n",
    "  user_dict['name'].append(user_dat[i]['name'])\n",
    "  user_dict['display_name'].append(user_dat[i]['profile']['display_name'])\n",
    "  user_dict['real_name'].append(user_dat[i]['profile']['real_name_normalized'])\n",
    "  user_dict['title'].append(user_dat[i]['profile']['title'])\n",
    "  user_dict['is_bot'].append(user_dat[i]['is_bot'])\n",
    "\n",
    "user_df = pd.DataFrame(user_dict) \n",
    "user_df = user_df.replace('', np.nan) # -> replace khoảng trắng bằng giá trị NULL (nan)\n",
    "user_df.head()"
   ]
  },
  {
   "source": [
    "### 0.2. List of Channels"
   ],
   "cell_type": "markdown",
   "metadata": {}
  },
  {
   "cell_type": "code",
   "execution_count": 13,
   "metadata": {},
   "outputs": [
    {
     "output_type": "execute_result",
     "data": {
      "text/plain": [
       "    channel_id      channel_name  is_channel      creator          created_at  \\\n",
       "0  C01B4PVGLVB           general        True  U01BE2PR6LU 2020-09-23 17:25:03   \n",
       "1  C01BYH7JHB5          contents        True  U01BE2PR6LU 2020-10-05 14:28:09   \n",
       "2  C01CAMNCJJV   branding-design        True  U01AVDY7JET 2020-10-05 10:16:30   \n",
       "3  C01U6P7LZ8F  atom-assignment1        True  U01BE2PR6LU 2021-04-17 14:00:04   \n",
       "4  C01UL6K1C7L        atom-week1        True  U01BE2PR6LU 2021-04-17 00:44:32   \n",
       "\n",
       "                                              topics  \\\n",
       "0                                                NaN   \n",
       "1                                                NaN   \n",
       "2                                                NaN   \n",
       "3  Assigment#1 - Python Basics &amp; Spreadsheet ...   \n",
       "4  TOPIC: Data Strategy. Metrics Design. Spreadsh...   \n",
       "\n",
       "                                             purpose  num_members  \n",
       "0  This is the one channel that will always inclu...           65  \n",
       "1                                                NaN           12  \n",
       "2                                                NaN            9  \n",
       "3  Where learners submit assignments and give rev...           44  \n",
       "4  TOPIC: Data Strategy. Metrics Design. Spreadsh...           43  "
      ],
      "text/html": "<div>\n<style scoped>\n    .dataframe tbody tr th:only-of-type {\n        vertical-align: middle;\n    }\n\n    .dataframe tbody tr th {\n        vertical-align: top;\n    }\n\n    .dataframe thead th {\n        text-align: right;\n    }\n</style>\n<table border=\"1\" class=\"dataframe\">\n  <thead>\n    <tr style=\"text-align: right;\">\n      <th></th>\n      <th>channel_id</th>\n      <th>channel_name</th>\n      <th>is_channel</th>\n      <th>creator</th>\n      <th>created_at</th>\n      <th>topics</th>\n      <th>purpose</th>\n      <th>num_members</th>\n    </tr>\n  </thead>\n  <tbody>\n    <tr>\n      <th>0</th>\n      <td>C01B4PVGLVB</td>\n      <td>general</td>\n      <td>True</td>\n      <td>U01BE2PR6LU</td>\n      <td>2020-09-23 17:25:03</td>\n      <td>NaN</td>\n      <td>This is the one channel that will always inclu...</td>\n      <td>65</td>\n    </tr>\n    <tr>\n      <th>1</th>\n      <td>C01BYH7JHB5</td>\n      <td>contents</td>\n      <td>True</td>\n      <td>U01BE2PR6LU</td>\n      <td>2020-10-05 14:28:09</td>\n      <td>NaN</td>\n      <td>NaN</td>\n      <td>12</td>\n    </tr>\n    <tr>\n      <th>2</th>\n      <td>C01CAMNCJJV</td>\n      <td>branding-design</td>\n      <td>True</td>\n      <td>U01AVDY7JET</td>\n      <td>2020-10-05 10:16:30</td>\n      <td>NaN</td>\n      <td>NaN</td>\n      <td>9</td>\n    </tr>\n    <tr>\n      <th>3</th>\n      <td>C01U6P7LZ8F</td>\n      <td>atom-assignment1</td>\n      <td>True</td>\n      <td>U01BE2PR6LU</td>\n      <td>2021-04-17 14:00:04</td>\n      <td>Assigment#1 - Python Basics &amp;amp; Spreadsheet ...</td>\n      <td>Where learners submit assignments and give rev...</td>\n      <td>44</td>\n    </tr>\n    <tr>\n      <th>4</th>\n      <td>C01UL6K1C7L</td>\n      <td>atom-week1</td>\n      <td>True</td>\n      <td>U01BE2PR6LU</td>\n      <td>2021-04-17 00:44:32</td>\n      <td>TOPIC: Data Strategy. Metrics Design. Spreadsh...</td>\n      <td>TOPIC: Data Strategy. Metrics Design. Spreadsh...</td>\n      <td>43</td>\n    </tr>\n  </tbody>\n</table>\n</div>"
     },
     "metadata": {},
     "execution_count": 13
    }
   ],
   "source": [
    "# 2. LIST OF SLACK CHANNELS\n",
    "\n",
    "endpoint2 = \"https://slack.com/api/conversations.list\"\n",
    "data = {'types': 'public_channel,private_channel'} # -> CHECK: API Docs https://api.slack.com/methods/conversations.list/test\n",
    "response_json = requests.post(endpoint2, headers=headers, data=data).json() \n",
    "channel_dat = response_json['channels']\n",
    "\n",
    "channel_dict = {'channel_id':[], 'channel_name':[], 'is_channel':[],'creator':[],'created_at':[],'topics':[],'purpose':[],'num_members':[]}\n",
    "for i in range(len(channel_dat)):\n",
    "  channel_dict['channel_id'].append(channel_dat[i]['id'])\n",
    "  channel_dict['channel_name'].append(channel_dat[i]['name'])\n",
    "  channel_dict['is_channel'].append(channel_dat[i]['is_channel'])\n",
    "  channel_dict['creator'].append(channel_dat[i]['creator'])\n",
    "  channel_dict['created_at'].append(dt.fromtimestamp(float(channel_dat[i]['created'])))\n",
    "  channel_dict['topics'].append(channel_dat[i]['topic']['value'])\n",
    "  channel_dict['purpose'].append(channel_dat[i]['purpose']['value'])\n",
    "  channel_dict['num_members'].append(channel_dat[i]['num_members'])\n",
    "\n",
    "channel_df = pd.DataFrame(channel_dict) \n",
    "channel_df = channel_df.replace('', np.nan) # -> replace khoảng trắng bằng giá trị NULL (nan)\n",
    "channel_df.head()"
   ]
  },
  {
   "source": [
    "### 0.3. Message Data"
   ],
   "cell_type": "markdown",
   "metadata": {}
  },
  {
   "cell_type": "code",
   "execution_count": 14,
   "metadata": {},
   "outputs": [],
   "source": [
    "endpoint3 = \"https://slack.com/api/conversations.history\""
   ]
  },
  {
   "cell_type": "code",
   "execution_count": 15,
   "metadata": {},
   "outputs": [
    {
     "output_type": "stream",
     "name": "stdout",
     "text": [
      "Channel ID: C01B4PVGLVB - Channel Name: general\n",
      "Channel ID: C01BYH7JHB5 - Channel Name: contents\n",
      "====> {'ok': False, 'error': 'not_in_channel'}\n",
      "Channel ID: C01CAMNCJJV - Channel Name: branding-design\n",
      "====> {'ok': False, 'error': 'not_in_channel'}\n",
      "Channel ID: C01U6P7LZ8F - Channel Name: atom-assignment1\n",
      "Channel ID: C01UL6K1C7L - Channel Name: atom-week1\n",
      "Channel ID: C01ULCHGN75 - Channel Name: atom-general\n",
      "====> {'ok': False, 'error': 'not_in_channel'}\n",
      "Channel ID: C020VMT58JK - Channel Name: topics-data-analytics\n",
      "Channel ID: C0213MNH9L6 - Channel Name: topics-python\n",
      "Channel ID: C0213N56M2A - Channel Name: topics-materials\n",
      "Channel ID: C021FSDN7LJ - Channel Name: atom-assignment2\n",
      "Channel ID: C021KLB0DSB - Channel Name: discuss-group3\n",
      "Channel ID: C021KLB90GP - Channel Name: discuss-group4\n",
      "Channel ID: C02204B2CD6 - Channel Name: atom-week2\n",
      "Channel ID: C0220KU9399 - Channel Name: discuss-group1\n",
      "Channel ID: C0226D3LEQ4 - Channel Name: atom-week3\n",
      "Channel ID: C0227A51SAY - Channel Name: atom-assignment3\n",
      "Channel ID: C022Q7TGRLG - Channel Name: discuss-group2\n",
      "Channel ID: C022RRWQ6US - Channel Name: atom-assignment4\n",
      "Channel ID: C022Y1FUETE - Channel Name: atom-week4\n"
     ]
    }
   ],
   "source": [
    "msg_dict = {'channel_id':[],'msg_id':[], 'msg_ts':[], 'user_id':[], 'latest_reply':[],'reply_user_count':[],'reply_users':[],'github_link':[]}\n",
    "for channel_id, channel_name in zip(channel_df['channel_id'], channel_df['channel_name']):\n",
    "  print('Channel ID: {} - Channel Name: {}'.format(channel_id, channel_name))\n",
    "  try:\n",
    "    data = {\"channel\": channel_id} \n",
    "    response_json = requests.post(endpoint3, data=data, headers=headers).json()\n",
    "    msg_ls = response_json['messages']\n",
    "    for i in range(len(msg_ls)):\n",
    "      if 'client_msg_id' in msg_ls[i].keys():\n",
    "        msg_dict['channel_id'].append(channel_id)\n",
    "        msg_dict['msg_id'].append(msg_ls[i]['client_msg_id'])\n",
    "        msg_dict['msg_ts'].append(dt.fromtimestamp(float(msg_ls[i]['ts'])))\n",
    "        msg_dict['latest_reply'].append(dt.fromtimestamp(float(msg_ls[i]['latest_reply'] if 'latest_reply' in msg_ls[i].keys() else 0))) ## -> No reply: 1970-01-01\n",
    "        msg_dict['user_id'].append(msg_ls[i]['user'])\n",
    "        msg_dict['reply_user_count'].append(msg_ls[i]['reply_users_count'] if 'reply_users_count' in msg_ls[i].keys() else 0)\n",
    "        msg_dict['reply_users'].append(msg_ls[i]['reply_users'] if 'reply_users' in msg_ls[i].keys() else 0) \n",
    "        ## -> Censor message contains tokens\n",
    "        text = msg_ls[i]['text']\n",
    "        github_link = re.findall('(?:https?://)?(?:www[.])?github[.]com/[\\w-]+/?', text)\n",
    "        msg_dict['github_link'].append(github_link[0] if len(github_link) > 0 else np.nan)\n",
    "  except:\n",
    "    print('====> '+ str(response_json))"
   ]
  },
  {
   "cell_type": "code",
   "execution_count": 16,
   "metadata": {},
   "outputs": [
    {
     "output_type": "execute_result",
     "data": {
      "text/plain": [
       "      channel_id                                msg_id  \\\n",
       "257  C022RRWQ6US  231fad01-7083-4cd0-b6b6-e97bf54779e2   \n",
       "258  C022Y1FUETE  ee582f3d-c339-4d06-a263-b71c6470e647   \n",
       "259  C022Y1FUETE  38adf48f-21cc-437c-9ad3-31cd002bc4f8   \n",
       "\n",
       "                        msg_ts      user_id               latest_reply  \\\n",
       "257 2021-05-23 06:23:13.001400  U01BE2PR6LU 1970-01-01 07:00:00.000000   \n",
       "258 2021-05-24 18:49:57.001000  U01BE2PR6LU 1970-01-01 07:00:00.000000   \n",
       "259 2021-05-23 14:58:05.001500  U01BE2PR6LU 2021-05-23 23:15:45.002200   \n",
       "\n",
       "     reply_user_count    reply_users                     github_link  \n",
       "257                 0              0  https://github.com/anhdanggit/  \n",
       "258                 0              0                             NaN  \n",
       "259                 1  [U01VB632FPS]                             NaN  "
      ],
      "text/html": "<div>\n<style scoped>\n    .dataframe tbody tr th:only-of-type {\n        vertical-align: middle;\n    }\n\n    .dataframe tbody tr th {\n        vertical-align: top;\n    }\n\n    .dataframe thead th {\n        text-align: right;\n    }\n</style>\n<table border=\"1\" class=\"dataframe\">\n  <thead>\n    <tr style=\"text-align: right;\">\n      <th></th>\n      <th>channel_id</th>\n      <th>msg_id</th>\n      <th>msg_ts</th>\n      <th>user_id</th>\n      <th>latest_reply</th>\n      <th>reply_user_count</th>\n      <th>reply_users</th>\n      <th>github_link</th>\n    </tr>\n  </thead>\n  <tbody>\n    <tr>\n      <th>257</th>\n      <td>C022RRWQ6US</td>\n      <td>231fad01-7083-4cd0-b6b6-e97bf54779e2</td>\n      <td>2021-05-23 06:23:13.001400</td>\n      <td>U01BE2PR6LU</td>\n      <td>1970-01-01 07:00:00.000000</td>\n      <td>0</td>\n      <td>0</td>\n      <td>https://github.com/anhdanggit/</td>\n    </tr>\n    <tr>\n      <th>258</th>\n      <td>C022Y1FUETE</td>\n      <td>ee582f3d-c339-4d06-a263-b71c6470e647</td>\n      <td>2021-05-24 18:49:57.001000</td>\n      <td>U01BE2PR6LU</td>\n      <td>1970-01-01 07:00:00.000000</td>\n      <td>0</td>\n      <td>0</td>\n      <td>NaN</td>\n    </tr>\n    <tr>\n      <th>259</th>\n      <td>C022Y1FUETE</td>\n      <td>38adf48f-21cc-437c-9ad3-31cd002bc4f8</td>\n      <td>2021-05-23 14:58:05.001500</td>\n      <td>U01BE2PR6LU</td>\n      <td>2021-05-23 23:15:45.002200</td>\n      <td>1</td>\n      <td>[U01VB632FPS]</td>\n      <td>NaN</td>\n    </tr>\n  </tbody>\n</table>\n</div>"
     },
     "metadata": {},
     "execution_count": 16
    }
   ],
   "source": [
    "msg_df = pd.DataFrame(msg_dict)\n",
    "msg_df = msg_df.replace('', np.nan) # -> replace khoảng trắng bằng giá trị NULL (nan)\n",
    "msg_df.tail(3)"
   ]
  },
  {
   "source": [
    "\n",
    "### 0.4. DataCracy Info\n",
    "Data do dự án tự collect - File CSV (trích xuất từ Google Spreadsheet): Danh sách thành viên được phân theo vị trí (mentors, learners, BTC)\n",
    "\n",
    "Trong cùng folder Github assignment_4"
   ],
   "cell_type": "markdown",
   "metadata": {}
  },
  {
   "cell_type": "code",
   "execution_count": 31,
   "metadata": {},
   "outputs": [
    {
     "output_type": "execute_result",
     "data": {
      "text/plain": [
       "                name DataCracy_role\n",
       "0           slackbot            BTC\n",
       "1     loclexuan26392            BTC\n",
       "2           locle.ds            BTC\n",
       "3     maianhdang.ftu            BTC\n",
       "4  huyenhoang.design            BTC"
      ],
      "text/html": "<div>\n<style scoped>\n    .dataframe tbody tr th:only-of-type {\n        vertical-align: middle;\n    }\n\n    .dataframe tbody tr th {\n        vertical-align: top;\n    }\n\n    .dataframe thead th {\n        text-align: right;\n    }\n</style>\n<table border=\"1\" class=\"dataframe\">\n  <thead>\n    <tr style=\"text-align: right;\">\n      <th></th>\n      <th>name</th>\n      <th>DataCracy_role</th>\n    </tr>\n  </thead>\n  <tbody>\n    <tr>\n      <th>0</th>\n      <td>slackbot</td>\n      <td>BTC</td>\n    </tr>\n    <tr>\n      <th>1</th>\n      <td>loclexuan26392</td>\n      <td>BTC</td>\n    </tr>\n    <tr>\n      <th>2</th>\n      <td>locle.ds</td>\n      <td>BTC</td>\n    </tr>\n    <tr>\n      <th>3</th>\n      <td>maianhdang.ftu</td>\n      <td>BTC</td>\n    </tr>\n    <tr>\n      <th>4</th>\n      <td>huyenhoang.design</td>\n      <td>BTC</td>\n    </tr>\n  </tbody>\n</table>\n</div>"
     },
     "metadata": {},
     "execution_count": 31
    }
   ],
   "source": [
    "dtc_groups = pd.read_csv('datacracy_groups.csv')\n",
    "dtc_groups.head()"
   ]
  },
  {
   "source": [
    "### STEP 1: NHU CẦU & MỤC ĐÍCH\n",
    "Đặt mình vào vị trí người chủ, bạn quan tâm đến điều gì?\n",
    "\n",
    "- Quan trọng nhất của mọi Data Solution, là bắt đầu từ nhu cầu, mục đích và câu hỏi lớn của Clients (người chủ).\n",
    "\n",
    "- Chính từ những câu hỏi lớn này, ta có thể khoanh vùng thông tin nào quan trọng, ta muốn đạt được điều gì?"
   ],
   "cell_type": "markdown",
   "metadata": {}
  },
  {
   "source": [
    "## TODO#1: Requirements\n",
    "Tự trả lời các câu hỏi sau, từ góc nhìn của bạn (đặt mình vào vị trí bạn là co-founder của dự án DataCracy):\n",
    "\n",
    "1. Mục đích của lớp học Atom là gì?\n",
    "\n",
    "2. BTC sẽ quan tâm đến những chủ đề/quy trình gì để đạt được Mục Đích trong (1)?\n",
    "\n",
    "3. Làm sao để đo lường các điểm trong (2)? => Metrics?\n",
    "\n",
    "4. Dựa vào các data đã có như liệt kê trong STEP 0:\n",
    "\n",
    "- Chỉ dùng những data sẵn có, ta có thể đo lường và thiết kế những metrics nào bạn đã liệt kê trong (3)?\n",
    "\n",
    "- Tham khảo Slack API và hình dung về các thông tin DataCracy có khả năng thu thập, bạn sẽ đề xuất DataCracy thu thập thêm những thông tin gì?"
   ],
   "cell_type": "markdown",
   "metadata": {}
  },
  {
   "cell_type": "code",
   "execution_count": null,
   "metadata": {},
   "outputs": [],
   "source": [
    "\n",
    "## Điền vào bên dưới câu trả lời của bạn\n",
    "'''\n",
    "1. Mục đích\n",
    "a. Phổ cập các kỹ năng sử dụng data cho learner những người có mong muốn  tìm hiểu về Data hoặc phát triển công việc có liên quan đến dữ liệu. bằng hình thức flipped learning với sự hướng dẫn từ DataCracy. \n",
    "b. Chọn được 20 học viên có đủ kỹ năng, tư duy và thái độ học tốt để tham gia vào lớp học Scala. Áp dụng được kiến thức từ lớp Atom để giải quyết các bài toán thực tế của danh nghiệp SME\n",
    "\n",
    "2. Chủ đề cần quan tâm\n",
    "a. Học viên hiểu được mục tiêu khóa học, chất lượng buổi học có phù hợp với kỹ năng và mong muốn của học viên chưa?\n",
    "b. Mức độ tiếp thu của người học, kỹ năng tư duy của học viên khi làm việc với data và các tool để làm việc với data.\n",
    "c. Sự tương tác của lớp học (learner - learner, learner - mentor, teacher)\n",
    "d. Những học viên nổi trội về kỹ năng, tư duy logic hoặc chủ động nghiên cứu, hoàn thành bài tập tốt (tiêu chí để chọn 20 học viên)\n",
    "\n",
    "Quy trình : Thiết kế bài giảng dựa trên kinh nghiệm của teacher  –>  đánh giá mức độ tiếp thu của học viên sau mỗi lớp và bài tập + nhận ý kiến đóng góp và khó khăn của học viên –> chỉnh sửa và cập nhật lại bài giảng cho phù hợp sau mỗi lớp học\n",
    "\n",
    "3. Đo lường các tiêu chí đánh giá của (2)\n",
    "Metrics 2a\n",
    "-\tSố lượng học viên tham gia lớp học (từ lúc tham gia đến khi kết thúc lớp Atom)\n",
    "-   Đánh giá sự hài lòng và chất lượng lớp học (khảo sát học viên)\n",
    "Metrics 2b\n",
    "-\tTỉ lệ nộp bài tập của học viên qua từng assignment (%)\n",
    "-\tThời gian hoàn thành bài tập so với deadline (có phải thời gian càng lâu thì bài tập càng khó đối với học viên?)\n",
    "-   % bài tập được thực hiện của mỗi học viên (dựa trên review của learner hoặc mentor)\n",
    "-\tSự quan tâm của học viên đối với mỗi topic (số msg được discuss trogn từng topic)\n",
    "Metrics 2c\n",
    "-\tTổng số lượng câu hỏi discuss và reply trong mỗi tuần/group or topic\n",
    "-   Tỉ lệ review bài tập của học viên (count số review của user sau từng assignment, đảm bảo rule: 1 user review 2 bài)\n",
    "-   Tỉ lệ học viên tương tác trên tổng số học viên\n",
    "Metrics 2d\n",
    "-  Số lượng tương tác thông qua msg của mỗi học viên sau khi kết thúc Atom (nhiều nhất, trung bình, không tương tác)\n",
    "-  Học viên nộp bài trễ/sớm nhất/nộp thiếu hoặc không nộp bài\n",
    "-  Điểm trung bình của học viên qua sau khi kết thúc Atom\n",
    "\n",
    "4. \n",
    "- Chỉ dùng những data sẵn có, ta có thể đo lường và thiết kế những metrics:\n",
    "    Thông tin học viên tham gia\n",
    "    Tỉ lệ hoàn thành bài tập và thời gian nộp bài so với deadline\n",
    "    Tỉ lệ review bài tập của mỗi học viên\n",
    "    Số lượng tương tác thông qua msg\n",
    "    Học viên nộp bài trễ/sớm nhất/nộp thiếu hoặc không nộp bài\n",
    "    Tổng số lượng câu hỏi discuss và reply trong mỗi tuần/group or topic\n",
    "    Tỉ lệ học viên tương tác trên tổng số học viên\n",
    "'''"
   ]
  },
  {
   "source": [
    "\n",
    "### STEP 2: TỔ CHỨC THÔNG TIN\n",
    "\n",
    "Thu thập và hệ thống lại các thông tin"
   ],
   "cell_type": "markdown",
   "metadata": {}
  },
  {
   "cell_type": "code",
   "execution_count": 31,
   "metadata": {},
   "outputs": [
    {
     "output_type": "stream",
     "name": "stdout",
     "text": [
      "<class 'pandas.core.frame.DataFrame'>\nRangeIndex: 75 entries, 0 to 74\nData columns (total 6 columns):\n #   Column        Non-Null Count  Dtype \n---  ------        --------------  ----- \n 0   user_id       75 non-null     object\n 1   name          75 non-null     object\n 2   display_name  49 non-null     object\n 3   real_name     75 non-null     object\n 4   title         5 non-null      object\n 5   is_bot        75 non-null     bool  \ndtypes: bool(1), object(5)\nmemory usage: 3.1+ KB\n"
     ]
    }
   ],
   "source": [
    "## Hints: info() để check các thông tin (Column), số dòng (Count), và Data Type của mỗi cột\n",
    "user_df.info()"
   ]
  },
  {
   "source": [
    "### TODO#2: List Down\n",
    "\n",
    "Trả lời các câu hỏi sau:\n",
    "\n",
    "1. Có những thông tin gì trong các bảng data ở STEP 0? Ý nghĩa của mỗi trường (Column). Hints: Đọc thêm Slack API để hiểu ý nghĩa data trả về\n",
    "\n",
    "2. Data Type của mỗi trường\n",
    "\n",
    "3. Có NULL không? (Non-Null Count <> entries)\n",
    "\n",
    "- Ta sẽ dùng công cụ: QuickDBD cho Assignment này => Tham khảo Sample lúc mở tool\n",
    "- Copy điền đoạn text vào tools"
   ],
   "cell_type": "markdown",
   "metadata": {}
  },
  {
   "cell_type": "code",
   "execution_count": null,
   "metadata": {},
   "outputs": [],
   "source": [
    "## Điền vào bên dưới câu trả lời của bạn\n",
    "\n",
    "# Bảng user_df \n",
    "1. user.list trả về danh sách thông tin của user trong workspace. Ý nghĩa của mỗi column:\n",
    "user_id\tname: mỗi user có 1 ID duy nhất trong workspace\n",
    "name: tên mail khi đăng ký slack\n",
    "display_name: Tên user hiển thị khi tương tác\n",
    "is_bot: xác định đó là account user hay là bot của user tạo\n",
    "2-3. Data Type của mỗi trường\n",
    "user_id string\n",
    "name string\n",
    "display_name NULL string\n",
    "real_name string\n",
    "title NULL string\n",
    "is_bot bool\n",
    "\n",
    "# Bảng channel_df\n",
    "1. conversations.list: trả về danh sách tất cả các kênh trong workspace. Ý nghĩa của mỗi column:\n",
    "channel_id: mỗi channel có 1 ID duy nhất trong workspace\n",
    "channel_name: tên channel trong workspace\n",
    "is_channel: trả về giá trị true hoặc false để xác định đó có phải là 1 channel không\n",
    "creator: người tạo channel\n",
    "created_at: thời gian tạo channel\n",
    "topics: chủ đề của channel\n",
    "purpose: mục đích của channel\n",
    "num_members: số lượng user tham gia trong channel\n",
    "\n",
    "2-3. Data Type của mỗi trường\n",
    "channel_id string\n",
    "channel_name string\n",
    "is_channel bool\n",
    "creator string\n",
    "created_at datetime64\n",
    "topics NULL string\n",
    "purpose NULL string\n",
    "num_members int\n",
    "\n",
    "# Bảng msg_df\n",
    "1. conversations.history trả về nội dung và hoạt động của các tin nhắn từ các channel. Ý nghĩa của mỗi column:\n",
    "msg_id: ID của mỗi msg\n",
    "msg_ts: thời gian gửi msg\n",
    "user_id: ID user gửi msg\n",
    "latest_reply: thời gian reply msg cuối cùng\n",
    "reply_user_count: số lượng người reply trên msg\n",
    "reply_users: ID user đã reply msg\n",
    "github_link: kiểm tra trong msg có link github không\n",
    "\n",
    "2-3. Data Type của mỗi trường\n",
    "channel_id string FK >- channel_df.channel_id\n",
    "msg_id string\n",
    "msg_ts datetime64\n",
    "user_id string\n",
    "latest_reply datetime64\n",
    "reply_user_count int\n",
    "reply_users arr\n",
    "github_link NULL string\n",
    "\n",
    "# Bảng dtc_group\n",
    "name: tên mail khi đăng ký slack\n",
    "DataCracy_role: vai trò của từng name"
   ]
  },
  {
   "source": [
    "### STEP 3: NGUYÊN TẮC CẦN ÁP DỤNG\n",
    "TODO#3: Rules & Logics\n",
    "\n",
    "Dựa vào các kiến nghị TODO#1 và Quan sát ở TODO#2, bạn có những đề xuất gì về rules trong vận hành để cải thiện thông tin và quan sát?\n",
    "\n",
    "Về mặt vận hành\n",
    "\n",
    "    Rules gì cần áp dụng cho cách thức nhập data?\n",
    "\n",
    "Một số gợi ý\n",
    "\n",
    "    Rules để cải thiện tỷ lệ NULL trong các bạn? (Ví dụ: Bắt buộc nhập các thông tin trên Slack? Có cần thiết không?)\n",
    "\n",
    "    Làm sao để xác định message nào là bài submit assigment? Message nào là review? Message vào là các nội dung không liên quan? (Ví dụ: Users để tag #submit, #review?)\n",
    "...\n",
    "\n",
    "Về mặt data\n",
    "    Logics gì cần áp dụng để kiểm tra sự hợp lý của Data?\n",
    "\n",
    "Một số gợi ý\n",
    "\n",
    "    Hai users trùng tên?\n",
    "    Ngày latest reply > ngày post?\n",
    "    Ngày post trong năm 2021 (sau khi dự án DataCracy thành lập)\n",
    "    Mentor Group nào sẽ chỉ post trong channel discussion của group đó?\n",
    "...\n",
    "Bạn có thể đưa các đề xuất để đưa vào vận hành nhằm cải thiện data và giúp bạn đo lường theo dõi các metrics đã được liệt kể trong TODO#1"
   ],
   "cell_type": "markdown",
   "metadata": {}
  },
  {
   "cell_type": "code",
   "execution_count": null,
   "metadata": {},
   "outputs": [],
   "source": [
    "Rules về mặt vận hành\n",
    "1.\tTạo user\n",
    "-\tdisplay_name: cập nhật lại thông tin\n",
    "-\treal_name: nên để tên thật để dễ kiểm soát và đối chiếu với thông tin đã đăng ký với BTC\n",
    "-\tTitle: nên cập nhật title cho mỗi user để phân loại (learner, BTC, mentor)\n",
    "2.\tChannel\n",
    "-\tBổ sung nội dung topic và purpose sẽ giúp learner hiểu rõ chừng chức năng của mỗi channel\n",
    "3.\tRules gửi msg\n",
    "-\tGắn tag ở mỗi msg để dễ lọc thông tin đâu là msg gửi bài tập, discuss hay review (#submit #discuss #review)\n",
    "4.\tRule gửi bài tập\n",
    "-\tCó nhiều bạn gửi 1 msg bài tập có nhiều link khác nhau, BTC sẽ bị miss thông tin trường hợp đó không phải là link github. Nên bạn có thể đưa các link vào phần readme để tóm tắt lại kết quả bài tập mình đã làm. Và chỉ cần gửi 1 link readme thôi.\n",
    "-\tTrường hợp thay đổi chỉnh sửa link thì bạn chỉ cần chỉnh trong  readme. Hoặc thay đổi link readme thì bạn edit lại msg đã gửi trước đó\n",
    "\n",
    "Logics để quản lý data\n",
    "1.\tUser\n",
    "-\tĐảm bảo ID và user là unique\n",
    "-\tCó thể loại bỏ user if is_bot == true\n",
    "2.\tChannel\n",
    "-\tNgười tạo channel phải có trong danh sách user\n",
    "-\tSố lượng member trong mỗi channel <= số lượng user\n",
    "-\tChannel ID và Name là unique\n",
    "3.\tMsg\n",
    "-\tLatest_reply < msg_ts\n",
    "-\tReply_users count == len(reply_users)\n",
    "-\tMỗi user_id chỉ có 1 link github trong 1 channel assignment"
   ]
  },
  {
   "source": [
    "### STEP 4: TỔ CHỨC BẢNG - PRIMARY KEYS"
   ],
   "cell_type": "markdown",
   "metadata": {}
  },
  {
   "cell_type": "code",
   "execution_count": 56,
   "metadata": {},
   "outputs": [
    {
     "output_type": "execute_result",
     "data": {
      "text/plain": [
       "user_id         75\n",
       "name            75\n",
       "display_name    48\n",
       "real_name       73\n",
       "title            5\n",
       "is_bot           2\n",
       "dtype: int64"
      ]
     },
     "metadata": {},
     "execution_count": 56
    }
   ],
   "source": [
    "## Hints: nunique() để check số giá trị unique của từng trường\n",
    "user_df.nunique()"
   ]
  },
  {
   "source": [
    "### TODO#4: Tables & PK\n",
    "Nhìn lại diagram của TODO#2 trong Quick DBD Diagram: Có bảng nào bạn nghĩ nên gộp lại, hay tách ra không? Vì sao?\n",
    "\n",
    "Tìm Primary Key (PK): Unique cho từng dòng và Không NULL\n",
    "\n",
    "Primary Key (PK) là trường giá trị/ID unique cho mỗi dòng của bảng. Hay nói cách khác, không có hai dòng trùng lặp (duplicate ID).\n",
    "\n",
    "Fun fact để nhớ: Thử tưởng tượng nếu 2 người không quen biết, có cùng Số TK Ngân hàng :(((("
   ],
   "cell_type": "markdown",
   "metadata": {}
  },
  {
   "cell_type": "code",
   "execution_count": null,
   "metadata": {},
   "outputs": [],
   "source": [
    "## Copy lại phần text của TODO#2\n",
    "## Đặt PK bên cạnh col bạn chọn làm PK\n",
    "Gộp thông tin bảng user_df và dtc_groups -> lấy tên bảng mới: member_df. Vì 2 bảng này có cùng thuộc tính là đều trả về thông tin của user\n",
    "\n",
    "user_df\n",
    "-\n",
    "user_id string pk\n",
    "name string\n",
    "display_name NULL string\n",
    "real_name string\n",
    "title NULL string\n",
    "is_bot bool\n",
    "\n",
    "channel_df\n",
    "-\n",
    "channel_id string pk\n",
    "channel_name string\n",
    "is_channel bool\n",
    "creator string\n",
    "created_at datetime64\n",
    "topics NULL string\n",
    "purpose NULL string\n",
    "num_members int\n",
    "\n",
    "msg_df\n",
    "----\n",
    "channel_id string FK >- channel_df.channel_id\n",
    "msg_id string pk\n",
    "msg_ts datetime64\n",
    "user_id string\n",
    "latest_reply datetime64\n",
    "reply_user_count int\n",
    "reply_users arr\n",
    "github_link NULL string"
   ]
  },
  {
   "source": [
    "### STEP 5: MỐI QUAN HỆ GIỮA CÁC BẢNG\n",
    "TODO#5: FK & Mapping\n",
    "Như đã giới thiệu ở phần Concept, keys quan trọng trong Relational DB vì nó thể hiện mối quan hệ giữa các bạn, thông qua key, cho phép ta nối các bảng với nhau. Bây giờ ta sẽ đi tìm FK (Foreign Key):\n",
    "\n",
    "Foreign Key: Là các keys nằm trong một bảng để liên kết với PK trong bảng khác\n",
    "\n",
    "Đâu là các ID trong bảng, nhưng không phải là PK (do thoả điều kiện unique)?\n",
    "\n",
    "Các ID này dẫn đến PK nào trong các bảng còn lại?\n",
    "\n",
    "Trong các key được nối với nhau, xác định kiểu quan hệ:\n",
    "- n:1 - PK ở bảng gốc lặp lại nhiều lần (nhiều dòng) ở bản chứa FK\n",
    "- 1:1 - PK ở bảng gốc chỉ nối với 1 dòng"
   ],
   "cell_type": "markdown",
   "metadata": {}
  },
  {
   "cell_type": "code",
   "execution_count": null,
   "metadata": {},
   "outputs": [],
   "source": [
    "## Đặt FK bên cạnh col bạn chọn làm FK\n",
    "## Và thể hiện mối quan hệ bằng: id >- bảng_gốc.id (FK là PK trong bảng gốc)\n",
    "\n",
    "user_df\n",
    "-\n",
    "user_id string pk\n",
    "name string\n",
    "display_name NULL string\n",
    "real_name string\n",
    "title NULL string\n",
    "is_bot bool\n",
    "\n",
    "channel_df\n",
    "-\n",
    "channel_id string pk\n",
    "channel_name string\n",
    "is_channel bool\n",
    "creator string FK >- user_df.user_id #Rel: n:1\n",
    "created_at datetime64\n",
    "topics NULL string\n",
    "purpose NULL string\n",
    "num_members int\n",
    "\n",
    "msg_df\n",
    "-\n",
    "channel_id string FK >- channel_df.channel_id #Rel: n:1\n",
    "msg_id string pk\n",
    "msg_ts datetime64\n",
    "user_id string FK >- user_df.user_id #Rel: n:1\n",
    "latest_reply datetime64\n",
    "reply_user_count int\n",
    "reply_users arr FK >- user_df.user_id #Rel: n:1\n",
    "github_link NULL string\n"
   ]
  },
  {
   "source": [
    "### STEP 6: DIAGRAM & TEST"
   ],
   "cell_type": "markdown",
   "metadata": {}
  },
  {
   "source": [
    "### Test Database Design by SQL\n",
    "Để giúp các bạn làm quen với việc thao tác trên SQL, ta sử dụng thư việc duckdb, cho phép ta thao tác với Data trên Python bằng SQL: https://duckdb.org/2021/05/14/sql-on-pandas.html\n",
    "\n",
    "Để hiểu các code SQL bên dưới, tham khảo SQL Basic Cheatsheet, xem các phần:\n",
    "\n",
    "Querying Single Table\n",
    "- Aliases\n",
    "- Filtering\n",
    "- Querying Multiple Tables: Các dạng Join\n",
    "- Aggregation Functions\n",
    "\n",
    "Dựa vào DB Diagram bạn đã vẽ, sẽ giúp bạn dễ dàng theo dõi hơn trong việc join và xử lý data"
   ],
   "cell_type": "markdown",
   "metadata": {}
  },
  {
   "cell_type": "code",
   "execution_count": 40,
   "metadata": {},
   "outputs": [],
   "source": [
    "## Đoạn code dưới join 2 bảng user_df vằ dtc_groups bằng key name => Tạo thành bảng members_df\n",
    "SQL_dim_members = '''\n",
    "-- Để comment trong SQL dùng -- tương đường với ## trong Python\n",
    "CREATE TABLE members_df AS\n",
    "SELECT \n",
    "  t1.*,\n",
    "  t2.DataCracy_role\n",
    "FROM user_df AS t1\n",
    "JOIN dtc_groups AS t2\n",
    "ON t1.name = t2.name\n",
    "'''"
   ]
  },
  {
   "cell_type": "code",
   "execution_count": 50,
   "metadata": {},
   "outputs": [],
   "source": [
    "\n",
    "SQL_dim_members = '''\n",
    "CREATE TABLE members_df AS\n",
    "SELECT \n",
    "  t1.DataCracy_role,\n",
    "  t2.*\n",
    "FROM dtc_groups AS t1\n",
    "JOIN user_df AS t2\n",
    "ON t1.name = t2.name\n",
    "'''"
   ]
  },
  {
   "cell_type": "code",
   "execution_count": 56,
   "metadata": {},
   "outputs": [
    {
     "output_type": "execute_result",
     "data": {
      "text/plain": [
       "  DataCracy_role      user_id               name       display_name  \\\n",
       "0            BTC    USLACKBOT           slackbot           Slackbot   \n",
       "1            BTC  U01AT4T75JB     loclexuan26392        Loc Le Xuan   \n",
       "2            BTC  U01AVDY7JET           locle.ds        Loc Le Xuan   \n",
       "3            BTC  U01BE2PR6LU     maianhdang.ftu                MAD   \n",
       "4            BTC  U01C48T7S1J  huyenhoang.design  Thanh Huyen Hoang   \n",
       "\n",
       "            real_name               title  is_bot  \n",
       "0            Slackbot                 NaN   False  \n",
       "1         Loc Le Xuan                 NaN   False  \n",
       "2         Loc Le Xuan                 NaN   False  \n",
       "3  Dặng Huỳnh Mai Anh  Technical Contents   False  \n",
       "4   Thanh Huyen Hoang                 NaN   False  "
      ],
      "text/html": "<div>\n<style scoped>\n    .dataframe tbody tr th:only-of-type {\n        vertical-align: middle;\n    }\n\n    .dataframe tbody tr th {\n        vertical-align: top;\n    }\n\n    .dataframe thead th {\n        text-align: right;\n    }\n</style>\n<table border=\"1\" class=\"dataframe\">\n  <thead>\n    <tr style=\"text-align: right;\">\n      <th></th>\n      <th>DataCracy_role</th>\n      <th>user_id</th>\n      <th>name</th>\n      <th>display_name</th>\n      <th>real_name</th>\n      <th>title</th>\n      <th>is_bot</th>\n    </tr>\n  </thead>\n  <tbody>\n    <tr>\n      <th>0</th>\n      <td>BTC</td>\n      <td>USLACKBOT</td>\n      <td>slackbot</td>\n      <td>Slackbot</td>\n      <td>Slackbot</td>\n      <td>NaN</td>\n      <td>False</td>\n    </tr>\n    <tr>\n      <th>1</th>\n      <td>BTC</td>\n      <td>U01AT4T75JB</td>\n      <td>loclexuan26392</td>\n      <td>Loc Le Xuan</td>\n      <td>Loc Le Xuan</td>\n      <td>NaN</td>\n      <td>False</td>\n    </tr>\n    <tr>\n      <th>2</th>\n      <td>BTC</td>\n      <td>U01AVDY7JET</td>\n      <td>locle.ds</td>\n      <td>Loc Le Xuan</td>\n      <td>Loc Le Xuan</td>\n      <td>NaN</td>\n      <td>False</td>\n    </tr>\n    <tr>\n      <th>3</th>\n      <td>BTC</td>\n      <td>U01BE2PR6LU</td>\n      <td>maianhdang.ftu</td>\n      <td>MAD</td>\n      <td>Dặng Huỳnh Mai Anh</td>\n      <td>Technical Contents</td>\n      <td>False</td>\n    </tr>\n    <tr>\n      <th>4</th>\n      <td>BTC</td>\n      <td>U01C48T7S1J</td>\n      <td>huyenhoang.design</td>\n      <td>Thanh Huyen Hoang</td>\n      <td>Thanh Huyen Hoang</td>\n      <td>NaN</td>\n      <td>False</td>\n    </tr>\n  </tbody>\n</table>\n</div>"
     },
     "metadata": {},
     "execution_count": 56
    }
   ],
   "source": [
    "con = duckdb.connect(database=':memory:', read_only=False) # -> Tạo DB connection\n",
    "# create a table\n",
    "con.execute(SQL_dim_members) # -> Chạy đoạn lệch SQL\n",
    "con.execute(\"SELECT * FROM members_df LIMIT 5\").fetch_df() # -> In 10 dòng đầu tiên của bảng members_df ra Dataframe"
   ]
  },
  {
   "cell_type": "code",
   "execution_count": 33,
   "metadata": {},
   "outputs": [
    {
     "output_type": "execute_result",
     "data": {
      "text/plain": [
       "    channel_id      channel_name  is_channel      creator          created_at  \\\n",
       "0  C01B4PVGLVB           general        True  U01BE2PR6LU 2020-09-23 17:25:03   \n",
       "1  C01BYH7JHB5          contents        True  U01BE2PR6LU 2020-10-05 14:28:09   \n",
       "2  C01CAMNCJJV   branding-design        True  U01AVDY7JET 2020-10-05 10:16:30   \n",
       "3  C01U6P7LZ8F  atom-assignment1        True  U01BE2PR6LU 2021-04-17 14:00:04   \n",
       "4  C01UL6K1C7L        atom-week1        True  U01BE2PR6LU 2021-04-17 00:44:32   \n",
       "\n",
       "                                              topics  \\\n",
       "0                                                NaN   \n",
       "1                                                NaN   \n",
       "2                                                NaN   \n",
       "3  Assigment#1 - Python Basics &amp; Spreadsheet ...   \n",
       "4  TOPIC: Data Strategy. Metrics Design. Spreadsh...   \n",
       "\n",
       "                                             purpose  num_members  \n",
       "0  This is the one channel that will always inclu...           65  \n",
       "1                                                NaN           12  \n",
       "2                                                NaN            9  \n",
       "3  Where learners submit assignments and give rev...           44  \n",
       "4  TOPIC: Data Strategy. Metrics Design. Spreadsh...           43  "
      ],
      "text/html": "<div>\n<style scoped>\n    .dataframe tbody tr th:only-of-type {\n        vertical-align: middle;\n    }\n\n    .dataframe tbody tr th {\n        vertical-align: top;\n    }\n\n    .dataframe thead th {\n        text-align: right;\n    }\n</style>\n<table border=\"1\" class=\"dataframe\">\n  <thead>\n    <tr style=\"text-align: right;\">\n      <th></th>\n      <th>channel_id</th>\n      <th>channel_name</th>\n      <th>is_channel</th>\n      <th>creator</th>\n      <th>created_at</th>\n      <th>topics</th>\n      <th>purpose</th>\n      <th>num_members</th>\n    </tr>\n  </thead>\n  <tbody>\n    <tr>\n      <th>0</th>\n      <td>C01B4PVGLVB</td>\n      <td>general</td>\n      <td>True</td>\n      <td>U01BE2PR6LU</td>\n      <td>2020-09-23 17:25:03</td>\n      <td>NaN</td>\n      <td>This is the one channel that will always inclu...</td>\n      <td>65</td>\n    </tr>\n    <tr>\n      <th>1</th>\n      <td>C01BYH7JHB5</td>\n      <td>contents</td>\n      <td>True</td>\n      <td>U01BE2PR6LU</td>\n      <td>2020-10-05 14:28:09</td>\n      <td>NaN</td>\n      <td>NaN</td>\n      <td>12</td>\n    </tr>\n    <tr>\n      <th>2</th>\n      <td>C01CAMNCJJV</td>\n      <td>branding-design</td>\n      <td>True</td>\n      <td>U01AVDY7JET</td>\n      <td>2020-10-05 10:16:30</td>\n      <td>NaN</td>\n      <td>NaN</td>\n      <td>9</td>\n    </tr>\n    <tr>\n      <th>3</th>\n      <td>C01U6P7LZ8F</td>\n      <td>atom-assignment1</td>\n      <td>True</td>\n      <td>U01BE2PR6LU</td>\n      <td>2021-04-17 14:00:04</td>\n      <td>Assigment#1 - Python Basics &amp;amp; Spreadsheet ...</td>\n      <td>Where learners submit assignments and give rev...</td>\n      <td>44</td>\n    </tr>\n    <tr>\n      <th>4</th>\n      <td>C01UL6K1C7L</td>\n      <td>atom-week1</td>\n      <td>True</td>\n      <td>U01BE2PR6LU</td>\n      <td>2021-04-17 00:44:32</td>\n      <td>TOPIC: Data Strategy. Metrics Design. Spreadsh...</td>\n      <td>TOPIC: Data Strategy. Metrics Design. Spreadsh...</td>\n      <td>43</td>\n    </tr>\n  </tbody>\n</table>\n</div>"
     },
     "metadata": {},
     "execution_count": 33
    }
   ],
   "source": [
    "con.execute(\"SELECT * FROM channel_df LIMIT 5\").fetch_df() # -> In 5 dòng đầu tiên của bảng channel_df ra Dataframe"
   ]
  },
  {
   "cell_type": "code",
   "execution_count": 286,
   "metadata": {},
   "outputs": [
    {
     "output_type": "execute_result",
     "data": {
      "text/plain": [
       "    channel_id                                msg_id  \\\n",
       "0  C01B4PVGLVB  48ba219d-fda8-40f2-be65-00735c058071   \n",
       "1  C01B4PVGLVB  89919b55-bfe9-4c15-bf45-3021048c7c28   \n",
       "2  C01B4PVGLVB  18467584-5810-4bb9-80fe-4b92af9b28d0   \n",
       "3  C01B4PVGLVB  dfd2bf1a-69a1-4ac3-aacb-e2daaae8cc04   \n",
       "4  C01B4PVGLVB  fd5d6cf7-415c-459a-818c-72835fd2479a   \n",
       "\n",
       "                      msg_ts      user_id               latest_reply  \\\n",
       "0 2021-05-25 11:59:27.000600  U01BE2PR6LU 2021-05-25 13:04:44.006500   \n",
       "1 2021-05-24 18:49:08.061100  U01BE2PR6LU 1970-01-01 07:00:00.000000   \n",
       "2 2021-05-23 23:26:04.057000  U01UTGT8CVA 2021-05-24 15:36:52.058100   \n",
       "3 2021-05-23 14:57:36.055300  U01BE2PR6LU 1970-01-01 07:00:00.000000   \n",
       "4 2021-05-23 06:28:27.053900  U01BE2PR6LU 1970-01-01 07:00:00.000000   \n",
       "\n",
       "   reply_user_count reply_users github_link  \n",
       "0                 4         NaN         NaN  \n",
       "1                 0         NaN         NaN  \n",
       "2                 2         NaN         NaN  \n",
       "3                 0         NaN         NaN  \n",
       "4                 0         NaN         NaN  "
      ],
      "text/html": "<div>\n<style scoped>\n    .dataframe tbody tr th:only-of-type {\n        vertical-align: middle;\n    }\n\n    .dataframe tbody tr th {\n        vertical-align: top;\n    }\n\n    .dataframe thead th {\n        text-align: right;\n    }\n</style>\n<table border=\"1\" class=\"dataframe\">\n  <thead>\n    <tr style=\"text-align: right;\">\n      <th></th>\n      <th>channel_id</th>\n      <th>msg_id</th>\n      <th>msg_ts</th>\n      <th>user_id</th>\n      <th>latest_reply</th>\n      <th>reply_user_count</th>\n      <th>reply_users</th>\n      <th>github_link</th>\n    </tr>\n  </thead>\n  <tbody>\n    <tr>\n      <th>0</th>\n      <td>C01B4PVGLVB</td>\n      <td>48ba219d-fda8-40f2-be65-00735c058071</td>\n      <td>2021-05-25 11:59:27.000600</td>\n      <td>U01BE2PR6LU</td>\n      <td>2021-05-25 13:04:44.006500</td>\n      <td>4</td>\n      <td>NaN</td>\n      <td>NaN</td>\n    </tr>\n    <tr>\n      <th>1</th>\n      <td>C01B4PVGLVB</td>\n      <td>89919b55-bfe9-4c15-bf45-3021048c7c28</td>\n      <td>2021-05-24 18:49:08.061100</td>\n      <td>U01BE2PR6LU</td>\n      <td>1970-01-01 07:00:00.000000</td>\n      <td>0</td>\n      <td>NaN</td>\n      <td>NaN</td>\n    </tr>\n    <tr>\n      <th>2</th>\n      <td>C01B4PVGLVB</td>\n      <td>18467584-5810-4bb9-80fe-4b92af9b28d0</td>\n      <td>2021-05-23 23:26:04.057000</td>\n      <td>U01UTGT8CVA</td>\n      <td>2021-05-24 15:36:52.058100</td>\n      <td>2</td>\n      <td>NaN</td>\n      <td>NaN</td>\n    </tr>\n    <tr>\n      <th>3</th>\n      <td>C01B4PVGLVB</td>\n      <td>dfd2bf1a-69a1-4ac3-aacb-e2daaae8cc04</td>\n      <td>2021-05-23 14:57:36.055300</td>\n      <td>U01BE2PR6LU</td>\n      <td>1970-01-01 07:00:00.000000</td>\n      <td>0</td>\n      <td>NaN</td>\n      <td>NaN</td>\n    </tr>\n    <tr>\n      <th>4</th>\n      <td>C01B4PVGLVB</td>\n      <td>fd5d6cf7-415c-459a-818c-72835fd2479a</td>\n      <td>2021-05-23 06:28:27.053900</td>\n      <td>U01BE2PR6LU</td>\n      <td>1970-01-01 07:00:00.000000</td>\n      <td>0</td>\n      <td>NaN</td>\n      <td>NaN</td>\n    </tr>\n  </tbody>\n</table>\n</div>"
     },
     "metadata": {},
     "execution_count": 286
    }
   ],
   "source": [
    "con.execute(\"SELECT * FROM msg_df LIMIT 5\").fetch_df() # -> In 5 dòng đầu tiên của bảng msg_df ra Dataframe"
   ]
  },
  {
   "cell_type": "code",
   "execution_count": 120,
   "metadata": {},
   "outputs": [
    {
     "output_type": "execute_result",
     "data": {
      "text/plain": [
       "        channel_name  msg_cnt\n",
       "0            general       42\n",
       "1   atom-assignment1       42\n",
       "2   atom-assignment2       42\n",
       "3   atom-assignment3       36\n",
       "4     discuss-group1       32\n",
       "5     discuss-group3       16\n",
       "6      topics-python       13\n",
       "7     discuss-group4       11\n",
       "8   atom-assignment4        8\n",
       "9         atom-week1        6\n",
       "10    discuss-group2        6\n",
       "11  topics-materials        2\n",
       "12        atom-week3        2\n",
       "13        atom-week4        2"
      ],
      "text/html": "<div>\n<style scoped>\n    .dataframe tbody tr th:only-of-type {\n        vertical-align: middle;\n    }\n\n    .dataframe tbody tr th {\n        vertical-align: top;\n    }\n\n    .dataframe thead th {\n        text-align: right;\n    }\n</style>\n<table border=\"1\" class=\"dataframe\">\n  <thead>\n    <tr style=\"text-align: right;\">\n      <th></th>\n      <th>channel_name</th>\n      <th>msg_cnt</th>\n    </tr>\n  </thead>\n  <tbody>\n    <tr>\n      <th>0</th>\n      <td>general</td>\n      <td>42</td>\n    </tr>\n    <tr>\n      <th>1</th>\n      <td>atom-assignment1</td>\n      <td>42</td>\n    </tr>\n    <tr>\n      <th>2</th>\n      <td>atom-assignment2</td>\n      <td>42</td>\n    </tr>\n    <tr>\n      <th>3</th>\n      <td>atom-assignment3</td>\n      <td>36</td>\n    </tr>\n    <tr>\n      <th>4</th>\n      <td>discuss-group1</td>\n      <td>32</td>\n    </tr>\n    <tr>\n      <th>5</th>\n      <td>discuss-group3</td>\n      <td>16</td>\n    </tr>\n    <tr>\n      <th>6</th>\n      <td>topics-python</td>\n      <td>13</td>\n    </tr>\n    <tr>\n      <th>7</th>\n      <td>discuss-group4</td>\n      <td>11</td>\n    </tr>\n    <tr>\n      <th>8</th>\n      <td>atom-assignment4</td>\n      <td>8</td>\n    </tr>\n    <tr>\n      <th>9</th>\n      <td>atom-week1</td>\n      <td>6</td>\n    </tr>\n    <tr>\n      <th>10</th>\n      <td>discuss-group2</td>\n      <td>6</td>\n    </tr>\n    <tr>\n      <th>11</th>\n      <td>topics-materials</td>\n      <td>2</td>\n    </tr>\n    <tr>\n      <th>12</th>\n      <td>atom-week3</td>\n      <td>2</td>\n    </tr>\n    <tr>\n      <th>13</th>\n      <td>atom-week4</td>\n      <td>2</td>\n    </tr>\n  </tbody>\n</table>\n</div>"
     },
     "metadata": {},
     "execution_count": 120
    }
   ],
   "source": [
    "## Đoạn code dưới: Theo từng channel, count số message (phải join với bảng channel_df để lấy tên channel)\n",
    "SQL = '''\n",
    "SELECT \n",
    "  t2.channel_name,\n",
    "  COUNT(DISTINCT t1.msg_id) AS msg_cnt\n",
    "FROM msg_df AS t1\n",
    "JOIN channel_df AS t2\n",
    "ON t1.channel_id = t2.channel_id\n",
    "GROUP BY t2.channel_name \n",
    "ORDER BY COUNT(DISTINCT t1.msg_id) DESC\n",
    "'''\n",
    "con.execute(SQL).fetch_df()"
   ]
  },
  {
   "cell_type": "code",
   "execution_count": 110,
   "metadata": {},
   "outputs": [
    {
     "output_type": "execute_result",
     "data": {
      "text/plain": [
       "           real_name    channel_name  msg_cnt DataCracy_role\n",
       "0            Phu NDT  discuss-group1       11     Mentor_Gr1\n",
       "1  Nguyễn Quang Long  discuss-group3        9     Mentor_Gr3\n",
       "2        Thuy Nguyen  discuss-group4        4     Mentor_Gr4"
      ],
      "text/html": "<div>\n<style scoped>\n    .dataframe tbody tr th:only-of-type {\n        vertical-align: middle;\n    }\n\n    .dataframe tbody tr th {\n        vertical-align: top;\n    }\n\n    .dataframe thead th {\n        text-align: right;\n    }\n</style>\n<table border=\"1\" class=\"dataframe\">\n  <thead>\n    <tr style=\"text-align: right;\">\n      <th></th>\n      <th>real_name</th>\n      <th>channel_name</th>\n      <th>msg_cnt</th>\n      <th>DataCracy_role</th>\n    </tr>\n  </thead>\n  <tbody>\n    <tr>\n      <th>0</th>\n      <td>Phu NDT</td>\n      <td>discuss-group1</td>\n      <td>11</td>\n      <td>Mentor_Gr1</td>\n    </tr>\n    <tr>\n      <th>1</th>\n      <td>Nguyễn Quang Long</td>\n      <td>discuss-group3</td>\n      <td>9</td>\n      <td>Mentor_Gr3</td>\n    </tr>\n    <tr>\n      <th>2</th>\n      <td>Thuy Nguyen</td>\n      <td>discuss-group4</td>\n      <td>4</td>\n      <td>Mentor_Gr4</td>\n    </tr>\n  </tbody>\n</table>\n</div>"
     },
     "metadata": {},
     "execution_count": 110
    }
   ],
   "source": [
    "## Đoạn code dưới: Lấy top 3 mentors post nhiều message nhất trong discuss-group của các nhóm\n",
    "SQL = '''\n",
    "WITH msg_cnt AS( ------------- > (1) Chain SQL: tạo bảng tạm thời msg_cnt: count số msg theo user, theo channel\n",
    "  SELECT \n",
    "    user_id,\n",
    "    channel_id,\n",
    "    COUNT(msg_id) AS msg_cnt\n",
    "  FROM msg_df \n",
    "  GROUP BY 1, 2\n",
    ")\n",
    "SELECT\n",
    "  t2.real_name,\n",
    "  t3.channel_name,\n",
    "  t1.msg_cnt,\n",
    "  t2.DataCracy_role\n",
    "FROM msg_cnt AS t1\n",
    "JOIN members_df AS t2 ------------ > (2) Join msg_count với members_df để lấy tên và role\n",
    "ON t1.user_id = t2.user_id\n",
    "JOIN channel_df AS t3 --> (3) Join với channel_df để lấy tên channel\n",
    "ON t1.channel_id = t3.channel_id\n",
    "WHERE t2.DataCracy_role LIKE 'Mentor%' ------------- > (4) Filter Mentors\n",
    "AND t3.channel_name LIKE 'discuss-group%' ---------- > (5) Filter channel discuss theo các group\n",
    "ORDER BY t1.msg_cnt DESC ---------- > (6) Sẵp xếp theo số msg từ cao xuống thấp\n",
    "LIMIT 3 ------------> (7) Lấy top 3\n",
    "'''\n",
    "con.execute(SQL).fetch_df()"
   ]
  },
  {
   "source": [
    "### TODO#6: SQL¶\n",
    "Thay đổi các phần trong những đoạn code SQL trên, print kết quả để hiểu về code\n",
    "\n",
    "Tham khảo thêm SQL Basic Cheatsheet\n",
    "\n",
    "Và, GOOGLE! + Cùng trao đổi trên Slack\n",
    "\n",
    "Và viết SQL để trả lời các câu hỏi sau:\n",
    "\n",
    "1. Learners groups nào hoạt động tích cực trên Slack nhất? (tính theo message count)?\n",
    "\n",
    "2. Learners nào nộp bài sớm nhất trong Assignment 1, 2, 3?\n",
    "\n",
    "3. Learner nào nộp bài trễ nhất trong Assignment 1, 2, 3?\n",
    "\n",
    "4. Learner nào chưa nộp bài Assignment 3?\n",
    "\n",
    "5. Learner nào chưa nộp bất kỳ 1 assignment nào?\n",
    "\n",
    "6. Tỷ lệ % Learner đã nộp assignment 1, 2, 3? (*giả sử có message trong channel atom-assignment, được tính là đã submit*)\n",
    "\n",
    "7. Tỷ lệ % Learner đã submit bài và dc review trong assignment 1, 2, 3?\n",
    "\n",
    "8. Learners theo Group nào có tỷ lệ % hoàn thành bài tập cao nhất?\n",
    "\n",
    "[Optional] Bạn có thể tự đặt thêm bất kỳ câu hỏi nào bạn quan tâm"
   ],
   "cell_type": "markdown",
   "metadata": {}
  },
  {
   "cell_type": "code",
   "execution_count": 190,
   "metadata": {},
   "outputs": [
    {
     "output_type": "execute_result",
     "data": {
      "text/plain": [
       "  DataCracy_role  msg_cnt\n",
       "0    Learner_Gr4       43\n",
       "1    Learner_Gr1       41\n",
       "2    Learner_Gr3       34\n",
       "3    Learner_Gr2       32"
      ],
      "text/html": "<div>\n<style scoped>\n    .dataframe tbody tr th:only-of-type {\n        vertical-align: middle;\n    }\n\n    .dataframe tbody tr th {\n        vertical-align: top;\n    }\n\n    .dataframe thead th {\n        text-align: right;\n    }\n</style>\n<table border=\"1\" class=\"dataframe\">\n  <thead>\n    <tr style=\"text-align: right;\">\n      <th></th>\n      <th>DataCracy_role</th>\n      <th>msg_cnt</th>\n    </tr>\n  </thead>\n  <tbody>\n    <tr>\n      <th>0</th>\n      <td>Learner_Gr4</td>\n      <td>43</td>\n    </tr>\n    <tr>\n      <th>1</th>\n      <td>Learner_Gr1</td>\n      <td>41</td>\n    </tr>\n    <tr>\n      <th>2</th>\n      <td>Learner_Gr3</td>\n      <td>34</td>\n    </tr>\n    <tr>\n      <th>3</th>\n      <td>Learner_Gr2</td>\n      <td>32</td>\n    </tr>\n  </tbody>\n</table>\n</div>"
     },
     "metadata": {},
     "execution_count": 190
    }
   ],
   "source": [
    "## 1.Learners groups nào hoạt động tích cực trên Slack nhất? (tính theo message count)?\n",
    "SQL_1 = '''\n",
    "SELECT \n",
    "  t2.DataCracy_role,\n",
    "  COUNT(DISTINCT t1.msg_id) AS msg_cnt\n",
    "FROM msg_df AS t1\n",
    "JOIN members_df AS t2\n",
    "ON t1.user_id = t2.user_id\n",
    "WHERE DataCracy_role like 'Learner%'\n",
    "GROUP BY t2.DataCracy_role \n",
    "ORDER BY COUNT(DISTINCT t1.msg_id) DESC\n",
    "'''\n",
    "con.execute(SQL_1).fetch_df()"
   ]
  },
  {
   "source": [
    "## 2.Learners nào nộp bài sớm nhất trong Assignment 1, 2, 3?\n",
    "SQL_2 = '''\n",
    "CREATE TABLE asgmt_submitted AS  ---------> tạo bảng chứa các thông tin learner đã nộp bài trong các channel assignment\n",
    "SELECT\n",
    "    DISTINCT t2.real_name,\n",
    "    t2.DataCracy_role,\n",
    "    t1.reply_user_count,\n",
    "    t1.msg_ts,\n",
    "    t3.channel_name\n",
    "FROM msg_df as t1\n",
    "JOIN members_df as t2 -------------> Join msg_df với members_df để lấy tên và role\n",
    "ON t1.user_id = t2.user_id\n",
    "JOIN channel_df as t3 ---------------> Join msg_df với channel_df để lấy channel name\n",
    "ON t1.channel_id = t3.channel_id\n",
    "WHERE (t3.channel_name LIKE 'atom-assignment%')  ---------> lọc channel assignment\n",
    "AND (github_link IS NOT NULL) AND (t2.DataCracy_role LIKE 'Learner%') ---------> lọc row có github link và là learner\n",
    "'''\n",
    "con.execute(SQL_2).fetch_df()"
   ],
   "cell_type": "code",
   "metadata": {},
   "execution_count": 319,
   "outputs": [
    {
     "output_type": "execute_result",
     "data": {
      "text/plain": [
       "   Count\n",
       "0     90"
      ],
      "text/html": "<div>\n<style scoped>\n    .dataframe tbody tr th:only-of-type {\n        vertical-align: middle;\n    }\n\n    .dataframe tbody tr th {\n        vertical-align: top;\n    }\n\n    .dataframe thead th {\n        text-align: right;\n    }\n</style>\n<table border=\"1\" class=\"dataframe\">\n  <thead>\n    <tr style=\"text-align: right;\">\n      <th></th>\n      <th>Count</th>\n    </tr>\n  </thead>\n  <tbody>\n    <tr>\n      <th>0</th>\n      <td>90</td>\n    </tr>\n  </tbody>\n</table>\n</div>"
     },
     "metadata": {},
     "execution_count": 319
    }
   ]
  },
  {
   "cell_type": "code",
   "execution_count": 320,
   "metadata": {},
   "outputs": [
    {
     "output_type": "stream",
     "name": "stdout",
     "text": [
      "Người nộp bài sớm nhất:\n"
     ]
    },
    {
     "output_type": "execute_result",
     "data": {
      "text/plain": [
       "             real_name DataCracy_role  reply_user_count  \\\n",
       "0  Hưng Dương Phan Nam    Learner_Gr1                 2   \n",
       "1            Toan Tran    Learner_Gr2                 1   \n",
       "2          Hanh Nguyen    Learner_Gr4                 2   \n",
       "\n",
       "                      msg_ts      channel_name  \n",
       "0 2021-04-21 13:00:34.000800  atom-assignment1  \n",
       "1 2021-05-12 22:50:48.004000  atom-assignment2  \n",
       "2 2021-05-16 19:08:08.018900  atom-assignment3  "
      ],
      "text/html": "<div>\n<style scoped>\n    .dataframe tbody tr th:only-of-type {\n        vertical-align: middle;\n    }\n\n    .dataframe tbody tr th {\n        vertical-align: top;\n    }\n\n    .dataframe thead th {\n        text-align: right;\n    }\n</style>\n<table border=\"1\" class=\"dataframe\">\n  <thead>\n    <tr style=\"text-align: right;\">\n      <th></th>\n      <th>real_name</th>\n      <th>DataCracy_role</th>\n      <th>reply_user_count</th>\n      <th>msg_ts</th>\n      <th>channel_name</th>\n    </tr>\n  </thead>\n  <tbody>\n    <tr>\n      <th>0</th>\n      <td>Hưng Dương Phan Nam</td>\n      <td>Learner_Gr1</td>\n      <td>2</td>\n      <td>2021-04-21 13:00:34.000800</td>\n      <td>atom-assignment1</td>\n    </tr>\n    <tr>\n      <th>1</th>\n      <td>Toan Tran</td>\n      <td>Learner_Gr2</td>\n      <td>1</td>\n      <td>2021-05-12 22:50:48.004000</td>\n      <td>atom-assignment2</td>\n    </tr>\n    <tr>\n      <th>2</th>\n      <td>Hanh Nguyen</td>\n      <td>Learner_Gr4</td>\n      <td>2</td>\n      <td>2021-05-16 19:08:08.018900</td>\n      <td>atom-assignment3</td>\n    </tr>\n  </tbody>\n</table>\n</div>"
     },
     "metadata": {},
     "execution_count": 320
    }
   ],
   "source": [
    "print ('Người nộp bài sớm nhất:')\n",
    "\n",
    "SQL_2a = '''\n",
    "SELECT *\n",
    "FROM asgmt_submitted\n",
    "WHERE msg_ts == (\n",
    "    SELECT\n",
    "    MIN(msg_ts)\n",
    "    FROM asgmt_submitted\n",
    "    WHERE channel_name == 'atom-assignment1' \n",
    ")\n",
    "OR msg_ts == (\n",
    "    SELECT\n",
    "    MIN(msg_ts)\n",
    "    FROM asgmt_submitted\n",
    "    WHERE channel_name == 'atom-assignment2'\n",
    ")\n",
    "OR msg_ts == (\n",
    "    SELECT\n",
    "    MIN(msg_ts)\n",
    "    FROM asgmt_submitted\n",
    "    WHERE channel_name == 'atom-assignment3' \n",
    ")\n",
    "'''\n",
    "con.execute(SQL_2a).fetch_df()"
   ]
  },
  {
   "cell_type": "code",
   "execution_count": 321,
   "metadata": {},
   "outputs": [
    {
     "output_type": "stream",
     "name": "stdout",
     "text": [
      "Người nộp bài muộn nhất:\n"
     ]
    },
    {
     "output_type": "execute_result",
     "data": {
      "text/plain": [
       "     real_name DataCracy_role  reply_user_count                     msg_ts  \\\n",
       "0    Danh Phan    Learner_Gr3                 2 2021-05-10 11:51:46.004700   \n",
       "1  Hanh Nguyen    Learner_Gr4                 1 2021-05-22 12:39:34.015500   \n",
       "2        Vy Le    Learner_Gr4                 0 2021-05-26 16:48:44.002300   \n",
       "\n",
       "       channel_name  \n",
       "0  atom-assignment1  \n",
       "1  atom-assignment2  \n",
       "2  atom-assignment3  "
      ],
      "text/html": "<div>\n<style scoped>\n    .dataframe tbody tr th:only-of-type {\n        vertical-align: middle;\n    }\n\n    .dataframe tbody tr th {\n        vertical-align: top;\n    }\n\n    .dataframe thead th {\n        text-align: right;\n    }\n</style>\n<table border=\"1\" class=\"dataframe\">\n  <thead>\n    <tr style=\"text-align: right;\">\n      <th></th>\n      <th>real_name</th>\n      <th>DataCracy_role</th>\n      <th>reply_user_count</th>\n      <th>msg_ts</th>\n      <th>channel_name</th>\n    </tr>\n  </thead>\n  <tbody>\n    <tr>\n      <th>0</th>\n      <td>Danh Phan</td>\n      <td>Learner_Gr3</td>\n      <td>2</td>\n      <td>2021-05-10 11:51:46.004700</td>\n      <td>atom-assignment1</td>\n    </tr>\n    <tr>\n      <th>1</th>\n      <td>Hanh Nguyen</td>\n      <td>Learner_Gr4</td>\n      <td>1</td>\n      <td>2021-05-22 12:39:34.015500</td>\n      <td>atom-assignment2</td>\n    </tr>\n    <tr>\n      <th>2</th>\n      <td>Vy Le</td>\n      <td>Learner_Gr4</td>\n      <td>0</td>\n      <td>2021-05-26 16:48:44.002300</td>\n      <td>atom-assignment3</td>\n    </tr>\n  </tbody>\n</table>\n</div>"
     },
     "metadata": {},
     "execution_count": 321
    }
   ],
   "source": [
    "## 3. Nguoi nop bai muon nhat cac assignment 1 2 3\n",
    "print ('Người nộp bài muộn nhất:')\n",
    "\n",
    "SQL_3 = '''\n",
    "SELECT *\n",
    "FROM asgmt_submitted\n",
    "WHERE msg_ts == (\n",
    "    SELECT\n",
    "    MAX(msg_ts)\n",
    "    FROM asgmt_submitted\n",
    "    WHERE channel_name == 'atom-assignment1' \n",
    ")\n",
    "OR msg_ts == (\n",
    "    SELECT\n",
    "    MAX(msg_ts)\n",
    "    FROM asgmt_submitted\n",
    "    WHERE channel_name == 'atom-assignment2'\n",
    ")\n",
    "OR msg_ts == (\n",
    "    SELECT\n",
    "    MAX(msg_ts)\n",
    "    FROM asgmt_submitted\n",
    "    WHERE channel_name == 'atom-assignment3' \n",
    ")\n",
    "'''\n",
    "con.execute(SQL_3).fetch_df()"
   ]
  },
  {
   "cell_type": "code",
   "execution_count": 322,
   "metadata": {},
   "outputs": [
    {
     "output_type": "stream",
     "name": "stdout",
     "text": [
      "Learner chưa nộp Assignment 3:\n"
     ]
    },
    {
     "output_type": "execute_result",
     "data": {
      "text/plain": [
       "   DataCracy_role      user_id                 name          display_name  \\\n",
       "0     Learner_Gr4  U01U6JM6LEB    hoangquocviet.208            Viet Hoang   \n",
       "1     Learner_Gr1  U01U6JQB695         thgiang.phan                   NaN   \n",
       "2     Learner_Gr1  U01U8CAMGB1        huyenngoc2017            Ngoc Huyen   \n",
       "3     Learner_Gr3  U01UEJG8KHU      trangnguyen.n3t          Trang Nguyễn   \n",
       "4     Learner_Gr2  U01UJ9M5TU5       minhnguyentk95           Minh Nguyen   \n",
       "5     Learner_Gr1  U01UMBXJLHG           nvlinh.dth           Nguyen Linh   \n",
       "6     Learner_Gr4  U01UMC08KL2        auslyn.nguyen                   NaN   \n",
       "7     Learner_Gr1  U01UMC0N5U2       chuviethong.vn         Việt Hồng Chu   \n",
       "8     Learner_Gr1  U01USGKQ771        trang.ngo1709                 Trang   \n",
       "9     Learner_Gr3  U01UTGRP0HJ        phamtran30996             Tran Pham   \n",
       "10    Learner_Gr4  U01UTGRQS9J     vukhanhlinh.3526               Linh Vu   \n",
       "11    Learner_Gr4  U01VB63LRNC  nguyenhuynhanhthu94  Nguyen Huynh Anh Thu   \n",
       "12    Learner_Gr1  U01VB6AT4G0         letam.brando                   NaN   \n",
       "13    Learner_Gr1  U01VBFY2E59               trangh        Gia Hoang Tran   \n",
       "14    Learner_Gr4  U0233KHLM2M   vuthanhdat.contact                   NaN   \n",
       "\n",
       "                real_name             title  is_bot  \n",
       "0              Viet Hoang               NaN   False  \n",
       "1              Giang Phan               NaN   False  \n",
       "2              Ngoc Huyen               NaN   False  \n",
       "3            Trang Nguyễn               NaN   False  \n",
       "4     Nguyen Thi Kim Minh               NaN   False  \n",
       "5             Nguyen Linh               NaN   False  \n",
       "6   Minh-Thu Nguyen Hoang               NaN   False  \n",
       "7           Việt Hồng Chu  Business Analyst   False  \n",
       "8      Ngo Thi Minh Trang               NaN   False  \n",
       "9               Tran Pham               NaN   False  \n",
       "10                Linh Vu               NaN   False  \n",
       "11   anh thu nguyen huynh               NaN   False  \n",
       "12             Le Thi Tam               NaN   False  \n",
       "13         Gia Hoang Tran               NaN   False  \n",
       "14     Vuthanhdat Contact               NaN   False  "
      ],
      "text/html": "<div>\n<style scoped>\n    .dataframe tbody tr th:only-of-type {\n        vertical-align: middle;\n    }\n\n    .dataframe tbody tr th {\n        vertical-align: top;\n    }\n\n    .dataframe thead th {\n        text-align: right;\n    }\n</style>\n<table border=\"1\" class=\"dataframe\">\n  <thead>\n    <tr style=\"text-align: right;\">\n      <th></th>\n      <th>DataCracy_role</th>\n      <th>user_id</th>\n      <th>name</th>\n      <th>display_name</th>\n      <th>real_name</th>\n      <th>title</th>\n      <th>is_bot</th>\n    </tr>\n  </thead>\n  <tbody>\n    <tr>\n      <th>0</th>\n      <td>Learner_Gr4</td>\n      <td>U01U6JM6LEB</td>\n      <td>hoangquocviet.208</td>\n      <td>Viet Hoang</td>\n      <td>Viet Hoang</td>\n      <td>NaN</td>\n      <td>False</td>\n    </tr>\n    <tr>\n      <th>1</th>\n      <td>Learner_Gr1</td>\n      <td>U01U6JQB695</td>\n      <td>thgiang.phan</td>\n      <td>NaN</td>\n      <td>Giang Phan</td>\n      <td>NaN</td>\n      <td>False</td>\n    </tr>\n    <tr>\n      <th>2</th>\n      <td>Learner_Gr1</td>\n      <td>U01U8CAMGB1</td>\n      <td>huyenngoc2017</td>\n      <td>Ngoc Huyen</td>\n      <td>Ngoc Huyen</td>\n      <td>NaN</td>\n      <td>False</td>\n    </tr>\n    <tr>\n      <th>3</th>\n      <td>Learner_Gr3</td>\n      <td>U01UEJG8KHU</td>\n      <td>trangnguyen.n3t</td>\n      <td>Trang Nguyễn</td>\n      <td>Trang Nguyễn</td>\n      <td>NaN</td>\n      <td>False</td>\n    </tr>\n    <tr>\n      <th>4</th>\n      <td>Learner_Gr2</td>\n      <td>U01UJ9M5TU5</td>\n      <td>minhnguyentk95</td>\n      <td>Minh Nguyen</td>\n      <td>Nguyen Thi Kim Minh</td>\n      <td>NaN</td>\n      <td>False</td>\n    </tr>\n    <tr>\n      <th>5</th>\n      <td>Learner_Gr1</td>\n      <td>U01UMBXJLHG</td>\n      <td>nvlinh.dth</td>\n      <td>Nguyen Linh</td>\n      <td>Nguyen Linh</td>\n      <td>NaN</td>\n      <td>False</td>\n    </tr>\n    <tr>\n      <th>6</th>\n      <td>Learner_Gr4</td>\n      <td>U01UMC08KL2</td>\n      <td>auslyn.nguyen</td>\n      <td>NaN</td>\n      <td>Minh-Thu Nguyen Hoang</td>\n      <td>NaN</td>\n      <td>False</td>\n    </tr>\n    <tr>\n      <th>7</th>\n      <td>Learner_Gr1</td>\n      <td>U01UMC0N5U2</td>\n      <td>chuviethong.vn</td>\n      <td>Việt Hồng Chu</td>\n      <td>Việt Hồng Chu</td>\n      <td>Business Analyst</td>\n      <td>False</td>\n    </tr>\n    <tr>\n      <th>8</th>\n      <td>Learner_Gr1</td>\n      <td>U01USGKQ771</td>\n      <td>trang.ngo1709</td>\n      <td>Trang</td>\n      <td>Ngo Thi Minh Trang</td>\n      <td>NaN</td>\n      <td>False</td>\n    </tr>\n    <tr>\n      <th>9</th>\n      <td>Learner_Gr3</td>\n      <td>U01UTGRP0HJ</td>\n      <td>phamtran30996</td>\n      <td>Tran Pham</td>\n      <td>Tran Pham</td>\n      <td>NaN</td>\n      <td>False</td>\n    </tr>\n    <tr>\n      <th>10</th>\n      <td>Learner_Gr4</td>\n      <td>U01UTGRQS9J</td>\n      <td>vukhanhlinh.3526</td>\n      <td>Linh Vu</td>\n      <td>Linh Vu</td>\n      <td>NaN</td>\n      <td>False</td>\n    </tr>\n    <tr>\n      <th>11</th>\n      <td>Learner_Gr4</td>\n      <td>U01VB63LRNC</td>\n      <td>nguyenhuynhanhthu94</td>\n      <td>Nguyen Huynh Anh Thu</td>\n      <td>anh thu nguyen huynh</td>\n      <td>NaN</td>\n      <td>False</td>\n    </tr>\n    <tr>\n      <th>12</th>\n      <td>Learner_Gr1</td>\n      <td>U01VB6AT4G0</td>\n      <td>letam.brando</td>\n      <td>NaN</td>\n      <td>Le Thi Tam</td>\n      <td>NaN</td>\n      <td>False</td>\n    </tr>\n    <tr>\n      <th>13</th>\n      <td>Learner_Gr1</td>\n      <td>U01VBFY2E59</td>\n      <td>trangh</td>\n      <td>Gia Hoang Tran</td>\n      <td>Gia Hoang Tran</td>\n      <td>NaN</td>\n      <td>False</td>\n    </tr>\n    <tr>\n      <th>14</th>\n      <td>Learner_Gr4</td>\n      <td>U0233KHLM2M</td>\n      <td>vuthanhdat.contact</td>\n      <td>NaN</td>\n      <td>Vuthanhdat Contact</td>\n      <td>NaN</td>\n      <td>False</td>\n    </tr>\n  </tbody>\n</table>\n</div>"
     },
     "metadata": {},
     "execution_count": 322
    }
   ],
   "source": [
    "### 4. Learner nào chưa nộp Assignment 3?\n",
    "print ('Learner chưa nộp Assignment 3:')\n",
    "SQL_4 ='''\n",
    "SELECT *\n",
    "FROM members_df AS t1\n",
    "WHERE t1.real_name NOT IN (\n",
    "    SELECT \n",
    "    t2.real_name\n",
    "    FROM asgmt_submitted AS t2\n",
    "    WHERE channel_name == 'atom-assignment3'\n",
    "    )\n",
    "AND DataCracy_role LIKE 'Learner_Gr%'\n",
    "'''\n",
    "con.execute(SQL_4).fetch_df()"
   ]
  },
  {
   "cell_type": "code",
   "execution_count": 323,
   "metadata": {},
   "outputs": [
    {
     "output_type": "stream",
     "name": "stdout",
     "text": [
      "Learner chưa nộp bài nào:\n"
     ]
    },
    {
     "output_type": "execute_result",
     "data": {
      "text/plain": [
       "  DataCracy_role      user_id                name    display_name  \\\n",
       "0    Learner_Gr1  U01U8CAMGB1       huyenngoc2017      Ngoc Huyen   \n",
       "1    Learner_Gr1  U01UMBXJLHG          nvlinh.dth     Nguyen Linh   \n",
       "2    Learner_Gr1  U01VBFY2E59              trangh  Gia Hoang Tran   \n",
       "3    Learner_Gr4  U0233KHLM2M  vuthanhdat.contact             NaN   \n",
       "\n",
       "            real_name title  is_bot  \n",
       "0          Ngoc Huyen   NaN   False  \n",
       "1         Nguyen Linh   NaN   False  \n",
       "2      Gia Hoang Tran   NaN   False  \n",
       "3  Vuthanhdat Contact   NaN   False  "
      ],
      "text/html": "<div>\n<style scoped>\n    .dataframe tbody tr th:only-of-type {\n        vertical-align: middle;\n    }\n\n    .dataframe tbody tr th {\n        vertical-align: top;\n    }\n\n    .dataframe thead th {\n        text-align: right;\n    }\n</style>\n<table border=\"1\" class=\"dataframe\">\n  <thead>\n    <tr style=\"text-align: right;\">\n      <th></th>\n      <th>DataCracy_role</th>\n      <th>user_id</th>\n      <th>name</th>\n      <th>display_name</th>\n      <th>real_name</th>\n      <th>title</th>\n      <th>is_bot</th>\n    </tr>\n  </thead>\n  <tbody>\n    <tr>\n      <th>0</th>\n      <td>Learner_Gr1</td>\n      <td>U01U8CAMGB1</td>\n      <td>huyenngoc2017</td>\n      <td>Ngoc Huyen</td>\n      <td>Ngoc Huyen</td>\n      <td>NaN</td>\n      <td>False</td>\n    </tr>\n    <tr>\n      <th>1</th>\n      <td>Learner_Gr1</td>\n      <td>U01UMBXJLHG</td>\n      <td>nvlinh.dth</td>\n      <td>Nguyen Linh</td>\n      <td>Nguyen Linh</td>\n      <td>NaN</td>\n      <td>False</td>\n    </tr>\n    <tr>\n      <th>2</th>\n      <td>Learner_Gr1</td>\n      <td>U01VBFY2E59</td>\n      <td>trangh</td>\n      <td>Gia Hoang Tran</td>\n      <td>Gia Hoang Tran</td>\n      <td>NaN</td>\n      <td>False</td>\n    </tr>\n    <tr>\n      <th>3</th>\n      <td>Learner_Gr4</td>\n      <td>U0233KHLM2M</td>\n      <td>vuthanhdat.contact</td>\n      <td>NaN</td>\n      <td>Vuthanhdat Contact</td>\n      <td>NaN</td>\n      <td>False</td>\n    </tr>\n  </tbody>\n</table>\n</div>"
     },
     "metadata": {},
     "execution_count": 323
    }
   ],
   "source": [
    "### 5. Learner nào chưa nộp bất cứ bài tập nào?\n",
    "print ('Learner chưa nộp bài nào:')\n",
    "SQL_5 ='''\n",
    "SELECT *\n",
    "FROM members_df AS t1\n",
    "WHERE t1.real_name NOT IN (\n",
    "    SELECT \n",
    "    t2.real_name\n",
    "    FROM asgmt_submitted AS t2\n",
    "    )\n",
    "AND DataCracy_role LIKE 'Learner_Gr%'\n",
    "'''\n",
    "con.execute(SQL_5).fetch_df()"
   ]
  },
  {
   "cell_type": "code",
   "execution_count": 301,
   "metadata": {},
   "outputs": [
    {
     "output_type": "stream",
     "name": "stdout",
     "text": [
      "Tỉ lệ nộp bài theo từng assignment (count tất cả msg):\n"
     ]
    },
    {
     "output_type": "execute_result",
     "data": {
      "text/plain": [
       "       channel_name  ratio_sub\n",
       "0  atom-assignment1  97.435898\n",
       "1  atom-assignment2  87.179489\n",
       "2  atom-assignment3  69.230774\n",
       "3  atom-assignment4  12.820514"
      ],
      "text/html": "<div>\n<style scoped>\n    .dataframe tbody tr th:only-of-type {\n        vertical-align: middle;\n    }\n\n    .dataframe tbody tr th {\n        vertical-align: top;\n    }\n\n    .dataframe thead th {\n        text-align: right;\n    }\n</style>\n<table border=\"1\" class=\"dataframe\">\n  <thead>\n    <tr style=\"text-align: right;\">\n      <th></th>\n      <th>channel_name</th>\n      <th>ratio_sub</th>\n    </tr>\n  </thead>\n  <tbody>\n    <tr>\n      <th>0</th>\n      <td>atom-assignment1</td>\n      <td>97.435898</td>\n    </tr>\n    <tr>\n      <th>1</th>\n      <td>atom-assignment2</td>\n      <td>87.179489</td>\n    </tr>\n    <tr>\n      <th>2</th>\n      <td>atom-assignment3</td>\n      <td>69.230774</td>\n    </tr>\n    <tr>\n      <th>3</th>\n      <td>atom-assignment4</td>\n      <td>12.820514</td>\n    </tr>\n  </tbody>\n</table>\n</div>"
     },
     "metadata": {},
     "execution_count": 301
    }
   ],
   "source": [
    "## 6. Tỷ lệ % Learner đã nộp assignment 1, 2, 3?\n",
    "print ('Tỉ lệ nộp bài theo từng assignment (count tất cả msg):')\n",
    "SQL_6 = '''\n",
    "WITH submit_percent AS (\n",
    "  SELECT \n",
    "  t1.*,\n",
    "  t2.channel_name\n",
    "  FROM msg_df AS t1\n",
    "  JOIN channel_df AS t2\n",
    "  ON t1.channel_id = t2.channel_id\n",
    "  WHERE t1.user_id  IN (\n",
    "    SELECT \n",
    "    user_id\n",
    "    FROM members_df\n",
    "    WHERE DataCracy_role LIKE 'Learner_Gr%'\n",
    "  ) AND t2.channel_name LIKE 'atom-assignment%'\n",
    "),\n",
    "total AS (\n",
    "    SELECT \n",
    "    COUNT(real_name) as total_learner\n",
    "    FROM members_df\n",
    "    WHERE DataCracy_role LIKE 'Learner_Gr%'\n",
    ")\n",
    "SELECT \n",
    "  channel_name,\n",
    "  COUNT(msg_id) / cast(total_learner as float) * 100 AS ratio_sub\n",
    "FROM submit_percent, total\n",
    "WHERE msg_id IS NOT NULL\n",
    "GROUP BY channel_name, total_learner\n",
    "  \n",
    "'''\n",
    "con.execute(SQL_6).fetch_df()"
   ]
  },
  {
   "cell_type": "code",
   "execution_count": 427,
   "metadata": {},
   "outputs": [
    {
     "output_type": "stream",
     "name": "stdout",
     "text": [
      "Tỉ lệ nộp bài theo từng assignment đã được review (chỉ tính msg có link git):\n"
     ]
    },
    {
     "output_type": "execute_result",
     "data": {
      "text/plain": [
       "       channel_name  ratio_sub\n",
       "0  atom-assignment1  64.102570\n",
       "1  atom-assignment2  76.923080\n",
       "2  atom-assignment3  28.205130\n",
       "3  atom-assignment4   2.564103"
      ],
      "text/html": "<div>\n<style scoped>\n    .dataframe tbody tr th:only-of-type {\n        vertical-align: middle;\n    }\n\n    .dataframe tbody tr th {\n        vertical-align: top;\n    }\n\n    .dataframe thead th {\n        text-align: right;\n    }\n</style>\n<table border=\"1\" class=\"dataframe\">\n  <thead>\n    <tr style=\"text-align: right;\">\n      <th></th>\n      <th>channel_name</th>\n      <th>ratio_sub</th>\n    </tr>\n  </thead>\n  <tbody>\n    <tr>\n      <th>0</th>\n      <td>atom-assignment1</td>\n      <td>64.102570</td>\n    </tr>\n    <tr>\n      <th>1</th>\n      <td>atom-assignment2</td>\n      <td>76.923080</td>\n    </tr>\n    <tr>\n      <th>2</th>\n      <td>atom-assignment3</td>\n      <td>28.205130</td>\n    </tr>\n    <tr>\n      <th>3</th>\n      <td>atom-assignment4</td>\n      <td>2.564103</td>\n    </tr>\n  </tbody>\n</table>\n</div>"
     },
     "metadata": {},
     "execution_count": 427
    }
   ],
   "source": [
    "### 7. Tỷ lệ % Learner đã submit bài và dc review trong assignment 1, 2, 3?\n",
    "print ('Tỉ lệ nộp bài theo từng assignment đã được review (chỉ tính msg có link git):')\n",
    "SQL_7 = '''\n",
    "WITH submit_review AS (\n",
    "    SELECT *\n",
    "    FROM asgmt_submitted --------------------------> sử dụng lại bảng đã tạo ở trên gồm các learner đã nộp bài trong assignments\n",
    "    WHERE reply_user_count > 0\n",
    "),\n",
    "total AS (\n",
    "    SELECT \n",
    "    COUNT(real_name) as total_learner\n",
    "    FROM members_df\n",
    "    WHERE DataCracy_role LIKE 'Learner_Gr%'\n",
    ")\n",
    "SELECT \n",
    "channel_name,\n",
    "COUNT(real_name) / cast(total_learner as float) * 100 AS ratio_sub\n",
    "FROM submit_review, total\n",
    "GROUP BY channel_name, total_learner\n",
    "'''\n",
    "con.execute(SQL_7).fetch_df()"
   ]
  },
  {
   "cell_type": "code",
   "execution_count": 410,
   "metadata": {},
   "outputs": [
    {
     "output_type": "execute_result",
     "data": {
      "text/plain": [
       "   Count\n",
       "0     15"
      ],
      "text/html": "<div>\n<style scoped>\n    .dataframe tbody tr th:only-of-type {\n        vertical-align: middle;\n    }\n\n    .dataframe tbody tr th {\n        vertical-align: top;\n    }\n\n    .dataframe thead th {\n        text-align: right;\n    }\n</style>\n<table border=\"1\" class=\"dataframe\">\n  <thead>\n    <tr style=\"text-align: right;\">\n      <th></th>\n      <th>Count</th>\n    </tr>\n  </thead>\n  <tbody>\n    <tr>\n      <th>0</th>\n      <td>15</td>\n    </tr>\n  </tbody>\n</table>\n</div>"
     },
     "metadata": {},
     "execution_count": 410
    }
   ],
   "source": [
    "con.execute( '''\n",
    "    CREATE TABLE gr_done as (\n",
    "    SELECT\n",
    "    channel_name,\n",
    "    DataCracy_role,\n",
    "    Count(real_name) as submitted\n",
    "    FROM asgmt_submit \n",
    "    group by DataCracy_role, channel_name\n",
    "    )\n",
    "    '''\n",
    ").fetch_df()"
   ]
  },
  {
   "cell_type": "code",
   "execution_count": 416,
   "metadata": {},
   "outputs": [
    {
     "output_type": "execute_result",
     "data": {
      "text/plain": [
       "   Count\n",
       "0      4"
      ],
      "text/html": "<div>\n<style scoped>\n    .dataframe tbody tr th:only-of-type {\n        vertical-align: middle;\n    }\n\n    .dataframe tbody tr th {\n        vertical-align: top;\n    }\n\n    .dataframe thead th {\n        text-align: right;\n    }\n</style>\n<table border=\"1\" class=\"dataframe\">\n  <thead>\n    <tr style=\"text-align: right;\">\n      <th></th>\n      <th>Count</th>\n    </tr>\n  </thead>\n  <tbody>\n    <tr>\n      <th>0</th>\n      <td>4</td>\n    </tr>\n  </tbody>\n</table>\n</div>"
     },
     "metadata": {},
     "execution_count": 416
    }
   ],
   "source": [
    "con.execute( '''\n",
    "CREATE TABLE gr_mem as (\n",
    "    SELECT\n",
    "    DataCracy_role,\n",
    "    COUNT(real_name) as total_learner\n",
    "    FROM members_df\n",
    "    WHERE DataCracy_role LIKE 'Learner_Gr%'\n",
    "    group by DataCracy_role\n",
    ") '''\n",
    ").fetch_df()"
   ]
  },
  {
   "cell_type": "code",
   "execution_count": 430,
   "metadata": {},
   "outputs": [
    {
     "output_type": "stream",
     "name": "stdout",
     "text": [
      "Group có tỷ lệ % hoàn thành bài tập cao nhất:\n"
     ]
    },
    {
     "output_type": "execute_result",
     "data": {
      "text/plain": [
       "        channel_name DataCracy_role  submitted  total_learner  ratio_submit\n",
       "0   atom-assignment1    Learner_Gr3          9              9    100.000000\n",
       "1   atom-assignment2    Learner_Gr2          9              9    100.000000\n",
       "2   atom-assignment2    Learner_Gr3          8              9     88.888893\n",
       "3   atom-assignment3    Learner_Gr2          8              9     88.888893\n",
       "4   atom-assignment2    Learner_Gr4          8             10     80.000000\n",
       "5   atom-assignment3    Learner_Gr3          7              9     77.777779\n",
       "6   atom-assignment1    Learner_Gr4          7             10     70.000000\n",
       "7   atom-assignment3    Learner_Gr4          7             10     70.000000\n",
       "8   atom-assignment1    Learner_Gr2          6              9     66.666672\n",
       "9   atom-assignment1    Learner_Gr1          7             11     63.636364\n",
       "10  atom-assignment2    Learner_Gr1          7             11     63.636364\n",
       "11  atom-assignment3    Learner_Gr1          4             11     36.363636\n",
       "12  atom-assignment4    Learner_Gr3          1              9     11.111112\n",
       "13  atom-assignment4    Learner_Gr2          1              9     11.111112\n",
       "14  atom-assignment4    Learner_Gr4          1             10     10.000000"
      ],
      "text/html": "<div>\n<style scoped>\n    .dataframe tbody tr th:only-of-type {\n        vertical-align: middle;\n    }\n\n    .dataframe tbody tr th {\n        vertical-align: top;\n    }\n\n    .dataframe thead th {\n        text-align: right;\n    }\n</style>\n<table border=\"1\" class=\"dataframe\">\n  <thead>\n    <tr style=\"text-align: right;\">\n      <th></th>\n      <th>channel_name</th>\n      <th>DataCracy_role</th>\n      <th>submitted</th>\n      <th>total_learner</th>\n      <th>ratio_submit</th>\n    </tr>\n  </thead>\n  <tbody>\n    <tr>\n      <th>0</th>\n      <td>atom-assignment1</td>\n      <td>Learner_Gr3</td>\n      <td>9</td>\n      <td>9</td>\n      <td>100.000000</td>\n    </tr>\n    <tr>\n      <th>1</th>\n      <td>atom-assignment2</td>\n      <td>Learner_Gr2</td>\n      <td>9</td>\n      <td>9</td>\n      <td>100.000000</td>\n    </tr>\n    <tr>\n      <th>2</th>\n      <td>atom-assignment2</td>\n      <td>Learner_Gr3</td>\n      <td>8</td>\n      <td>9</td>\n      <td>88.888893</td>\n    </tr>\n    <tr>\n      <th>3</th>\n      <td>atom-assignment3</td>\n      <td>Learner_Gr2</td>\n      <td>8</td>\n      <td>9</td>\n      <td>88.888893</td>\n    </tr>\n    <tr>\n      <th>4</th>\n      <td>atom-assignment2</td>\n      <td>Learner_Gr4</td>\n      <td>8</td>\n      <td>10</td>\n      <td>80.000000</td>\n    </tr>\n    <tr>\n      <th>5</th>\n      <td>atom-assignment3</td>\n      <td>Learner_Gr3</td>\n      <td>7</td>\n      <td>9</td>\n      <td>77.777779</td>\n    </tr>\n    <tr>\n      <th>6</th>\n      <td>atom-assignment1</td>\n      <td>Learner_Gr4</td>\n      <td>7</td>\n      <td>10</td>\n      <td>70.000000</td>\n    </tr>\n    <tr>\n      <th>7</th>\n      <td>atom-assignment3</td>\n      <td>Learner_Gr4</td>\n      <td>7</td>\n      <td>10</td>\n      <td>70.000000</td>\n    </tr>\n    <tr>\n      <th>8</th>\n      <td>atom-assignment1</td>\n      <td>Learner_Gr2</td>\n      <td>6</td>\n      <td>9</td>\n      <td>66.666672</td>\n    </tr>\n    <tr>\n      <th>9</th>\n      <td>atom-assignment1</td>\n      <td>Learner_Gr1</td>\n      <td>7</td>\n      <td>11</td>\n      <td>63.636364</td>\n    </tr>\n    <tr>\n      <th>10</th>\n      <td>atom-assignment2</td>\n      <td>Learner_Gr1</td>\n      <td>7</td>\n      <td>11</td>\n      <td>63.636364</td>\n    </tr>\n    <tr>\n      <th>11</th>\n      <td>atom-assignment3</td>\n      <td>Learner_Gr1</td>\n      <td>4</td>\n      <td>11</td>\n      <td>36.363636</td>\n    </tr>\n    <tr>\n      <th>12</th>\n      <td>atom-assignment4</td>\n      <td>Learner_Gr3</td>\n      <td>1</td>\n      <td>9</td>\n      <td>11.111112</td>\n    </tr>\n    <tr>\n      <th>13</th>\n      <td>atom-assignment4</td>\n      <td>Learner_Gr2</td>\n      <td>1</td>\n      <td>9</td>\n      <td>11.111112</td>\n    </tr>\n    <tr>\n      <th>14</th>\n      <td>atom-assignment4</td>\n      <td>Learner_Gr4</td>\n      <td>1</td>\n      <td>10</td>\n      <td>10.000000</td>\n    </tr>\n  </tbody>\n</table>\n</div>"
     },
     "metadata": {},
     "execution_count": 430
    }
   ],
   "source": [
    "### 8. Learners theo Group nào có tỷ lệ % hoàn thành bài tập cao nhất?\n",
    "print ('Group có tỷ lệ % hoàn thành bài tập cao nhất:')\n",
    "SQL_8 = '''\n",
    "\n",
    "WITH gr_learner AS (\n",
    "SELECT\n",
    "  t1.*,\n",
    "  t2.total_learner\n",
    "FROM gr_done as t1\n",
    "JOIN gr_mem as t2\n",
    "ON t1.DataCracy_role = t2.DataCracy_role\n",
    ")\n",
    "SELECT *,\n",
    "    submitted / cast(total_learner as float) * 100 AS ratio_submit\n",
    "    FROM gr_learner\n",
    "    ORDER BY ratio_submit DESC\n",
    "'''\n",
    "con.execute(SQL_8).fetch_df()"
   ]
  },
  {
   "cell_type": "code",
   "execution_count": null,
   "metadata": {},
   "outputs": [],
   "source": []
  }
 ]
}
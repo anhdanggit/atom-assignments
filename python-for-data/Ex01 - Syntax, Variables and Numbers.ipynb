{
 "cells": [
  {
   "cell_type": "markdown",
   "metadata": {
    "_uuid": "6f776c0a7a1b5f5dff182fe32e0da17a2936220c"
   },
   "source": [
    "# Exercise 01 - Syntax, Variables and Numbers"
   ]
  },
  {
   "cell_type": "markdown",
   "metadata": {
    "_uuid": "313472bf1e8e8650066c4d2b480c4983c7170c36"
   },
   "source": [
    "Welcome to your first set of Python coding problems! \n",
    "\n",
    "**Notebooks** are composed of blocks (called \"cells\") of text and code. Each of these is editable, though you'll mainly be editing the code cells to answer some questions.\n",
    "\n",
    "To get started, try running the code cell below (by pressing the `►| Run` button, or clicking on the cell and pressing `ctrl+Enter`/`shift+Enter` on your keyboard)."
   ]
  },
  {
   "cell_type": "code",
   "execution_count": null,
   "metadata": {
    "_uuid": "1aca02cda819d5263cd81f4bbcfa2aaf8dc138d2"
   },
   "outputs": [],
   "source": [
    "print(\"You've successfully run some Python code\")\n",
    "print(\"Congratulations!\")"
   ]
  },
  {
   "cell_type": "markdown",
   "metadata": {
    "_uuid": "9b97ef75e9acabc1f847f6d0f06ab647a44fb3e0"
   },
   "source": [
    "Try adding another line of code in the cell above and re-running it. \n",
    "\n",
    "Now let's get a little fancier:  Add a new code cell by clicking on an existing code cell, hitting the `escape` key *(turn to command mode)*, and then hitting the `a` or `b` key.  \n",
    "- The `a` key will add a cell above the current cell.\n",
    "- The `b` adds a cell below.\n",
    "\n",
    "Great! Now you know how to use Notebooks."
   ]
  },
  {
   "cell_type": "markdown",
   "metadata": {
    "_uuid": "4cea9061fa5c20161f2c8c46dbd1a184512317e8"
   },
   "source": [
    "## 0. Creating a Variable\n",
    "\n",
    "**What is your favorite color? **\n",
    "\n",
    "To complete this question, create a variable called `color` in the cell below with an appropriate `string` value."
   ]
  },
  {
   "cell_type": "code",
   "execution_count": null,
   "metadata": {
    "_uuid": "ecfae4ce4c4494d4e1073da6f536f9295775ae77"
   },
   "outputs": [],
   "source": [
    "# Create a variable called color with an appropriate value on the line below\n",
    "# (Remember, strings in Python must be enclosed in 'single' or \"double\" quotes)\n",
    "\n"
   ]
  },
  {
   "cell_type": "markdown",
   "metadata": {
    "_uuid": "ebf3dd970265223ba1c5ae0c09f57a57451c8635"
   },
   "source": [
    "<hr/>\n",
    "\n",
    "## 1. Simple Arithmetic Operation\n",
    "\n",
    "Complete the code below. In case it's helpful, here is the table of available arithmatic operations:\n",
    "\n",
    "\n",
    "\n",
    "| Operator     | Name           | Description                                            |\n",
    "|--------------|----------------|--------------------------------------------------------|\n",
    "| ``a + b``    | Addition       | Sum of ``a`` and ``b``                                 |\n",
    "| ``a - b``    | Subtraction    | Difference of ``a`` and ``b``                          |\n",
    "| ``a * b``    | Multiplication | Product of ``a`` and ``b``                             |\n",
    "| ``a / b``    | True division  | Quotient of ``a`` and ``b``                            |\n",
    "| ``a // b``   | Floor division | Quotient of ``a`` and ``b``, removing fractional parts |\n",
    "| ``a % b``    | Modulus        | Integer remainder after division of ``a`` by ``b``     |\n",
    "| ``a ** b``   | Exponentiation | ``a`` raised to the power of ``b``                     |\n",
    "| ``-a``       | Negation       | The negative of ``a``                                  |\n",
    "\n",
    "<span style=\"display:none\"></span>\n"
   ]
  },
  {
   "cell_type": "code",
   "execution_count": null,
   "metadata": {
    "_uuid": "1aeec7bf0a7813aa00f8bc5587a3205dcc631f04"
   },
   "outputs": [],
   "source": [
    "pi = 3.14159 # approximate\n",
    "diameter = 3\n",
    "\n",
    "# Create a variable called 'radius' equal to half the diameter\n",
    "\n",
    "# Create a variable called 'area', using the formula for the area of a circle: pi times the radius squared\n"
   ]
  },
  {
   "cell_type": "markdown",
   "metadata": {},
   "source": [
    "**Results**:\n",
    "- Area = 7.0685775"
   ]
  },
  {
   "cell_type": "markdown",
   "metadata": {
    "_uuid": "cbeff112768642501fb0c3620228fefd18fd2757"
   },
   "source": [
    "## 2. Variable Reassignment\n",
    "\n",
    "Add code to the following cell to swap variables `a` and `b` (so that `a` refers to the object previously referred to by `b` and vice versa)."
   ]
  },
  {
   "cell_type": "code",
   "execution_count": null,
   "metadata": {
    "_uuid": "8aba488a5eff621ab69d89eab68d89aeecccd9e5"
   },
   "outputs": [],
   "source": [
    "# If you're curious, these are examples of lists. We'll talk about \n",
    "# them in depth a few lessons from now. For now, just know that they're\n",
    "# yet another type of Python object, like int or float.\n",
    "a = [1, 2, 3]\n",
    "b = [3, 2, 1]\n",
    "\n",
    "######################################################################\n",
    "\n",
    "# Your code goes here. Swap the values to which a and b refer.\n",
    "# Hint: Try using a third variable\n",
    "\n"
   ]
  },
  {
   "cell_type": "markdown",
   "metadata": {
    "_uuid": "afe12df4d86734e4ed08d112a18a0b71fd323d30"
   },
   "source": [
    "## 3. Order of Operations\n",
    "\n",
    "\n",
    "a) Add parentheses to the following expression so that it evaluates to 1.\n",
    "\n",
    "*Hint*: Following its default \"**PEMDAS**\"-like rules for order of operations, Python will first divide 3 by 2, then subtract the result from 5. You need to add parentheses to force it to perform the subtraction first."
   ]
  },
  {
   "cell_type": "code",
   "execution_count": null,
   "metadata": {
    "_uuid": "1e3cb6016456b82066cd39b0fd71257c4d127d07"
   },
   "outputs": [],
   "source": [
    "5 - 3 // 2"
   ]
  },
  {
   "cell_type": "markdown",
   "metadata": {
    "_uuid": "ab6535061e07d0b8bfcdbb9f7883a691078bab22"
   },
   "source": [
    "<small>Questions, like this one, marked a spicy pepper are a bit harder. Don't feel bad if you can't get these.</small>\n",
    "\n",
    "b) <span title=\"A bit spicy\" style=\"color: darkgreen \">🌶️</span> Add parentheses to the following expression so that it evaluates to **0**."
   ]
  },
  {
   "cell_type": "code",
   "execution_count": null,
   "metadata": {
    "_uuid": "e1dd7d9dd544f6e29f27379f8077170f0aa31a7c"
   },
   "outputs": [],
   "source": [
    "8 - 3 * 2 - 1 + 1"
   ]
  },
  {
   "cell_type": "markdown",
   "metadata": {
    "_uuid": "5ad71f1a4cdcaa3d18f5401503010076088ed1aa"
   },
   "source": [
    "## 4. Your Turn\n",
    "Alice, Bob and Carol have agreed to pool their Halloween candies and split it evenly among themselves.\n",
    "For the sake of their friendship, any candies left over will be smashed. For example, if they collectively\n",
    "bring home 91 candies, they'll take 30 each and smash 1.\n",
    "\n",
    "Write an arithmetic expression below to calculate how many candies they must smash for a given haul.\n",
    "\n",
    "> *Hint*: You'll probably want to use the modulo operator, `%`, to obtain the remainder of division."
   ]
  },
  {
   "cell_type": "code",
   "execution_count": 32,
   "metadata": {
    "_uuid": "01ed33d051d37c136ca53d7203fc350c4c1229db"
   },
   "outputs": [],
   "source": [
    "# Variables representing the number of candies collected by Alice, Bob, and Carol\n",
    "alice_candies = 121\n",
    "bob_candies = 77\n",
    "carol_candies = 109\n",
    "\n",
    "# Your code goes here! Replace the right-hand side of this assignment with an expression\n",
    "# involving alice_candies, bob_candies, and carol_candies\n",
    "to_smash = -1"
   ]
  },
  {
   "cell_type": "markdown",
   "metadata": {
    "_uuid": "0e80e6d2e40d572729fc91291f25fde2e7e9d4d5"
   },
   "source": [
    "# Keep Going 💪"
   ]
  }
 ],
 "metadata": {
  "kernelspec": {
   "display_name": "Python 3",
   "language": "python",
   "name": "python3"
  },
  "language_info": {
   "codemirror_mode": {
    "name": "ipython",
    "version": 3
   },
   "file_extension": ".py",
   "mimetype": "text/x-python",
   "name": "python",
   "nbconvert_exporter": "python",
   "pygments_lexer": "ipython3",
   "version": "3.6.5"
  },
  "learntools_metadata": {
   "lesson_index": 0,
   "type": "exercise"
  }
 },
 "nbformat": 4,
 "nbformat_minor": 1
}

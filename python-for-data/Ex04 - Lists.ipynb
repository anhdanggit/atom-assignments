{
 "cells": [
  {
   "cell_type": "markdown",
   "metadata": {
    "_uuid": "1a67880eb71b1350b7b1280a612430450082d4e9"
   },
   "source": [
    "# Exercises 04 - Lists"
   ]
  },
  {
   "cell_type": "markdown",
   "metadata": {
    "_uuid": "47f2a23f94e26e3a8b4d97dba00bfceb4c47c4fe"
   },
   "source": [
    "## 1. Second Element\n",
    "\n",
    "Complete the function below according to its docstring.\n",
    "\n",
    "*HINT*: Python starts counting at 0."
   ]
  },
  {
   "cell_type": "code",
   "execution_count": null,
   "metadata": {
    "_uuid": "0abcaf62d979ca49db3f5a6ffd53d3aa3f47772d"
   },
   "outputs": [],
   "source": [
    "def select_second(L):\n",
    "    \"\"\"Return the second element of the given list. \n",
    "    If the list has no second element, return None.\n",
    "    \"\"\"\n",
    "    pass"
   ]
  },
  {
   "cell_type": "markdown",
   "metadata": {
    "_uuid": "582c4e6ca2d9714e9eb780540c0cf3bab59c5eca"
   },
   "source": [
    "## 2. Captain of the Worst Team\n",
    "\n",
    "You are analyzing sports teams.  Members of each team are stored in a list. The **Coach** is the first name in the list, the **Captain** is the second name in the list, and other players are listed after that. \n",
    "These lists are stored in another list, which starts with the best team and proceeds through the list to the worst team last.  Complete the function below to select the **captain** of the worst team."
   ]
  },
  {
   "cell_type": "code",
   "execution_count": null,
   "metadata": {
    "_uuid": "9d3ff53f43d375faf107ec0d15778f1f9758b81a"
   },
   "outputs": [],
   "source": [
    "def losing_team_captain(teams):\n",
    "    \"\"\"Given a list of teams, where each team is a list of names, return the 2nd player (captain)\n",
    "    from the last listed team\n",
    "    \"\"\"\n",
    "    pass\n"
   ]
  },
  {
   "cell_type": "markdown",
   "metadata": {
    "_uuid": "e03348668601e4c4a73e49fea71f46a274c44c54"
   },
   "source": [
    "## 3. Purple Shell item\n",
    "\n",
    "The next iteration of Mario Kart will feature an extra-infuriating new item, the ***Purple Shell***. When used, it warps the last place racer into first place and the first place racer into last place. Complete the function below to implement the Purple Shell's effect."
   ]
  },
  {
   "cell_type": "code",
   "execution_count": null,
   "metadata": {
    "_uuid": "24a46b1ffedf35797fdddc1e394bfe1ae12d8c68"
   },
   "outputs": [],
   "source": [
    "def purple_shell(racers):\n",
    "    \"\"\"Given a list of racers, set the first place racer (at the front of the list) to last\n",
    "    place and vice versa.\n",
    "    \n",
    "    >>> r = [\"Mario\", \"Bowser\", \"Luigi\"]\n",
    "    >>> purple_shell(r)\n",
    "    >>> r\n",
    "    [\"Luigi\", \"Bowser\", \"Mario\"]\n",
    "    \"\"\"\n",
    "    pass\n",
    "\n"
   ]
  },
  {
   "cell_type": "markdown",
   "metadata": {
    "_uuid": "af48fc9e1e88852c0018e3b7132e8a223c41303c"
   },
   "source": [
    "## 4. Guess the Length!\n",
    "\n",
    "What are the lengths of the following lists? Fill in the variable `lengths` with your predictions. (Try to make a prediction for each list *without* just calling `len()` on it.)"
   ]
  },
  {
   "cell_type": "code",
   "execution_count": null,
   "metadata": {
    "_uuid": "c4a4fcf09f84c3f7c6cb5911b1aea5ce4bfe0f96"
   },
   "outputs": [],
   "source": [
    "a = [1, 2, 3]\n",
    "b = [1, [2, 3]]\n",
    "c = []\n",
    "d = [1, 2, 3][1:]\n",
    "\n",
    "# Put your predictions in the list below. Lengths should contain 4 numbers, the\n",
    "# first being the length of a, the second being the length of b and so on.\n",
    "lengths = []"
   ]
  },
  {
   "cell_type": "markdown",
   "metadata": {
    "_uuid": "deee98f41c11c20c366999414a20cbdbe347ac05"
   },
   "source": [
    "## 5. Fashionably Late <span title=\"A bit spicy\" style=\"color: darkgreen \">🌶️</span>\n",
    "\n",
    "We're using lists to record people who attended our party and what order they arrived in. For example, the following list represents a party with 7 guests, in which Adela showed up first and Ford was the last to arrive:\n",
    "\n",
    "    party_attendees = ['Adela', 'Fleda', 'Owen', 'May', 'Mona', 'Gilbert', 'Ford']\n",
    "\n",
    "A guest is considered **'fashionably late'** if they arrived after at least half of the party's guests. However, they must not be the very last guest (that's taking it too far). In the above example, Mona and Gilbert are the only guests who were fashionably late.\n",
    "\n",
    "Complete the function below which takes a list of party attendees as well as a person, and tells us whether that person is fashionably late."
   ]
  },
  {
   "cell_type": "code",
   "execution_count": null,
   "metadata": {
    "_uuid": "ce4940fda8abd40d9c360e5f19d759244644fed1"
   },
   "outputs": [],
   "source": [
    "def fashionably_late(arrivals, name):\n",
    "    \"\"\"Given an ordered list of arrivals to the party and a name, return whether the guest with that\n",
    "    name was fashionably late.\n",
    "    \"\"\"\n",
    "    pass"
   ]
  },
  {
   "cell_type": "markdown",
   "metadata": {
    "_uuid": "8ac91b9a71f70ebbcf6cca84722c5b590c62afba"
   },
   "source": [
    "\n",
    "# Keep Going 💪"
   ]
  }
 ],
 "metadata": {
  "kernelspec": {
   "display_name": "Python 3",
   "language": "python",
   "name": "python3"
  },
  "language_info": {
   "codemirror_mode": {
    "name": "ipython",
    "version": 3
   },
   "file_extension": ".py",
   "mimetype": "text/x-python",
   "name": "python",
   "nbconvert_exporter": "python",
   "pygments_lexer": "ipython3",
   "version": "3.6.5"
  },
  "learntools_metadata": {
   "lesson_index": 3,
   "type": "exercise"
  }
 },
 "nbformat": 4,
 "nbformat_minor": 1
}
